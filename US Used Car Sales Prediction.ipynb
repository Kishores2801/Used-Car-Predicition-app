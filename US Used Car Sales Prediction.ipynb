{
 "cells": [
  {
   "cell_type": "code",
   "execution_count": 1,
   "id": "02cc57c9",
   "metadata": {},
   "outputs": [],
   "source": [
    "# import Python packages\n",
    "import pandas as pd\n",
    "import numpy as np\n",
    "import matplotlib as mlp\n",
    "import matplotlib.pyplot as plt\n",
    "import seaborn as sns\n"
   ]
  },
  {
   "cell_type": "code",
   "execution_count": 2,
   "id": "ce60148d",
   "metadata": {},
   "outputs": [
    {
     "data": {
      "text/html": [
       "<div>\n",
       "<style scoped>\n",
       "    .dataframe tbody tr th:only-of-type {\n",
       "        vertical-align: middle;\n",
       "    }\n",
       "\n",
       "    .dataframe tbody tr th {\n",
       "        vertical-align: top;\n",
       "    }\n",
       "\n",
       "    .dataframe thead th {\n",
       "        text-align: right;\n",
       "    }\n",
       "</style>\n",
       "<table border=\"1\" class=\"dataframe\">\n",
       "  <thead>\n",
       "    <tr style=\"text-align: right;\">\n",
       "      <th></th>\n",
       "      <th>id</th>\n",
       "      <th>url</th>\n",
       "      <th>region</th>\n",
       "      <th>region_url</th>\n",
       "      <th>price</th>\n",
       "      <th>year</th>\n",
       "      <th>manufacturer</th>\n",
       "      <th>model</th>\n",
       "      <th>condition</th>\n",
       "      <th>cylinders</th>\n",
       "      <th>...</th>\n",
       "      <th>size</th>\n",
       "      <th>type</th>\n",
       "      <th>paint_color</th>\n",
       "      <th>image_url</th>\n",
       "      <th>description</th>\n",
       "      <th>county</th>\n",
       "      <th>state</th>\n",
       "      <th>lat</th>\n",
       "      <th>long</th>\n",
       "      <th>posting_date</th>\n",
       "    </tr>\n",
       "  </thead>\n",
       "  <tbody>\n",
       "    <tr>\n",
       "      <th>0</th>\n",
       "      <td>7222695916</td>\n",
       "      <td>https://prescott.craigslist.org/cto/d/prescott...</td>\n",
       "      <td>prescott</td>\n",
       "      <td>https://prescott.craigslist.org</td>\n",
       "      <td>6000</td>\n",
       "      <td>NaN</td>\n",
       "      <td>NaN</td>\n",
       "      <td>NaN</td>\n",
       "      <td>NaN</td>\n",
       "      <td>NaN</td>\n",
       "      <td>...</td>\n",
       "      <td>NaN</td>\n",
       "      <td>NaN</td>\n",
       "      <td>NaN</td>\n",
       "      <td>NaN</td>\n",
       "      <td>NaN</td>\n",
       "      <td>NaN</td>\n",
       "      <td>az</td>\n",
       "      <td>NaN</td>\n",
       "      <td>NaN</td>\n",
       "      <td>NaN</td>\n",
       "    </tr>\n",
       "    <tr>\n",
       "      <th>1</th>\n",
       "      <td>7218891961</td>\n",
       "      <td>https://fayar.craigslist.org/ctd/d/bentonville...</td>\n",
       "      <td>fayetteville</td>\n",
       "      <td>https://fayar.craigslist.org</td>\n",
       "      <td>11900</td>\n",
       "      <td>NaN</td>\n",
       "      <td>NaN</td>\n",
       "      <td>NaN</td>\n",
       "      <td>NaN</td>\n",
       "      <td>NaN</td>\n",
       "      <td>...</td>\n",
       "      <td>NaN</td>\n",
       "      <td>NaN</td>\n",
       "      <td>NaN</td>\n",
       "      <td>NaN</td>\n",
       "      <td>NaN</td>\n",
       "      <td>NaN</td>\n",
       "      <td>ar</td>\n",
       "      <td>NaN</td>\n",
       "      <td>NaN</td>\n",
       "      <td>NaN</td>\n",
       "    </tr>\n",
       "    <tr>\n",
       "      <th>2</th>\n",
       "      <td>7221797935</td>\n",
       "      <td>https://keys.craigslist.org/cto/d/summerland-k...</td>\n",
       "      <td>florida keys</td>\n",
       "      <td>https://keys.craigslist.org</td>\n",
       "      <td>21000</td>\n",
       "      <td>NaN</td>\n",
       "      <td>NaN</td>\n",
       "      <td>NaN</td>\n",
       "      <td>NaN</td>\n",
       "      <td>NaN</td>\n",
       "      <td>...</td>\n",
       "      <td>NaN</td>\n",
       "      <td>NaN</td>\n",
       "      <td>NaN</td>\n",
       "      <td>NaN</td>\n",
       "      <td>NaN</td>\n",
       "      <td>NaN</td>\n",
       "      <td>fl</td>\n",
       "      <td>NaN</td>\n",
       "      <td>NaN</td>\n",
       "      <td>NaN</td>\n",
       "    </tr>\n",
       "    <tr>\n",
       "      <th>3</th>\n",
       "      <td>7222270760</td>\n",
       "      <td>https://worcester.craigslist.org/cto/d/west-br...</td>\n",
       "      <td>worcester / central MA</td>\n",
       "      <td>https://worcester.craigslist.org</td>\n",
       "      <td>1500</td>\n",
       "      <td>NaN</td>\n",
       "      <td>NaN</td>\n",
       "      <td>NaN</td>\n",
       "      <td>NaN</td>\n",
       "      <td>NaN</td>\n",
       "      <td>...</td>\n",
       "      <td>NaN</td>\n",
       "      <td>NaN</td>\n",
       "      <td>NaN</td>\n",
       "      <td>NaN</td>\n",
       "      <td>NaN</td>\n",
       "      <td>NaN</td>\n",
       "      <td>ma</td>\n",
       "      <td>NaN</td>\n",
       "      <td>NaN</td>\n",
       "      <td>NaN</td>\n",
       "    </tr>\n",
       "    <tr>\n",
       "      <th>4</th>\n",
       "      <td>7210384030</td>\n",
       "      <td>https://greensboro.craigslist.org/cto/d/trinit...</td>\n",
       "      <td>greensboro</td>\n",
       "      <td>https://greensboro.craigslist.org</td>\n",
       "      <td>4900</td>\n",
       "      <td>NaN</td>\n",
       "      <td>NaN</td>\n",
       "      <td>NaN</td>\n",
       "      <td>NaN</td>\n",
       "      <td>NaN</td>\n",
       "      <td>...</td>\n",
       "      <td>NaN</td>\n",
       "      <td>NaN</td>\n",
       "      <td>NaN</td>\n",
       "      <td>NaN</td>\n",
       "      <td>NaN</td>\n",
       "      <td>NaN</td>\n",
       "      <td>nc</td>\n",
       "      <td>NaN</td>\n",
       "      <td>NaN</td>\n",
       "      <td>NaN</td>\n",
       "    </tr>\n",
       "  </tbody>\n",
       "</table>\n",
       "<p>5 rows × 26 columns</p>\n",
       "</div>"
      ],
      "text/plain": [
       "           id                                                url  \\\n",
       "0  7222695916  https://prescott.craigslist.org/cto/d/prescott...   \n",
       "1  7218891961  https://fayar.craigslist.org/ctd/d/bentonville...   \n",
       "2  7221797935  https://keys.craigslist.org/cto/d/summerland-k...   \n",
       "3  7222270760  https://worcester.craigslist.org/cto/d/west-br...   \n",
       "4  7210384030  https://greensboro.craigslist.org/cto/d/trinit...   \n",
       "\n",
       "                   region                         region_url  price  year  \\\n",
       "0                prescott    https://prescott.craigslist.org   6000   NaN   \n",
       "1            fayetteville       https://fayar.craigslist.org  11900   NaN   \n",
       "2            florida keys        https://keys.craigslist.org  21000   NaN   \n",
       "3  worcester / central MA   https://worcester.craigslist.org   1500   NaN   \n",
       "4              greensboro  https://greensboro.craigslist.org   4900   NaN   \n",
       "\n",
       "  manufacturer model condition cylinders  ... size  type paint_color  \\\n",
       "0          NaN   NaN       NaN       NaN  ...  NaN   NaN         NaN   \n",
       "1          NaN   NaN       NaN       NaN  ...  NaN   NaN         NaN   \n",
       "2          NaN   NaN       NaN       NaN  ...  NaN   NaN         NaN   \n",
       "3          NaN   NaN       NaN       NaN  ...  NaN   NaN         NaN   \n",
       "4          NaN   NaN       NaN       NaN  ...  NaN   NaN         NaN   \n",
       "\n",
       "  image_url description county state lat long posting_date  \n",
       "0       NaN         NaN    NaN    az NaN  NaN          NaN  \n",
       "1       NaN         NaN    NaN    ar NaN  NaN          NaN  \n",
       "2       NaN         NaN    NaN    fl NaN  NaN          NaN  \n",
       "3       NaN         NaN    NaN    ma NaN  NaN          NaN  \n",
       "4       NaN         NaN    NaN    nc NaN  NaN          NaN  \n",
       "\n",
       "[5 rows x 26 columns]"
      ]
     },
     "execution_count": 2,
     "metadata": {},
     "output_type": "execute_result"
    }
   ],
   "source": [
    "# Loading the dataset\n",
    "Cars_df=pd.read_csv(\"D:/Studies/My Projects/Data Science/Car Prediction/Data/vehicles.csv\")\n",
    "Cars_df.head()"
   ]
  },
  {
   "cell_type": "code",
   "execution_count": 3,
   "id": "0dc9f6f5",
   "metadata": {},
   "outputs": [
    {
     "name": "stdout",
     "output_type": "stream",
     "text": [
      "This Dataset 426880 Rows and 26 columns\n"
     ]
    }
   ],
   "source": [
    "# checking for no rows, columns\n",
    "print(\"This Dataset {} Rows and {} columns\".format(Cars_df.shape[0],Cars_df.shape[1]))"
   ]
  },
  {
   "cell_type": "code",
   "execution_count": 4,
   "id": "8b0c3842",
   "metadata": {},
   "outputs": [
    {
     "name": "stdout",
     "output_type": "stream",
     "text": [
      "<class 'pandas.core.frame.DataFrame'>\n",
      "RangeIndex: 426880 entries, 0 to 426879\n",
      "Data columns (total 26 columns):\n",
      " #   Column        Non-Null Count   Dtype  \n",
      "---  ------        --------------   -----  \n",
      " 0   id            426880 non-null  int64  \n",
      " 1   url           426880 non-null  object \n",
      " 2   region        426880 non-null  object \n",
      " 3   region_url    426880 non-null  object \n",
      " 4   price         426880 non-null  int64  \n",
      " 5   year          425675 non-null  float64\n",
      " 6   manufacturer  409234 non-null  object \n",
      " 7   model         421603 non-null  object \n",
      " 8   condition     252776 non-null  object \n",
      " 9   cylinders     249202 non-null  object \n",
      " 10  fuel          423867 non-null  object \n",
      " 11  odometer      422480 non-null  float64\n",
      " 12  title_status  418638 non-null  object \n",
      " 13  transmission  424324 non-null  object \n",
      " 14  VIN           265838 non-null  object \n",
      " 15  drive         296313 non-null  object \n",
      " 16  size          120519 non-null  object \n",
      " 17  type          334022 non-null  object \n",
      " 18  paint_color   296677 non-null  object \n",
      " 19  image_url     426812 non-null  object \n",
      " 20  description   426810 non-null  object \n",
      " 21  county        0 non-null       float64\n",
      " 22  state         426880 non-null  object \n",
      " 23  lat           420331 non-null  float64\n",
      " 24  long          420331 non-null  float64\n",
      " 25  posting_date  426812 non-null  object \n",
      "dtypes: float64(5), int64(2), object(19)\n",
      "memory usage: 84.7+ MB\n"
     ]
    }
   ],
   "source": [
    "# printing the full summary of dataset\n",
    "Cars_df.info()"
   ]
  },
  {
   "cell_type": "code",
   "execution_count": 5,
   "id": "78d70072",
   "metadata": {
    "scrolled": true
   },
   "outputs": [
    {
     "data": {
      "text/plain": [
       "array([nan, 'gmc', 'chevrolet', 'toyota', 'ford', 'jeep', 'nissan', 'ram',\n",
       "       'mazda', 'cadillac', 'honda', 'dodge', 'lexus', 'jaguar', 'buick',\n",
       "       'chrysler', 'volvo', 'audi', 'infiniti', 'lincoln', 'alfa-romeo',\n",
       "       'subaru', 'acura', 'hyundai', 'mercedes-benz', 'bmw', 'mitsubishi',\n",
       "       'volkswagen', 'porsche', 'kia', 'rover', 'ferrari', 'mini',\n",
       "       'pontiac', 'fiat', 'tesla', 'saturn', 'mercury', 'harley-davidson',\n",
       "       'datsun', 'aston-martin', 'land rover', 'morgan'], dtype=object)"
      ]
     },
     "execution_count": 5,
     "metadata": {},
     "output_type": "execute_result"
    }
   ],
   "source": [
    "# checking the no of unique values for manufacturer\n",
    "Cars_df['manufacturer'].unique()"
   ]
  },
  {
   "cell_type": "code",
   "execution_count": 6,
   "id": "ed34fa54",
   "metadata": {
    "scrolled": true
   },
   "outputs": [
    {
     "data": {
      "text/plain": [
       "array([nan, 'sierra 1500 crew cab slt', 'silverado 1500', ...,\n",
       "       'gand wagoneer', '96 Suburban', 'Paige Glenbrook Touring'],\n",
       "      dtype=object)"
      ]
     },
     "execution_count": 6,
     "metadata": {},
     "output_type": "execute_result"
    }
   ],
   "source": [
    "# Checking for Unique Values\n",
    "Cars_df[\"model\"].unique()"
   ]
  },
  {
   "cell_type": "code",
   "execution_count": 7,
   "id": "1ca930cb",
   "metadata": {},
   "outputs": [
    {
     "data": {
      "text/plain": [
       "29667"
      ]
     },
     "execution_count": 7,
     "metadata": {},
     "output_type": "execute_result"
    }
   ],
   "source": [
    "# Checking for count of Unique Values\n",
    "Cars_df[\"model\"].nunique()"
   ]
  },
  {
   "cell_type": "code",
   "execution_count": 8,
   "id": "740108f2",
   "metadata": {},
   "outputs": [
    {
     "data": {
      "text/plain": [
       "array([nan, 'good', 'excellent', 'fair', 'like new', 'new', 'salvage'],\n",
       "      dtype=object)"
      ]
     },
     "execution_count": 8,
     "metadata": {},
     "output_type": "execute_result"
    }
   ],
   "source": [
    "# Checking for Unique Values for conditions\n",
    "Cars_df[\"condition\"].unique()"
   ]
  },
  {
   "cell_type": "code",
   "execution_count": 9,
   "id": "431357a0",
   "metadata": {},
   "outputs": [
    {
     "data": {
      "text/plain": [
       "array([nan, '8 cylinders', '6 cylinders', '4 cylinders', '5 cylinders',\n",
       "       'other', '3 cylinders', '10 cylinders', '12 cylinders'],\n",
       "      dtype=object)"
      ]
     },
     "execution_count": 9,
     "metadata": {},
     "output_type": "execute_result"
    }
   ],
   "source": [
    "# Checking for Unique Values for cylinders\n",
    "Cars_df[\"cylinders\"].unique()"
   ]
  },
  {
   "cell_type": "code",
   "execution_count": 10,
   "id": "a455debd",
   "metadata": {},
   "outputs": [
    {
     "data": {
      "text/plain": [
       "array([nan, 'gas', 'other', 'diesel', 'hybrid', 'electric'], dtype=object)"
      ]
     },
     "execution_count": 10,
     "metadata": {},
     "output_type": "execute_result"
    }
   ],
   "source": [
    "# checking for Unique values for fuel\n",
    "Cars_df[\"fuel\"].unique()"
   ]
  },
  {
   "cell_type": "code",
   "execution_count": 11,
   "id": "8d96e53a",
   "metadata": {},
   "outputs": [
    {
     "data": {
      "text/plain": [
       "array([    nan,  57923.,  71229., ..., 172511.,  94964.,  26892.])"
      ]
     },
     "execution_count": 11,
     "metadata": {},
     "output_type": "execute_result"
    }
   ],
   "source": [
    "# checking for unique values for odometer\n",
    "Cars_df[\"odometer\"].unique()"
   ]
  },
  {
   "cell_type": "code",
   "execution_count": 12,
   "id": "b2f9047a",
   "metadata": {},
   "outputs": [
    {
     "data": {
      "text/plain": [
       "array([nan, 'clean', 'rebuilt', 'lien', 'salvage', 'missing',\n",
       "       'parts only'], dtype=object)"
      ]
     },
     "execution_count": 12,
     "metadata": {},
     "output_type": "execute_result"
    }
   ],
   "source": [
    "# checking for unique values for title_status  \n",
    "Cars_df[\"title_status\"].unique()"
   ]
  },
  {
   "cell_type": "code",
   "execution_count": 13,
   "id": "e4204b64",
   "metadata": {},
   "outputs": [
    {
     "data": {
      "text/plain": [
       "array([nan, '3GTP1VEC4EG551563', '1GCSCSE06AZ123805', ...,\n",
       "       '2HGES15535H620534', '1FDWF37P64EA24868', 'SAJGX2749VCOO8376'],\n",
       "      dtype=object)"
      ]
     },
     "execution_count": 13,
     "metadata": {},
     "output_type": "execute_result"
    }
   ],
   "source": [
    "# checking for unique values for drive\n",
    "Cars_df[\"VIN\"].unique()"
   ]
  },
  {
   "cell_type": "code",
   "execution_count": 14,
   "id": "32dd83b9",
   "metadata": {},
   "outputs": [
    {
     "data": {
      "text/plain": [
       "array([nan, 'rwd', '4wd', 'fwd'], dtype=object)"
      ]
     },
     "execution_count": 14,
     "metadata": {},
     "output_type": "execute_result"
    }
   ],
   "source": [
    "# checking for unique values for drive\n",
    "Cars_df[\"drive\"].unique()"
   ]
  },
  {
   "cell_type": "code",
   "execution_count": 15,
   "id": "e3d45d3e",
   "metadata": {},
   "outputs": [
    {
     "data": {
      "text/plain": [
       "array([nan, 'full-size', 'mid-size', 'compact', 'sub-compact'],\n",
       "      dtype=object)"
      ]
     },
     "execution_count": 15,
     "metadata": {},
     "output_type": "execute_result"
    }
   ],
   "source": [
    "# checking for unique values for size.\n",
    "Cars_df[\"size\"].unique()"
   ]
  },
  {
   "cell_type": "code",
   "execution_count": 16,
   "id": "1a93c2ba",
   "metadata": {},
   "outputs": [
    {
     "data": {
      "text/plain": [
       "array([nan, 'pickup', 'truck', 'other', 'coupe', 'SUV', 'hatchback',\n",
       "       'mini-van', 'sedan', 'offroad', 'bus', 'van', 'convertible',\n",
       "       'wagon'], dtype=object)"
      ]
     },
     "execution_count": 16,
     "metadata": {},
     "output_type": "execute_result"
    }
   ],
   "source": [
    "# checking for unique values for type.\n",
    "Cars_df[\"type\"].unique()\n",
    "#Cars_df[\"type\"].isnull().sum()"
   ]
  },
  {
   "cell_type": "code",
   "execution_count": 17,
   "id": "4110cac5",
   "metadata": {},
   "outputs": [
    {
     "data": {
      "text/plain": [
       "array([nan, 'white', 'blue', 'red', 'black', 'silver', 'grey', 'brown',\n",
       "       'yellow', 'orange', 'green', 'custom', 'purple'], dtype=object)"
      ]
     },
     "execution_count": 17,
     "metadata": {},
     "output_type": "execute_result"
    }
   ],
   "source": [
    "# checking for unique values for paint_color   .\n",
    "Cars_df[\"paint_color\"].unique()"
   ]
  },
  {
   "cell_type": "markdown",
   "id": "eb17b4af",
   "metadata": {},
   "source": [
    "## Cleaning Dataset based on features\n",
    "\n",
    "Here are the notes for cleaning which shoule be considered when cleaning.\n",
    "- on the Manufacturer column we can see NAN Values. (Dropping those Values since there is no ways getting those values)\n",
    "- on the  value for price drop if it is 0 (first replace with NP.nan and remove those values)\n",
    "- on the Model Column we can see NAN Values Dropping those Values since there is no ways getting those values)\n",
    "- There are almost 30000 unique values,so we have to find a way reduce those no of unique values as first stage we will trt split the Model into core model by considering first two words.\n",
    "- Np.Nan can be adjusted based on number of years if the car is 0-2 \"excellent\" 3-6 to \"fair\", 7-12 to \"Good\" & more than 12 \"salvage\"\n",
    "- \"Vintage\" car condition is if they manufactured year in between 1919 to 1930.\n",
    "- \"Antique\" car condition is if they manufactured year in between 1975 or earlier upto 1930.\n",
    "- \"Classic\" car condition is if they are Manufactred year is 2000 or earlier upto 1975.\n",
    "- remove the np.nan values in cylinder, other.\n",
    "- remove the \"np.nan\" values in fuel remove other.\n",
    "- remove the \"np.nan\" in odometer\n",
    "- remove the \"np.nan\" in Title status\n",
    "- Drop the VIN number form dataframe (Reason for droping will not help for prediction since all the VIN Values are unique for each cars \"17-digit code of letters and numbers that identifies a car uniquely and is assigned at the time a vehicle is manufactured\")\n",
    "- Remove the \"np.nan\" values for drive.\n",
    "- Drop the size column.\n",
    "- Remove the \"np.nan\" values for type.\n",
    "- replace the \"np.nan\" values with maximum.\n",
    "- drop image url drop description columns from dataframe.\n",
    "- drop county column since there is no value on that.\n",
    "- for state Column replace the short name with full name.\n",
    "- drop lat long columns (we can use to create map with folium based on position)\n",
    "- Posting date should can be used for creating line chart for understanding when they are selling more cars. drop them after that"
   ]
  },
  {
   "cell_type": "markdown",
   "id": "75b8e304",
   "metadata": {},
   "source": [
    "After cleaning we can expect arround 200 to 250k of cleaned data points for EDA."
   ]
  },
  {
   "cell_type": "code",
   "execution_count": 18,
   "id": "5461cfa9",
   "metadata": {},
   "outputs": [],
   "source": [
    "# Getting a backup of dataframe before data manipulation\n",
    "Backup=Cars_df.copy()"
   ]
  },
  {
   "cell_type": "code",
   "execution_count": 19,
   "id": "5ab54b5f",
   "metadata": {},
   "outputs": [
    {
     "data": {
      "text/plain": [
       "id                   0\n",
       "url                  0\n",
       "region               0\n",
       "region_url           0\n",
       "price                0\n",
       "year              1205\n",
       "manufacturer     17646\n",
       "model             5277\n",
       "condition       174104\n",
       "cylinders       177678\n",
       "fuel              3013\n",
       "odometer          4400\n",
       "title_status      8242\n",
       "transmission      2556\n",
       "VIN             161042\n",
       "drive           130567\n",
       "size            306361\n",
       "type             92858\n",
       "paint_color     130203\n",
       "image_url           68\n",
       "description         70\n",
       "county          426880\n",
       "state                0\n",
       "lat               6549\n",
       "long              6549\n",
       "posting_date        68\n",
       "dtype: int64"
      ]
     },
     "execution_count": 19,
     "metadata": {},
     "output_type": "execute_result"
    }
   ],
   "source": [
    "# Checking for total no of null values in full dataset\n",
    "Cars_df.isnull().sum()"
   ]
  },
  {
   "cell_type": "markdown",
   "id": "49679ec9",
   "metadata": {},
   "source": [
    "### Dropping columns from DataFrame\n",
    "\n",
    "We are dropping following features from the dataframe & Reasons\n",
    "\n",
    " - For First Round we are going to cleanout following columns\n",
    "     - VIN Column - VIN is a unique key number given for each car by manufacturer, so it cannot be used as a feature for prediction.\n",
    "     - url for link ad \n",
    "     - Region_url\n",
    "     - Droping model\n",
    "     - County column - This column is fully empty so we should remove those\n",
    "     - size column - This column has 75% of values null.\n",
    "     - Description - Not required\n",
    "     - lat - not Required\n",
    "     - Long - not Required\n",
    "     - Image Url - Not required\n",
    "     "
   ]
  },
  {
   "cell_type": "code",
   "execution_count": 20,
   "id": "4335d354",
   "metadata": {},
   "outputs": [
    {
     "name": "stdout",
     "output_type": "stream",
     "text": [
      "<class 'pandas.core.frame.DataFrame'>\n",
      "RangeIndex: 426880 entries, 0 to 426879\n",
      "Data columns (total 16 columns):\n",
      " #   Column        Non-Null Count   Dtype  \n",
      "---  ------        --------------   -----  \n",
      " 0   id            426880 non-null  int64  \n",
      " 1   region        426880 non-null  object \n",
      " 2   price         426880 non-null  int64  \n",
      " 3   year          425675 non-null  float64\n",
      " 4   manufacturer  409234 non-null  object \n",
      " 5   model         421603 non-null  object \n",
      " 6   condition     252776 non-null  object \n",
      " 7   cylinders     249202 non-null  object \n",
      " 8   fuel          423867 non-null  object \n",
      " 9   odometer      422480 non-null  float64\n",
      " 10  title_status  418638 non-null  object \n",
      " 11  transmission  424324 non-null  object \n",
      " 12  drive         296313 non-null  object \n",
      " 13  type          334022 non-null  object \n",
      " 14  state         426880 non-null  object \n",
      " 15  posting_date  426812 non-null  object \n",
      "dtypes: float64(2), int64(2), object(12)\n",
      "memory usage: 52.1+ MB\n"
     ]
    }
   ],
   "source": [
    "# to remove columns df.drop([\"XXX\"],axis=1)\n",
    "Cars_df=Cars_df.drop([\"url\", \"region_url\",\"VIN\", \"county\", \"size\", \"description\",\"lat\", \"long\", \n",
    "                      \"image_url\", \"paint_color\",\"posting_date\", \"region\", ], axis=1)\n",
    "\n",
    "\n",
    "Cars_df.info()"
   ]
  },
  {
   "cell_type": "code",
   "execution_count": 21,
   "id": "26a84af6",
   "metadata": {},
   "outputs": [
    {
     "data": {
      "text/plain": [
       "299648"
      ]
     },
     "execution_count": 21,
     "metadata": {},
     "output_type": "execute_result"
    }
   ],
   "source": [
    "#checking for possible dropout values \n",
    "Cars_df.isnull().any(axis=1).sum()"
   ]
  },
  {
   "cell_type": "markdown",
   "id": "7087b16f",
   "metadata": {},
   "source": [
    "### Removing np.nan values from dataframe."
   ]
  },
  {
   "cell_type": "code",
   "execution_count": 22,
   "id": "2413729f",
   "metadata": {},
   "outputs": [
    {
     "data": {
      "text/plain": [
       "32895"
      ]
     },
     "execution_count": 22,
     "metadata": {},
     "output_type": "execute_result"
    }
   ],
   "source": [
    "# Price\n",
    "# replacing the zero value to Np.nan, because the if the price is zero it means it is free for sales.\n",
    "Cars_df[\"price\"].replace(0,np.nan, inplace=True)\n",
    "Cars_df[\"price\"].isnull().sum()"
   ]
  },
  {
   "cell_type": "code",
   "execution_count": 23,
   "id": "a9f273dc",
   "metadata": {},
   "outputs": [],
   "source": [
    "# Dropping the null value from prices\n",
    "Cars_df.dropna(subset=[\"price\"], inplace=True)"
   ]
  },
  {
   "cell_type": "code",
   "execution_count": 24,
   "id": "34b62979",
   "metadata": {},
   "outputs": [
    {
     "data": {
      "text/plain": [
       "0"
      ]
     },
     "execution_count": 24,
     "metadata": {},
     "output_type": "execute_result"
    }
   ],
   "source": [
    "Cars_df[\"price\"].isnull().sum()"
   ]
  },
  {
   "cell_type": "code",
   "execution_count": 25,
   "id": "43232562",
   "metadata": {},
   "outputs": [
    {
     "name": "stdout",
     "output_type": "stream",
     "text": [
      "<class 'pandas.core.frame.DataFrame'>\n",
      "Int64Index: 393985 entries, 0 to 426879\n",
      "Data columns (total 16 columns):\n",
      " #   Column        Non-Null Count   Dtype  \n",
      "---  ------        --------------   -----  \n",
      " 0   id            393985 non-null  int64  \n",
      " 1   region        393985 non-null  object \n",
      " 2   price         393985 non-null  float64\n",
      " 3   year          392812 non-null  float64\n",
      " 4   manufacturer  377800 non-null  object \n",
      " 5   model         389284 non-null  object \n",
      " 6   condition     242596 non-null  object \n",
      " 7   cylinders     233575 non-null  object \n",
      " 8   fuel          391391 non-null  object \n",
      " 9   odometer      391695 non-null  float64\n",
      " 10  title_status  386251 non-null  object \n",
      " 11  transmission  392162 non-null  object \n",
      " 12  drive         273731 non-null  object \n",
      " 13  type          308053 non-null  object \n",
      " 14  state         393985 non-null  object \n",
      " 15  posting_date  393923 non-null  object \n",
      "dtypes: float64(3), int64(1), object(12)\n",
      "memory usage: 51.1+ MB\n"
     ]
    }
   ],
   "source": [
    "Cars_df.info()"
   ]
  },
  {
   "cell_type": "code",
   "execution_count": 26,
   "id": "8286e0f6",
   "metadata": {},
   "outputs": [],
   "source": [
    "# dropping null values form Year\n",
    "Cars_df.dropna(subset=[\"year\"], inplace=True)"
   ]
  },
  {
   "cell_type": "code",
   "execution_count": 27,
   "id": "e625ffa6",
   "metadata": {},
   "outputs": [
    {
     "name": "stdout",
     "output_type": "stream",
     "text": [
      "<class 'pandas.core.frame.DataFrame'>\n",
      "Int64Index: 377796 entries, 27 to 426879\n",
      "Data columns (total 16 columns):\n",
      " #   Column        Non-Null Count   Dtype  \n",
      "---  ------        --------------   -----  \n",
      " 0   id            377796 non-null  int64  \n",
      " 1   region        377796 non-null  object \n",
      " 2   price         377796 non-null  float64\n",
      " 3   year          377796 non-null  float64\n",
      " 4   manufacturer  377796 non-null  object \n",
      " 5   model         373157 non-null  object \n",
      " 6   condition     232120 non-null  object \n",
      " 7   cylinders     224296 non-null  object \n",
      " 8   fuel          375629 non-null  object \n",
      " 9   odometer      375619 non-null  float64\n",
      " 10  title_status  370522 non-null  object \n",
      " 11  transmission  376093 non-null  object \n",
      " 12  drive         263870 non-null  object \n",
      " 13  type          297464 non-null  object \n",
      " 14  state         377796 non-null  object \n",
      " 15  posting_date  377796 non-null  object \n",
      "dtypes: float64(3), int64(1), object(12)\n",
      "memory usage: 49.0+ MB\n"
     ]
    }
   ],
   "source": [
    "# dropping null values form manufacturer\n",
    "Cars_df.dropna(subset=[\"manufacturer\"], inplace=True)\n",
    "Cars_df.info()"
   ]
  },
  {
   "cell_type": "code",
   "execution_count": 28,
   "id": "c404f5f2",
   "metadata": {},
   "outputs": [
    {
     "data": {
      "text/plain": [
       "27         8\n",
       "28        12\n",
       "29         2\n",
       "30         5\n",
       "31         9\n",
       "          ..\n",
       "426875     3\n",
       "426876     2\n",
       "426877     2\n",
       "426878     4\n",
       "426879     3\n",
       "Name: years_used, Length: 377796, dtype: int32"
      ]
     },
     "execution_count": 28,
     "metadata": {},
     "output_type": "execute_result"
    }
   ],
   "source": [
    "# Replacing conditions null value with following Criteria\n",
    "# Np.Nan can be adjusted based on number of years if the car is \n",
    "#0-2 \"excellent\" 3-6 to \"Good\", 7-12 to \"fair\" & more than 12 \"salvage\"\n",
    "\n",
    "Cars_df[\"years_used\"]=2022-Cars_df[\"year\"]\n",
    "Cars_df[\"years_used\"].head()\n",
    "Cars_df[\"years_used\"].astype(int)"
   ]
  },
  {
   "cell_type": "code",
   "execution_count": 29,
   "id": "9a406f75",
   "metadata": {},
   "outputs": [],
   "source": [
    "# changing null value in condition to years used.\n",
    "\n",
    "m1 = (Cars_df[\"condition\"].isnull()) & (Cars_df[\"years_used\"]<=2)\n",
    "m2 = (Cars_df[\"condition\"].isnull()) & (Cars_df[\"years_used\"]>=3) & (Cars_df[\"years_used\"]<=6)\n",
    "m3 = (Cars_df[\"condition\"].isnull()) & (Cars_df[\"years_used\"]>=7) & (Cars_df[\"years_used\"]<=12)\n",
    "m4 = (Cars_df[\"condition\"].isnull()) & (Cars_df[\"years_used\"]>12)\n",
    "\n",
    "\n",
    "Cars_df.loc[m1, \"condition\"]=\"excellent\"\n",
    "Cars_df.loc[m2, \"condition\"]=\"good\"\n",
    "Cars_df.loc[m3, \"condition\"]=\"fair\"\n",
    "Cars_df.loc[m4, \"condition\"]=\"salvage\""
   ]
  },
  {
   "cell_type": "code",
   "execution_count": 30,
   "id": "3fc4b3b9",
   "metadata": {},
   "outputs": [
    {
     "data": {
      "text/plain": [
       "array(['good', 'excellent', 'fair', 'salvage', 'like new', 'new'],\n",
       "      dtype=object)"
      ]
     },
     "execution_count": 30,
     "metadata": {},
     "output_type": "execute_result"
    }
   ],
   "source": [
    "Cars_df[\"condition\"].unique()"
   ]
  },
  {
   "cell_type": "code",
   "execution_count": 31,
   "id": "4260efbc",
   "metadata": {},
   "outputs": [
    {
     "name": "stdout",
     "output_type": "stream",
     "text": [
      "<class 'pandas.core.frame.DataFrame'>\n",
      "Int64Index: 377796 entries, 27 to 426879\n",
      "Data columns (total 17 columns):\n",
      " #   Column        Non-Null Count   Dtype  \n",
      "---  ------        --------------   -----  \n",
      " 0   id            377796 non-null  int64  \n",
      " 1   region        377796 non-null  object \n",
      " 2   price         377796 non-null  float64\n",
      " 3   year          377796 non-null  float64\n",
      " 4   manufacturer  377796 non-null  object \n",
      " 5   model         373157 non-null  object \n",
      " 6   condition     377796 non-null  object \n",
      " 7   cylinders     224296 non-null  object \n",
      " 8   fuel          375629 non-null  object \n",
      " 9   odometer      375619 non-null  float64\n",
      " 10  title_status  370522 non-null  object \n",
      " 11  transmission  376093 non-null  object \n",
      " 12  drive         263870 non-null  object \n",
      " 13  type          297464 non-null  object \n",
      " 14  state         377796 non-null  object \n",
      " 15  posting_date  377796 non-null  object \n",
      " 16  years_used    377796 non-null  float64\n",
      "dtypes: float64(4), int64(1), object(12)\n",
      "memory usage: 51.9+ MB\n"
     ]
    }
   ],
   "source": [
    "Cars_df.info()"
   ]
  },
  {
   "cell_type": "code",
   "execution_count": 32,
   "id": "fe59165c",
   "metadata": {},
   "outputs": [],
   "source": [
    "# Droping the null values in models\n",
    "Cars_df.dropna(subset=[\"model\"], inplace=True)"
   ]
  },
  {
   "cell_type": "code",
   "execution_count": 33,
   "id": "fc9fbb90",
   "metadata": {},
   "outputs": [
    {
     "data": {
      "text/plain": [
       "27    sierra 1500 crew cab slt\n",
       "28              silverado 1500\n",
       "29         silverado 1500 crew\n",
       "30        tundra double cab sr\n",
       "31                   f-150 xlt\n",
       "Name: model, dtype: object"
      ]
     },
     "execution_count": 33,
     "metadata": {},
     "output_type": "execute_result"
    }
   ],
   "source": [
    "Cars_df[\"model\"].head()"
   ]
  },
  {
   "cell_type": "code",
   "execution_count": 34,
   "id": "fd583f5d",
   "metadata": {},
   "outputs": [
    {
     "data": {
      "text/plain": [
       "27       sierra\n",
       "28    silverado\n",
       "29    silverado\n",
       "30       tundra\n",
       "31        f-150\n",
       "Name: model, dtype: object"
      ]
     },
     "execution_count": 34,
     "metadata": {},
     "output_type": "execute_result"
    }
   ],
   "source": [
    "# split the model name and get the first two out of those.\n",
    "Cars_df[\"model\"]=Cars_df[\"model\"].str.split(\" \").str.slice(0,1).str.join(\" \")\n",
    "Cars_df[\"model\"].head()"
   ]
  },
  {
   "cell_type": "code",
   "execution_count": 35,
   "id": "4fa3f699",
   "metadata": {},
   "outputs": [
    {
     "data": {
      "text/plain": [
       "2991"
      ]
     },
     "execution_count": 35,
     "metadata": {},
     "output_type": "execute_result"
    }
   ],
   "source": [
    "Cars_df[\"model\"].nunique()"
   ]
  },
  {
   "cell_type": "code",
   "execution_count": 36,
   "id": "ad6d1871",
   "metadata": {},
   "outputs": [
    {
     "data": {
      "text/plain": [
       "27       sierra\n",
       "28    silverado\n",
       "29    silverado\n",
       "30       tundra\n",
       "31        f-150\n",
       "Name: model, dtype: object"
      ]
     },
     "execution_count": 36,
     "metadata": {},
     "output_type": "execute_result"
    }
   ],
   "source": [
    "Cars_df[\"model\"].head()"
   ]
  },
  {
   "cell_type": "code",
   "execution_count": 37,
   "id": "7168ccf8",
   "metadata": {},
   "outputs": [
    {
     "data": {
      "text/plain": [
       "2991"
      ]
     },
     "execution_count": 37,
     "metadata": {},
     "output_type": "execute_result"
    }
   ],
   "source": [
    "Cars_df[\"model\"].nunique()"
   ]
  },
  {
   "cell_type": "code",
   "execution_count": 38,
   "id": "efcb12ba",
   "metadata": {},
   "outputs": [],
   "source": [
    "Cars_df[\"manufacturer\"]=Cars_df[\"manufacturer\"].str.capitalize()\n",
    "Cars_df[\"model\"]=Cars_df[\"model\"].str.capitalize()"
   ]
  },
  {
   "cell_type": "code",
   "execution_count": 39,
   "id": "9b9df580",
   "metadata": {},
   "outputs": [
    {
     "data": {
      "text/plain": [
       "1706"
      ]
     },
     "execution_count": 39,
     "metadata": {},
     "output_type": "execute_result"
    }
   ],
   "source": [
    "# checking how many models are there with null value\n",
    "Cars_df[\"model\"].loc[Cars_df[\"cylinders\"].isnull()].nunique()"
   ]
  },
  {
   "cell_type": "code",
   "execution_count": 40,
   "id": "0f16cd51",
   "metadata": {},
   "outputs": [
    {
     "name": "stdout",
     "output_type": "stream",
     "text": [
      "<class 'pandas.core.frame.DataFrame'>\n",
      "Int64Index: 221992 entries, 27 to 426878\n",
      "Data columns (total 17 columns):\n",
      " #   Column        Non-Null Count   Dtype  \n",
      "---  ------        --------------   -----  \n",
      " 0   id            221992 non-null  int64  \n",
      " 1   region        221992 non-null  object \n",
      " 2   price         221992 non-null  float64\n",
      " 3   year          221992 non-null  float64\n",
      " 4   manufacturer  221992 non-null  object \n",
      " 5   model         221992 non-null  object \n",
      " 6   condition     221992 non-null  object \n",
      " 7   cylinders     221992 non-null  object \n",
      " 8   fuel          220876 non-null  object \n",
      " 9   odometer      220947 non-null  float64\n",
      " 10  title_status  215955 non-null  object \n",
      " 11  transmission  221818 non-null  object \n",
      " 12  drive         189302 non-null  object \n",
      " 13  type          198006 non-null  object \n",
      " 14  state         221992 non-null  object \n",
      " 15  posting_date  221992 non-null  object \n",
      " 16  years_used    221992 non-null  float64\n",
      "dtypes: float64(4), int64(1), object(12)\n",
      "memory usage: 30.5+ MB\n"
     ]
    }
   ],
   "source": [
    "# it is better to drop these null values instead of having them on the dataframe\n",
    "Cars_df.dropna(subset=[\"cylinders\"], inplace=True)\n",
    "Cars_df.info()"
   ]
  },
  {
   "cell_type": "code",
   "execution_count": 41,
   "id": "9b2453d7",
   "metadata": {},
   "outputs": [
    {
     "data": {
      "text/plain": [
       "array([], dtype=float64)"
      ]
     },
     "execution_count": 41,
     "metadata": {},
     "output_type": "execute_result"
    }
   ],
   "source": [
    "Cars_df[\"years_used\"].loc[Cars_df[\"condition\"].isnull()].unique()"
   ]
  },
  {
   "cell_type": "code",
   "execution_count": 42,
   "id": "e974685e",
   "metadata": {},
   "outputs": [
    {
     "name": "stdout",
     "output_type": "stream",
     "text": [
      "<class 'pandas.core.frame.DataFrame'>\n",
      "Int64Index: 171618 entries, 31 to 426878\n",
      "Data columns (total 17 columns):\n",
      " #   Column        Non-Null Count   Dtype  \n",
      "---  ------        --------------   -----  \n",
      " 0   id            171618 non-null  int64  \n",
      " 1   region        171618 non-null  object \n",
      " 2   price         171618 non-null  float64\n",
      " 3   year          171618 non-null  float64\n",
      " 4   manufacturer  171618 non-null  object \n",
      " 5   model         171618 non-null  object \n",
      " 6   condition     171618 non-null  object \n",
      " 7   cylinders     171618 non-null  object \n",
      " 8   fuel          170789 non-null  object \n",
      " 9   odometer      170715 non-null  float64\n",
      " 10  title_status  169000 non-null  object \n",
      " 11  transmission  171605 non-null  object \n",
      " 12  drive         171618 non-null  object \n",
      " 13  type          171618 non-null  object \n",
      " 14  state         171618 non-null  object \n",
      " 15  posting_date  171618 non-null  object \n",
      " 16  years_used    171618 non-null  float64\n",
      "dtypes: float64(4), int64(1), object(12)\n",
      "memory usage: 23.6+ MB\n"
     ]
    }
   ],
   "source": [
    "#drop the null values in drive, type\n",
    "\n",
    "Cars_df.dropna(subset=[\"drive\", \"type\"], inplace=True)\n",
    "Cars_df.info()"
   ]
  },
  {
   "cell_type": "code",
   "execution_count": 43,
   "id": "f7d38f94",
   "metadata": {},
   "outputs": [
    {
     "name": "stdout",
     "output_type": "stream",
     "text": [
      "<class 'pandas.core.frame.DataFrame'>\n",
      "Int64Index: 167307 entries, 31 to 426878\n",
      "Data columns (total 14 columns):\n",
      " #   Column        Non-Null Count   Dtype  \n",
      "---  ------        --------------   -----  \n",
      " 0   id            167307 non-null  int64  \n",
      " 1   price         167307 non-null  float64\n",
      " 2   year          167307 non-null  float64\n",
      " 3   manufacturer  167307 non-null  object \n",
      " 4   model         167307 non-null  object \n",
      " 5   condition     167307 non-null  object \n",
      " 6   cylinders     167307 non-null  object \n",
      " 7   fuel          167307 non-null  object \n",
      " 8   odometer      167307 non-null  float64\n",
      " 9   title_status  167307 non-null  object \n",
      " 10  transmission  167307 non-null  object \n",
      " 11  drive         167307 non-null  object \n",
      " 12  type          167307 non-null  object \n",
      " 13  state         167307 non-null  object \n",
      "dtypes: float64(3), int64(1), object(10)\n",
      "memory usage: 19.1+ MB\n"
     ]
    }
   ],
   "source": [
    "#drop the null values in fuel, odometer, title statue, transmission\n",
    "\n",
    "Cars_df.dropna(subset=[\"fuel\", \"odometer\", \"title_status\", \"transmission\"], inplace=True)\n",
    "\n",
    "Cars_df=Cars_df.drop([\"years_used\"], axis=1)\n",
    "Cars_df.info()"
   ]
  },
  {
   "cell_type": "code",
   "execution_count": 44,
   "id": "03b1a9ac",
   "metadata": {},
   "outputs": [
    {
     "name": "stdout",
     "output_type": "stream",
     "text": [
      "<class 'pandas.core.frame.DataFrame'>\n",
      "Int64Index: 167307 entries, 31 to 426878\n",
      "Data columns (total 14 columns):\n",
      " #   Column        Non-Null Count   Dtype  \n",
      "---  ------        --------------   -----  \n",
      " 0   id            167307 non-null  int64  \n",
      " 1   price         167307 non-null  float64\n",
      " 2   year          167307 non-null  float64\n",
      " 3   manufacturer  167307 non-null  object \n",
      " 4   model         167307 non-null  object \n",
      " 5   condition     167307 non-null  object \n",
      " 6   cylinders     167307 non-null  object \n",
      " 7   fuel          167307 non-null  object \n",
      " 8   odometer      167307 non-null  float64\n",
      " 9   title_status  167307 non-null  object \n",
      " 10  transmission  167307 non-null  object \n",
      " 11  drive         167307 non-null  object \n",
      " 12  type          167307 non-null  object \n",
      " 13  state         167307 non-null  object \n",
      "dtypes: float64(3), int64(1), object(10)\n",
      "memory usage: 19.1+ MB\n"
     ]
    }
   ],
   "source": [
    "Cars_df.info()"
   ]
  },
  {
   "cell_type": "code",
   "execution_count": 45,
   "id": "853f5bd2",
   "metadata": {},
   "outputs": [
    {
     "data": {
      "text/html": [
       "<div>\n",
       "<style scoped>\n",
       "    .dataframe tbody tr th:only-of-type {\n",
       "        vertical-align: middle;\n",
       "    }\n",
       "\n",
       "    .dataframe tbody tr th {\n",
       "        vertical-align: top;\n",
       "    }\n",
       "\n",
       "    .dataframe thead th {\n",
       "        text-align: right;\n",
       "    }\n",
       "</style>\n",
       "<table border=\"1\" class=\"dataframe\">\n",
       "  <thead>\n",
       "    <tr style=\"text-align: right;\">\n",
       "      <th></th>\n",
       "      <th>id</th>\n",
       "      <th>price</th>\n",
       "      <th>year</th>\n",
       "      <th>odometer</th>\n",
       "    </tr>\n",
       "  </thead>\n",
       "  <tbody>\n",
       "    <tr>\n",
       "      <th>count</th>\n",
       "      <td>1.673070e+05</td>\n",
       "      <td>1.673070e+05</td>\n",
       "      <td>167307.000000</td>\n",
       "      <td>1.673070e+05</td>\n",
       "    </tr>\n",
       "    <tr>\n",
       "      <th>mean</th>\n",
       "      <td>7.311683e+09</td>\n",
       "      <td>4.885267e+04</td>\n",
       "      <td>2010.571076</td>\n",
       "      <td>1.040515e+05</td>\n",
       "    </tr>\n",
       "    <tr>\n",
       "      <th>std</th>\n",
       "      <td>4.280037e+06</td>\n",
       "      <td>9.546626e+06</td>\n",
       "      <td>8.913687</td>\n",
       "      <td>1.652651e+05</td>\n",
       "    </tr>\n",
       "    <tr>\n",
       "      <th>min</th>\n",
       "      <td>7.301584e+09</td>\n",
       "      <td>1.000000e+00</td>\n",
       "      <td>1900.000000</td>\n",
       "      <td>0.000000e+00</td>\n",
       "    </tr>\n",
       "    <tr>\n",
       "      <th>25%</th>\n",
       "      <td>7.308418e+09</td>\n",
       "      <td>6.800000e+03</td>\n",
       "      <td>2007.000000</td>\n",
       "      <td>4.948100e+04</td>\n",
       "    </tr>\n",
       "    <tr>\n",
       "      <th>50%</th>\n",
       "      <td>7.312870e+09</td>\n",
       "      <td>1.324900e+04</td>\n",
       "      <td>2013.000000</td>\n",
       "      <td>9.700000e+04</td>\n",
       "    </tr>\n",
       "    <tr>\n",
       "      <th>75%</th>\n",
       "      <td>7.315276e+09</td>\n",
       "      <td>2.559000e+04</td>\n",
       "      <td>2016.000000</td>\n",
       "      <td>1.414290e+05</td>\n",
       "    </tr>\n",
       "    <tr>\n",
       "      <th>max</th>\n",
       "      <td>7.317101e+09</td>\n",
       "      <td>3.736929e+09</td>\n",
       "      <td>2022.000000</td>\n",
       "      <td>1.000000e+07</td>\n",
       "    </tr>\n",
       "  </tbody>\n",
       "</table>\n",
       "</div>"
      ],
      "text/plain": [
       "                 id         price           year      odometer\n",
       "count  1.673070e+05  1.673070e+05  167307.000000  1.673070e+05\n",
       "mean   7.311683e+09  4.885267e+04    2010.571076  1.040515e+05\n",
       "std    4.280037e+06  9.546626e+06       8.913687  1.652651e+05\n",
       "min    7.301584e+09  1.000000e+00    1900.000000  0.000000e+00\n",
       "25%    7.308418e+09  6.800000e+03    2007.000000  4.948100e+04\n",
       "50%    7.312870e+09  1.324900e+04    2013.000000  9.700000e+04\n",
       "75%    7.315276e+09  2.559000e+04    2016.000000  1.414290e+05\n",
       "max    7.317101e+09  3.736929e+09    2022.000000  1.000000e+07"
      ]
     },
     "execution_count": 45,
     "metadata": {},
     "output_type": "execute_result"
    }
   ],
   "source": [
    "Cars_df.describe()"
   ]
  },
  {
   "cell_type": "code",
   "execution_count": 46,
   "id": "48563591",
   "metadata": {},
   "outputs": [],
   "source": [
    "# checking the Min values in prices and replacing them with Avearage\n",
    "\n",
    "\n",
    "# we are filtering all the outliers between min and max value\n",
    "q_low= Cars_df[\"price\"].quantile(0.01)\n",
    "q_hi= Cars_df[\"price\"].quantile(0.99)\n",
    "\n",
    "Cars_df = Cars_df[(Cars_df[\"price\"]<q_hi) & (Cars_df[\"price\"]>q_low)]"
   ]
  },
  {
   "cell_type": "code",
   "execution_count": 47,
   "id": "5aed0eb4",
   "metadata": {
    "scrolled": true
   },
   "outputs": [
    {
     "data": {
      "text/html": [
       "<div>\n",
       "<style scoped>\n",
       "    .dataframe tbody tr th:only-of-type {\n",
       "        vertical-align: middle;\n",
       "    }\n",
       "\n",
       "    .dataframe tbody tr th {\n",
       "        vertical-align: top;\n",
       "    }\n",
       "\n",
       "    .dataframe thead th {\n",
       "        text-align: right;\n",
       "    }\n",
       "</style>\n",
       "<table border=\"1\" class=\"dataframe\">\n",
       "  <thead>\n",
       "    <tr style=\"text-align: right;\">\n",
       "      <th></th>\n",
       "      <th>id</th>\n",
       "      <th>price</th>\n",
       "      <th>year</th>\n",
       "      <th>odometer</th>\n",
       "    </tr>\n",
       "  </thead>\n",
       "  <tbody>\n",
       "    <tr>\n",
       "      <th>count</th>\n",
       "      <td>1.639180e+05</td>\n",
       "      <td>163918.000000</td>\n",
       "      <td>163918.000000</td>\n",
       "      <td>1.639180e+05</td>\n",
       "    </tr>\n",
       "    <tr>\n",
       "      <th>mean</th>\n",
       "      <td>7.311682e+09</td>\n",
       "      <td>16969.155261</td>\n",
       "      <td>2010.523005</td>\n",
       "      <td>1.048525e+05</td>\n",
       "    </tr>\n",
       "    <tr>\n",
       "      <th>std</th>\n",
       "      <td>4.281362e+06</td>\n",
       "      <td>12714.245928</td>\n",
       "      <td>8.839590</td>\n",
       "      <td>1.630330e+05</td>\n",
       "    </tr>\n",
       "    <tr>\n",
       "      <th>min</th>\n",
       "      <td>7.301584e+09</td>\n",
       "      <td>176.000000</td>\n",
       "      <td>1900.000000</td>\n",
       "      <td>0.000000e+00</td>\n",
       "    </tr>\n",
       "    <tr>\n",
       "      <th>25%</th>\n",
       "      <td>7.308413e+09</td>\n",
       "      <td>6900.000000</td>\n",
       "      <td>2007.000000</td>\n",
       "      <td>5.073600e+04</td>\n",
       "    </tr>\n",
       "    <tr>\n",
       "      <th>50%</th>\n",
       "      <td>7.312872e+09</td>\n",
       "      <td>13249.500000</td>\n",
       "      <td>2013.000000</td>\n",
       "      <td>9.799500e+04</td>\n",
       "    </tr>\n",
       "    <tr>\n",
       "      <th>75%</th>\n",
       "      <td>7.315277e+09</td>\n",
       "      <td>24999.000000</td>\n",
       "      <td>2016.000000</td>\n",
       "      <td>1.421130e+05</td>\n",
       "    </tr>\n",
       "    <tr>\n",
       "      <th>max</th>\n",
       "      <td>7.317101e+09</td>\n",
       "      <td>63990.000000</td>\n",
       "      <td>2022.000000</td>\n",
       "      <td>1.000000e+07</td>\n",
       "    </tr>\n",
       "  </tbody>\n",
       "</table>\n",
       "</div>"
      ],
      "text/plain": [
       "                 id          price           year      odometer\n",
       "count  1.639180e+05  163918.000000  163918.000000  1.639180e+05\n",
       "mean   7.311682e+09   16969.155261    2010.523005  1.048525e+05\n",
       "std    4.281362e+06   12714.245928       8.839590  1.630330e+05\n",
       "min    7.301584e+09     176.000000    1900.000000  0.000000e+00\n",
       "25%    7.308413e+09    6900.000000    2007.000000  5.073600e+04\n",
       "50%    7.312872e+09   13249.500000    2013.000000  9.799500e+04\n",
       "75%    7.315277e+09   24999.000000    2016.000000  1.421130e+05\n",
       "max    7.317101e+09   63990.000000    2022.000000  1.000000e+07"
      ]
     },
     "execution_count": 47,
     "metadata": {},
     "output_type": "execute_result"
    }
   ],
   "source": [
    "Cars_df.describe()"
   ]
  },
  {
   "cell_type": "code",
   "execution_count": 48,
   "id": "73119188",
   "metadata": {
    "scrolled": false
   },
   "outputs": [
    {
     "name": "stdout",
     "output_type": "stream",
     "text": [
      "<class 'pandas.core.frame.DataFrame'>\n",
      "Int64Index: 163918 entries, 31 to 426878\n",
      "Data columns (total 14 columns):\n",
      " #   Column        Non-Null Count   Dtype  \n",
      "---  ------        --------------   -----  \n",
      " 0   id            163918 non-null  int64  \n",
      " 1   price         163918 non-null  float64\n",
      " 2   year          163918 non-null  float64\n",
      " 3   manufacturer  163918 non-null  object \n",
      " 4   model         163918 non-null  object \n",
      " 5   condition     163918 non-null  object \n",
      " 6   cylinders     163918 non-null  object \n",
      " 7   fuel          163918 non-null  object \n",
      " 8   odometer      163918 non-null  float64\n",
      " 9   title_status  163918 non-null  object \n",
      " 10  transmission  163918 non-null  object \n",
      " 11  drive         163918 non-null  object \n",
      " 12  type          163918 non-null  object \n",
      " 13  state         163918 non-null  object \n",
      "dtypes: float64(3), int64(1), object(10)\n",
      "memory usage: 18.8+ MB\n"
     ]
    }
   ],
   "source": [
    "Cars_df.info()"
   ]
  },
  {
   "cell_type": "code",
   "execution_count": 49,
   "id": "2aba4f80",
   "metadata": {},
   "outputs": [],
   "source": [
    "Cars_df[\"year\"]=Cars_df[\"year\"].astype(int)\n",
    "Cars_df.rename(columns = {'odometer':'Distance_Traveled'}, inplace = True)\n"
   ]
  },
  {
   "cell_type": "code",
   "execution_count": 50,
   "id": "ba9f1428",
   "metadata": {},
   "outputs": [],
   "source": [
    "Cars_df=Cars_df.drop([\"id\"], axis=1)"
   ]
  },
  {
   "cell_type": "code",
   "execution_count": 51,
   "id": "9a13d86f",
   "metadata": {},
   "outputs": [
    {
     "name": "stdout",
     "output_type": "stream",
     "text": [
      "<class 'pandas.core.frame.DataFrame'>\n",
      "Int64Index: 163918 entries, 31 to 426878\n",
      "Data columns (total 13 columns):\n",
      " #   Column             Non-Null Count   Dtype  \n",
      "---  ------             --------------   -----  \n",
      " 0   price              163918 non-null  float64\n",
      " 1   year               163918 non-null  int32  \n",
      " 2   manufacturer       163918 non-null  object \n",
      " 3   model              163918 non-null  object \n",
      " 4   condition          163918 non-null  object \n",
      " 5   cylinders          163918 non-null  object \n",
      " 6   fuel               163918 non-null  object \n",
      " 7   Distance_Traveled  163918 non-null  float64\n",
      " 8   title_status       163918 non-null  object \n",
      " 9   transmission       163918 non-null  object \n",
      " 10  drive              163918 non-null  object \n",
      " 11  type               163918 non-null  object \n",
      " 12  state              163918 non-null  object \n",
      "dtypes: float64(2), int32(1), object(10)\n",
      "memory usage: 16.9+ MB\n"
     ]
    }
   ],
   "source": [
    "Cars_df.info()"
   ]
  },
  {
   "cell_type": "code",
   "execution_count": 52,
   "id": "8548f9a9",
   "metadata": {},
   "outputs": [],
   "source": [
    "Values=[\"- 328i\", \"- benz\", \"- santa\", '\"t\"', \n",
    "        \"$362.47, $1000\", \"& altima\", \"(210)\", \n",
    "        \"(300)\", \"(cng) 2500\", \"(s)port (s)edan\", \n",
    "        \"/ accord\", \"/ braun\", \"/ durango\", \"/ vmi\", \n",
    "        \"// vmi\", \"/mercury comet\", \"/vmi conversion\", \n",
    "        \"♿\", \"♿ vmi\", \"1 1/2\", \"1 series\", \"1 ton\", \n",
    "        \"1.8t convertible\", \"1/2 ton\", \"100\", \"100 cs\", \n",
    "        \"100 fleet\", \"100 pick-up\", \"150\", \"1500\", \"1500 big\", \n",
    "        \"1500 lifted\", \"2 dr\", \"200\", \"2002\", \"210\", \"2500\", \n",
    "        \"2500 gas\", \"2500 hd\", \"2500 power\", \"3\", \"300\", \"300c\", \n",
    "        \"3500\", \"4500\", \"5\", \"500\", \"5500\", \"7 litre\", \"911\",\n",
    "        \"C3500hd 6.5\", \"Ct 200h\", \"P\", \"Rc\", \"Two door\", \"Vmi ♿\", \"Yj\"]\n",
    "\n",
    "Cars_df=Cars_df[Cars_df.model.isin(Values)==False]\n"
   ]
  },
  {
   "cell_type": "code",
   "execution_count": 53,
   "id": "61b8840b",
   "metadata": {},
   "outputs": [],
   "source": [
    "Cars_df[\"model\"] = Cars_df[\"manufacturer\"] + \" \" + Cars_df[\"model\"]"
   ]
  },
  {
   "cell_type": "code",
   "execution_count": 54,
   "id": "ee30cdf7",
   "metadata": {},
   "outputs": [],
   "source": [
    "# Backup Cleaned Copy\n",
    "Backup_Cleaned=Cars_df.copy()"
   ]
  },
  {
   "cell_type": "code",
   "execution_count": 55,
   "id": "b33bf803",
   "metadata": {},
   "outputs": [],
   "source": [
    "Cars_df.to_csv(\"cleaned_Car.csv\")"
   ]
  },
  {
   "cell_type": "code",
   "execution_count": 56,
   "id": "d2afaf34",
   "metadata": {},
   "outputs": [],
   "source": [
    "Cars_df.to_csv(\"D:/Studies/My Projects/Data Science/Car Prediction/WebDeployment/cleaned_Car.csv\")"
   ]
  },
  {
   "cell_type": "code",
   "execution_count": 57,
   "id": "1b7ca1cb",
   "metadata": {},
   "outputs": [],
   "source": [
    "States={'al':'Alabama',\n",
    "'ak':'Alaska',\n",
    "'az':'Arizona',\n",
    "'ar':'Arkansas',\n",
    "'ca':'California',\n",
    "'co':'Colorado',\n",
    "'ct':'Connecticut',\n",
    "'de':'Delaware',\n",
    "'fl':'Florida',\n",
    "'ga':'Georgia',\n",
    "'hi':'Hawaii',\n",
    "'id':'Idaho',\n",
    "'il':'Illinois',\n",
    "'in':'Indiana',\n",
    "'ia':'Iowa',\n",
    "'ks':'Kansas',\n",
    "'ky':'Kentucky',\n",
    "'la':'Louisiana',\n",
    "'me':'Maine',\n",
    "'md':'Maryland',\n",
    "'ma':'Massachusetts',\n",
    "'mi':'Michigan',\n",
    "'mn':'Minnesota',\n",
    "'ms':'Mississippi',\n",
    "'mo':'Missouri',\n",
    "'mt':'Montana',\n",
    "'ne':'Nebraska',\n",
    "'nv':'Nevada',\n",
    "'nh':'New Hampshire',\n",
    "'nj':'New Jersey',\n",
    "'nm':'New Mexico',\n",
    "'ny':'New York',\n",
    "'nc':'North Carolina',\n",
    "'nd':'North Dakota',\n",
    "'oh':'Ohio',\n",
    "'ok':'Oklahoma',\n",
    "'or':'Oregon',\n",
    "'pa':'Pennsylvania',\n",
    "'ri':'Rhode Island',\n",
    "'sc':'South Carolina',\n",
    "'sd':'South Dakota',\n",
    "'tn':'Tennessee',\n",
    "'tx':'Texas',\n",
    "'ut':'Utah',\n",
    "'vt':'Vermont',\n",
    "'va':'Virginia',\n",
    "'wa':'Washington',\n",
    "'wv':'West Virginia',\n",
    "'wi':'Wisconsin',\n",
    "'wy':'Wyoming',\n",
    "'dc':'Washington'}\n",
    "\n",
    "Cars_df[\"state\"].replace(States.keys(),States.values(),inplace=True)"
   ]
  },
  {
   "cell_type": "code",
   "execution_count": 75,
   "id": "e3f1c73a",
   "metadata": {},
   "outputs": [],
   "source": [
    "Cars_df[\"model\"].to_csv(\"Model.csv\")"
   ]
  },
  {
   "cell_type": "code",
   "execution_count": 58,
   "id": "75d70aa3",
   "metadata": {},
   "outputs": [],
   "source": [
    "Cars_df[\"model\"].to_csv(\"Model.csv\")"
   ]
  },
  {
   "cell_type": "code",
   "execution_count": 59,
   "id": "add35307",
   "metadata": {},
   "outputs": [],
   "source": [
    "Cars_df[\"model\"].to_csv(\"Model.csv\")"
   ]
  },
  {
   "cell_type": "code",
   "execution_count": 60,
   "id": "0c24a7f4",
   "metadata": {},
   "outputs": [
    {
     "data": {
      "text/plain": [
       "2540"
      ]
     },
     "execution_count": 60,
     "metadata": {},
     "output_type": "execute_result"
    }
   ],
   "source": [
    "Cars_df[\"model\"].nunique()"
   ]
  },
  {
   "cell_type": "markdown",
   "id": "ff4b0637",
   "metadata": {},
   "source": [
    "### Creating a linear Regression Model"
   ]
  },
  {
   "cell_type": "code",
   "execution_count": 61,
   "id": "f8734559",
   "metadata": {},
   "outputs": [],
   "source": [
    "# breaking the Dependent variable & Independent Variable\n",
    "x = Cars_df.drop(columns=\"price\")\n",
    "y = Cars_df[\"price\"]"
   ]
  },
  {
   "cell_type": "code",
   "execution_count": 62,
   "id": "625c23e9",
   "metadata": {},
   "outputs": [
    {
     "data": {
      "text/html": [
       "<div>\n",
       "<style scoped>\n",
       "    .dataframe tbody tr th:only-of-type {\n",
       "        vertical-align: middle;\n",
       "    }\n",
       "\n",
       "    .dataframe tbody tr th {\n",
       "        vertical-align: top;\n",
       "    }\n",
       "\n",
       "    .dataframe thead th {\n",
       "        text-align: right;\n",
       "    }\n",
       "</style>\n",
       "<table border=\"1\" class=\"dataframe\">\n",
       "  <thead>\n",
       "    <tr style=\"text-align: right;\">\n",
       "      <th></th>\n",
       "      <th>year</th>\n",
       "      <th>manufacturer</th>\n",
       "      <th>model</th>\n",
       "      <th>condition</th>\n",
       "      <th>cylinders</th>\n",
       "      <th>fuel</th>\n",
       "      <th>Distance_Traveled</th>\n",
       "      <th>title_status</th>\n",
       "      <th>transmission</th>\n",
       "      <th>drive</th>\n",
       "      <th>type</th>\n",
       "      <th>state</th>\n",
       "    </tr>\n",
       "  </thead>\n",
       "  <tbody>\n",
       "    <tr>\n",
       "      <th>31</th>\n",
       "      <td>2013</td>\n",
       "      <td>Ford</td>\n",
       "      <td>Ford F-150</td>\n",
       "      <td>excellent</td>\n",
       "      <td>6 cylinders</td>\n",
       "      <td>gas</td>\n",
       "      <td>128000.0</td>\n",
       "      <td>clean</td>\n",
       "      <td>automatic</td>\n",
       "      <td>rwd</td>\n",
       "      <td>truck</td>\n",
       "      <td>Alabama</td>\n",
       "    </tr>\n",
       "    <tr>\n",
       "      <th>32</th>\n",
       "      <td>2012</td>\n",
       "      <td>Gmc</td>\n",
       "      <td>Gmc Sierra</td>\n",
       "      <td>good</td>\n",
       "      <td>8 cylinders</td>\n",
       "      <td>gas</td>\n",
       "      <td>68696.0</td>\n",
       "      <td>clean</td>\n",
       "      <td>other</td>\n",
       "      <td>4wd</td>\n",
       "      <td>pickup</td>\n",
       "      <td>Alabama</td>\n",
       "    </tr>\n",
       "    <tr>\n",
       "      <th>33</th>\n",
       "      <td>2016</td>\n",
       "      <td>Chevrolet</td>\n",
       "      <td>Chevrolet Silverado</td>\n",
       "      <td>good</td>\n",
       "      <td>6 cylinders</td>\n",
       "      <td>gas</td>\n",
       "      <td>29499.0</td>\n",
       "      <td>clean</td>\n",
       "      <td>other</td>\n",
       "      <td>4wd</td>\n",
       "      <td>pickup</td>\n",
       "      <td>Alabama</td>\n",
       "    </tr>\n",
       "    <tr>\n",
       "      <th>34</th>\n",
       "      <td>2019</td>\n",
       "      <td>Toyota</td>\n",
       "      <td>Toyota Tacoma</td>\n",
       "      <td>excellent</td>\n",
       "      <td>6 cylinders</td>\n",
       "      <td>gas</td>\n",
       "      <td>43000.0</td>\n",
       "      <td>clean</td>\n",
       "      <td>automatic</td>\n",
       "      <td>4wd</td>\n",
       "      <td>truck</td>\n",
       "      <td>Alabama</td>\n",
       "    </tr>\n",
       "    <tr>\n",
       "      <th>35</th>\n",
       "      <td>2016</td>\n",
       "      <td>Chevrolet</td>\n",
       "      <td>Chevrolet Colorado</td>\n",
       "      <td>good</td>\n",
       "      <td>6 cylinders</td>\n",
       "      <td>gas</td>\n",
       "      <td>17302.0</td>\n",
       "      <td>clean</td>\n",
       "      <td>other</td>\n",
       "      <td>4wd</td>\n",
       "      <td>pickup</td>\n",
       "      <td>Alabama</td>\n",
       "    </tr>\n",
       "  </tbody>\n",
       "</table>\n",
       "</div>"
      ],
      "text/plain": [
       "    year manufacturer                model  condition    cylinders fuel  \\\n",
       "31  2013         Ford           Ford F-150  excellent  6 cylinders  gas   \n",
       "32  2012          Gmc           Gmc Sierra       good  8 cylinders  gas   \n",
       "33  2016    Chevrolet  Chevrolet Silverado       good  6 cylinders  gas   \n",
       "34  2019       Toyota        Toyota Tacoma  excellent  6 cylinders  gas   \n",
       "35  2016    Chevrolet   Chevrolet Colorado       good  6 cylinders  gas   \n",
       "\n",
       "    Distance_Traveled title_status transmission drive    type    state  \n",
       "31           128000.0        clean    automatic   rwd   truck  Alabama  \n",
       "32            68696.0        clean        other   4wd  pickup  Alabama  \n",
       "33            29499.0        clean        other   4wd  pickup  Alabama  \n",
       "34            43000.0        clean    automatic   4wd   truck  Alabama  \n",
       "35            17302.0        clean        other   4wd  pickup  Alabama  "
      ]
     },
     "execution_count": 62,
     "metadata": {},
     "output_type": "execute_result"
    }
   ],
   "source": [
    "x.head()"
   ]
  },
  {
   "cell_type": "code",
   "execution_count": 63,
   "id": "aeee3377",
   "metadata": {},
   "outputs": [],
   "source": [
    "from sklearn.model_selection import train_test_split\n",
    "x_train, x_test, y_train, y_test = train_test_split(x,y, test_size=0.2)"
   ]
  },
  {
   "cell_type": "code",
   "execution_count": 64,
   "id": "ac88ea08",
   "metadata": {},
   "outputs": [],
   "source": [
    "# importing modules for linear regression\n",
    "from sklearn.linear_model import LinearRegression\n",
    "from sklearn.metrics import r2_score\n",
    "from sklearn.preprocessing import OneHotEncoder\n",
    "from sklearn.compose import make_column_transformer\n",
    "from sklearn.pipeline import make_pipeline"
   ]
  },
  {
   "cell_type": "code",
   "execution_count": 65,
   "id": "f797be02",
   "metadata": {},
   "outputs": [
    {
     "data": {
      "text/plain": [
       "OneHotEncoder()"
      ]
     },
     "execution_count": 65,
     "metadata": {},
     "output_type": "execute_result"
    }
   ],
   "source": [
    "ohe = OneHotEncoder()\n",
    "ohe.fit(x[[\"manufacturer\", \"condition\", \"cylinders\", \"fuel\",\"title_status\", \n",
    "           \"transmission\", \"drive\" , \"type\",\"model\", \"state\"]])"
   ]
  },
  {
   "cell_type": "code",
   "execution_count": 66,
   "id": "5fa5ba00",
   "metadata": {},
   "outputs": [
    {
     "data": {
      "text/plain": [
       "price                float64\n",
       "year                   int32\n",
       "manufacturer          object\n",
       "model                 object\n",
       "condition             object\n",
       "cylinders             object\n",
       "fuel                  object\n",
       "Distance_Traveled    float64\n",
       "title_status          object\n",
       "transmission          object\n",
       "drive                 object\n",
       "type                  object\n",
       "state                 object\n",
       "dtype: object"
      ]
     },
     "execution_count": 66,
     "metadata": {},
     "output_type": "execute_result"
    }
   ],
   "source": [
    "Cars_df.dtypes"
   ]
  },
  {
   "cell_type": "code",
   "execution_count": 67,
   "id": "2f5f4367",
   "metadata": {},
   "outputs": [
    {
     "data": {
      "text/plain": [
       "[array(['Acura', 'Alfa-romeo', 'Aston-martin', 'Audi', 'Bmw', 'Buick',\n",
       "        'Cadillac', 'Chevrolet', 'Chrysler', 'Datsun', 'Dodge', 'Ferrari',\n",
       "        'Fiat', 'Ford', 'Gmc', 'Harley-davidson', 'Honda', 'Hyundai',\n",
       "        'Infiniti', 'Jaguar', 'Jeep', 'Kia', 'Land rover', 'Lexus',\n",
       "        'Lincoln', 'Mazda', 'Mercedes-benz', 'Mercury', 'Mini',\n",
       "        'Mitsubishi', 'Nissan', 'Pontiac', 'Porsche', 'Ram', 'Rover',\n",
       "        'Saturn', 'Subaru', 'Tesla', 'Toyota', 'Volkswagen', 'Volvo'],\n",
       "       dtype=object),\n",
       " array(['excellent', 'fair', 'good', 'like new', 'new', 'salvage'],\n",
       "       dtype=object),\n",
       " array(['10 cylinders', '12 cylinders', '3 cylinders', '4 cylinders',\n",
       "        '5 cylinders', '6 cylinders', '8 cylinders', 'other'], dtype=object),\n",
       " array(['diesel', 'electric', 'gas', 'hybrid', 'other'], dtype=object),\n",
       " array(['clean', 'lien', 'missing', 'parts only', 'rebuilt', 'salvage'],\n",
       "       dtype=object),\n",
       " array(['automatic', 'manual', 'other'], dtype=object),\n",
       " array(['4wd', 'fwd', 'rwd'], dtype=object),\n",
       " array(['SUV', 'bus', 'convertible', 'coupe', 'hatchback', 'mini-van',\n",
       "        'offroad', 'other', 'pickup', 'sedan', 'truck', 'van', 'wagon'],\n",
       "       dtype=object),\n",
       " array(['Acura 3.0cl', 'Acura 3.2', 'Acura 3.2tl', ..., 'Volvo Xc60',\n",
       "        'Volvo Xc70', 'Volvo Xc90'], dtype=object),\n",
       " array(['Alabama', 'Alaska', 'Arizona', 'Arkansas', 'California',\n",
       "        'Colorado', 'Connecticut', 'Delaware', 'Florida', 'Georgia',\n",
       "        'Hawaii', 'Idaho', 'Illinois', 'Indiana', 'Iowa', 'Kansas',\n",
       "        'Kentucky', 'Louisiana', 'Maine', 'Maryland', 'Massachusetts',\n",
       "        'Michigan', 'Minnesota', 'Mississippi', 'Missouri', 'Montana',\n",
       "        'Nebraska', 'Nevada', 'New Hampshire', 'New Jersey', 'New Mexico',\n",
       "        'New York', 'North Carolina', 'North Dakota', 'Ohio', 'Oklahoma',\n",
       "        'Oregon', 'Pennsylvania', 'Rhode Island', 'South Carolina',\n",
       "        'South Dakota', 'Tennessee', 'Texas', 'Utah', 'Vermont',\n",
       "        'Virginia', 'Washington', 'West Virginia', 'Wisconsin', 'Wyoming'],\n",
       "       dtype=object)]"
      ]
     },
     "execution_count": 67,
     "metadata": {},
     "output_type": "execute_result"
    }
   ],
   "source": [
    "ohe.categories_"
   ]
  },
  {
   "cell_type": "code",
   "execution_count": 68,
   "id": "1238c45a",
   "metadata": {},
   "outputs": [],
   "source": [
    "column_trans = make_column_transformer((OneHotEncoder(categories=ohe.categories_),\n",
    "                                       [\"manufacturer\", \"condition\", \"cylinders\", \"fuel\",\n",
    "                                        \"title_status\", \"transmission\", \"drive\" , \"type\", \n",
    "                                        \"model\", \"state\"]), remainder=\"passthrough\")"
   ]
  },
  {
   "cell_type": "code",
   "execution_count": 69,
   "id": "9cf43afc",
   "metadata": {},
   "outputs": [],
   "source": [
    "lr=LinearRegression()"
   ]
  },
  {
   "cell_type": "code",
   "execution_count": 70,
   "id": "d46fd4ae",
   "metadata": {},
   "outputs": [],
   "source": [
    "pipe=make_pipeline(column_trans,lr)"
   ]
  },
  {
   "cell_type": "code",
   "execution_count": 71,
   "id": "25428198",
   "metadata": {},
   "outputs": [
    {
     "data": {
      "text/plain": [
       "Pipeline(steps=[('columntransformer',\n",
       "                 ColumnTransformer(remainder='passthrough',\n",
       "                                   transformers=[('onehotencoder',\n",
       "                                                  OneHotEncoder(categories=[array(['Acura', 'Alfa-romeo', 'Aston-martin', 'Audi', 'Bmw', 'Buick',\n",
       "       'Cadillac', 'Chevrolet', 'Chrysler', 'Datsun', 'Dodge', 'Ferrari',\n",
       "       'Fiat', 'Ford', 'Gmc', 'Harley-davidson', 'Honda', 'Hyundai',\n",
       "       'Infiniti', 'Jaguar', 'Jeep', 'Kia',...\n",
       "       'New York', 'North Carolina', 'North Dakota', 'Ohio', 'Oklahoma',\n",
       "       'Oregon', 'Pennsylvania', 'Rhode Island', 'South Carolina',\n",
       "       'South Dakota', 'Tennessee', 'Texas', 'Utah', 'Vermont',\n",
       "       'Virginia', 'Washington', 'West Virginia', 'Wisconsin', 'Wyoming'],\n",
       "      dtype=object)]),\n",
       "                                                  ['manufacturer', 'condition',\n",
       "                                                   'cylinders', 'fuel',\n",
       "                                                   'title_status',\n",
       "                                                   'transmission', 'drive',\n",
       "                                                   'type', 'model',\n",
       "                                                   'state'])])),\n",
       "                ('linearregression', LinearRegression())])"
      ]
     },
     "execution_count": 71,
     "metadata": {},
     "output_type": "execute_result"
    }
   ],
   "source": [
    "pipe.fit(x_train, y_train)"
   ]
  },
  {
   "cell_type": "code",
   "execution_count": 72,
   "id": "e8d020cd",
   "metadata": {},
   "outputs": [],
   "source": [
    "y_pred=pipe.predict(x_test)"
   ]
  },
  {
   "cell_type": "code",
   "execution_count": 73,
   "id": "657125bd",
   "metadata": {},
   "outputs": [
    {
     "data": {
      "text/plain": [
       "array([ 8202.1698792 , 15500.70533677, 12563.05765481, ...,\n",
       "       22561.68944698, 35387.63488514, 16636.14278604])"
      ]
     },
     "execution_count": 73,
     "metadata": {},
     "output_type": "execute_result"
    }
   ],
   "source": [
    "y_pred"
   ]
  },
  {
   "cell_type": "code",
   "execution_count": 74,
   "id": "2879dd1e",
   "metadata": {},
   "outputs": [
    {
     "data": {
      "text/plain": [
       "0.6131377309286132"
      ]
     },
     "execution_count": 74,
     "metadata": {},
     "output_type": "execute_result"
    }
   ],
   "source": [
    "# checking for r2 socre\n",
    "r2_score(y_test, y_pred)"
   ]
  },
  {
   "cell_type": "code",
   "execution_count": 75,
   "id": "fa439452",
   "metadata": {},
   "outputs": [
    {
     "name": "stdout",
     "output_type": "stream",
     "text": [
      "['Alabama', 'Alaska', 'Arizona', 'Arkansas', 'California', 'Colorado', 'Connecticut', 'Delaware', 'Florida', 'Georgia', 'Hawaii', 'Idaho', 'Illinois', 'Indiana', 'Iowa', 'Kansas', 'Kentucky', 'Louisiana', 'Maine', 'Maryland', 'Massachusetts', 'Michigan', 'Minnesota', 'Mississippi', 'Missouri', 'Montana', 'Nebraska', 'Nevada', 'New Hampshire', 'New Jersey', 'New Mexico', 'New York', 'North Carolina', 'North Dakota', 'Ohio', 'Oklahoma', 'Oregon', 'Pennsylvania', 'Rhode Island', 'South Carolina', 'South Dakota', 'Tennessee', 'Texas', 'Utah', 'Vermont', 'Virginia', 'Washington', 'West Virginia', 'Wisconsin', 'Wyoming']\n"
     ]
    }
   ],
   "source": [
    "print(sorted(Cars_df[\"state\"].unique()))"
   ]
  },
  {
   "cell_type": "code",
   "execution_count": 76,
   "id": "1a39bf40",
   "metadata": {},
   "outputs": [
    {
     "data": {
      "text/plain": [
       "50"
      ]
     },
     "execution_count": 76,
     "metadata": {},
     "output_type": "execute_result"
    }
   ],
   "source": [
    "#Cars_df.head()\n",
    "Cars_df[\"state\"].nunique()"
   ]
  },
  {
   "cell_type": "code",
   "execution_count": 77,
   "id": "3fc0acb4",
   "metadata": {},
   "outputs": [],
   "source": [
    "# checking for maximum possible r2 scores\n",
    "scores = []\n",
    "for i in range(1000):\n",
    "    x_train, x_test, y_train, y_test = train_test_split(x,y, test_size=0.2, random_state=i)\n",
    "    lr=LinearRegression()\n",
    "    pipe=make_pipeline(column_trans,lr)\n",
    "    pipe.fit(x_train, y_train)\n",
    "    y_pred=pipe.predict(x_test)\n",
    "    #print(i, r2_score(y_test, y_pred))\n",
    "    scores.append(r2_score(y_test, y_pred))"
   ]
  },
  {
   "cell_type": "code",
   "execution_count": 78,
   "id": "40a7d8f5",
   "metadata": {},
   "outputs": [
    {
     "data": {
      "text/plain": [
       "465"
      ]
     },
     "execution_count": 78,
     "metadata": {},
     "output_type": "execute_result"
    }
   ],
   "source": [
    "np.argmax(scores)"
   ]
  },
  {
   "cell_type": "code",
   "execution_count": 79,
   "id": "bcb6b287",
   "metadata": {},
   "outputs": [
    {
     "data": {
      "text/plain": [
       "0.625293389815331"
      ]
     },
     "execution_count": 79,
     "metadata": {},
     "output_type": "execute_result"
    }
   ],
   "source": [
    "scores[np.argmax(scores)]"
   ]
  },
  {
   "cell_type": "code",
   "execution_count": 80,
   "id": "8a1d9bb1",
   "metadata": {},
   "outputs": [
    {
     "data": {
      "text/plain": [
       "0.625293389815331"
      ]
     },
     "execution_count": 80,
     "metadata": {},
     "output_type": "execute_result"
    }
   ],
   "source": [
    "x_train, x_test, y_train, y_test = train_test_split(x,y, test_size=0.2, random_state=np.argmax(scores))\n",
    "lr=LinearRegression()\n",
    "pipe=make_pipeline(column_trans,lr)\n",
    "pipe.fit(x_train, y_train)\n",
    "y_pred=pipe.predict(x_test)\n",
    "r2_score(y_test, y_pred)"
   ]
  },
  {
   "cell_type": "code",
   "execution_count": 81,
   "id": "e818e577",
   "metadata": {},
   "outputs": [],
   "source": [
    "import pickle"
   ]
  },
  {
   "cell_type": "code",
   "execution_count": 82,
   "id": "6b45f563",
   "metadata": {},
   "outputs": [],
   "source": [
    "pickle.dump(pipe,open(\"LinearRegressionModel.pkl\", \"wb\"))"
   ]
  },
  {
   "cell_type": "code",
   "execution_count": 83,
   "id": "bedd990b",
   "metadata": {},
   "outputs": [
    {
     "data": {
      "text/plain": [
       "31             Ford F-150\n",
       "55              Ford F250\n",
       "63           Ford Mustang\n",
       "65              Ford F450\n",
       "76        Ford Expedition\n",
       "               ...       \n",
       "426766          Ford F350\n",
       "426774    Ford Expedition\n",
       "426776          Ford F250\n",
       "426785          Ford F150\n",
       "426792         Ford F350,\n",
       "Name: model, Length: 28595, dtype: object"
      ]
     },
     "execution_count": 83,
     "metadata": {},
     "output_type": "execute_result"
    }
   ],
   "source": [
    "Cars_df[\"model\"].loc[Cars_df[\"manufacturer\"]==\"Ford\"]"
   ]
  },
  {
   "cell_type": "code",
   "execution_count": 85,
   "id": "39875604",
   "metadata": {},
   "outputs": [
    {
     "data": {
      "text/plain": [
       "array([11173.02407328])"
      ]
     },
     "execution_count": 85,
     "metadata": {},
     "output_type": "execute_result"
    }
   ],
   "source": [
    "pipe.predict(pd.DataFrame([[\"2000\", \"Ford\", \"Ford F-150\", \"good\", \n",
    "                            \"6 cylinders\", \"gas\", 90000, \"clean\", \"automatic\",\n",
    "                            \"fwd\", \"SUV\", \"Washington\"]], \n",
    "                          columns=[\"year\",\"manufacturer\",\"model\",\"condition\",\n",
    "                                   \"cylinders\",\"fuel\",\"Distance_Traveled\",\"title_status\",\n",
    "                                   \"transmission\",\"drive\", \"type\", \"state\"]))"
   ]
  },
  {
   "cell_type": "code",
   "execution_count": null,
   "id": "e1c6aad4",
   "metadata": {},
   "outputs": [],
   "source": []
  }
 ],
 "metadata": {
  "kernelspec": {
   "display_name": "Python 3 (ipykernel)",
   "language": "python",
   "name": "python3"
  },
  "language_info": {
   "codemirror_mode": {
    "name": "ipython",
    "version": 3
   },
   "file_extension": ".py",
   "mimetype": "text/x-python",
   "name": "python",
   "nbconvert_exporter": "python",
   "pygments_lexer": "ipython3",
   "version": "3.9.7"
  }
 },
 "nbformat": 4,
 "nbformat_minor": 5
}
