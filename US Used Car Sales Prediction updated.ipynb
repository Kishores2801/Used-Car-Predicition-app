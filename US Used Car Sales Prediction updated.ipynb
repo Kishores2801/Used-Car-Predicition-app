{
 "cells": [
  {
   "cell_type": "code",
   "execution_count": 1,
   "id": "02cc57c9",
   "metadata": {},
   "outputs": [],
   "source": [
    "# import Python packages\n",
    "import pandas as pd\n",
    "import numpy as np\n",
    "#import matplotlib as mlp\n",
    "#import matplotlib.pyplot as plt\n",
    "#import seaborn as sns\n"
   ]
  },
  {
   "cell_type": "code",
   "execution_count": 2,
   "id": "ce60148d",
   "metadata": {
    "scrolled": true
   },
   "outputs": [
    {
     "data": {
      "text/html": [
       "<div>\n",
       "<style scoped>\n",
       "    .dataframe tbody tr th:only-of-type {\n",
       "        vertical-align: middle;\n",
       "    }\n",
       "\n",
       "    .dataframe tbody tr th {\n",
       "        vertical-align: top;\n",
       "    }\n",
       "\n",
       "    .dataframe thead th {\n",
       "        text-align: right;\n",
       "    }\n",
       "</style>\n",
       "<table border=\"1\" class=\"dataframe\">\n",
       "  <thead>\n",
       "    <tr style=\"text-align: right;\">\n",
       "      <th></th>\n",
       "      <th>id</th>\n",
       "      <th>url</th>\n",
       "      <th>region</th>\n",
       "      <th>region_url</th>\n",
       "      <th>price</th>\n",
       "      <th>year</th>\n",
       "      <th>manufacturer</th>\n",
       "      <th>model</th>\n",
       "      <th>condition</th>\n",
       "      <th>cylinders</th>\n",
       "      <th>...</th>\n",
       "      <th>size</th>\n",
       "      <th>type</th>\n",
       "      <th>paint_color</th>\n",
       "      <th>image_url</th>\n",
       "      <th>description</th>\n",
       "      <th>county</th>\n",
       "      <th>state</th>\n",
       "      <th>lat</th>\n",
       "      <th>long</th>\n",
       "      <th>posting_date</th>\n",
       "    </tr>\n",
       "  </thead>\n",
       "  <tbody>\n",
       "    <tr>\n",
       "      <th>0</th>\n",
       "      <td>7222695916</td>\n",
       "      <td>https://prescott.craigslist.org/cto/d/prescott...</td>\n",
       "      <td>prescott</td>\n",
       "      <td>https://prescott.craigslist.org</td>\n",
       "      <td>6000</td>\n",
       "      <td>NaN</td>\n",
       "      <td>NaN</td>\n",
       "      <td>NaN</td>\n",
       "      <td>NaN</td>\n",
       "      <td>NaN</td>\n",
       "      <td>...</td>\n",
       "      <td>NaN</td>\n",
       "      <td>NaN</td>\n",
       "      <td>NaN</td>\n",
       "      <td>NaN</td>\n",
       "      <td>NaN</td>\n",
       "      <td>NaN</td>\n",
       "      <td>az</td>\n",
       "      <td>NaN</td>\n",
       "      <td>NaN</td>\n",
       "      <td>NaN</td>\n",
       "    </tr>\n",
       "    <tr>\n",
       "      <th>1</th>\n",
       "      <td>7218891961</td>\n",
       "      <td>https://fayar.craigslist.org/ctd/d/bentonville...</td>\n",
       "      <td>fayetteville</td>\n",
       "      <td>https://fayar.craigslist.org</td>\n",
       "      <td>11900</td>\n",
       "      <td>NaN</td>\n",
       "      <td>NaN</td>\n",
       "      <td>NaN</td>\n",
       "      <td>NaN</td>\n",
       "      <td>NaN</td>\n",
       "      <td>...</td>\n",
       "      <td>NaN</td>\n",
       "      <td>NaN</td>\n",
       "      <td>NaN</td>\n",
       "      <td>NaN</td>\n",
       "      <td>NaN</td>\n",
       "      <td>NaN</td>\n",
       "      <td>ar</td>\n",
       "      <td>NaN</td>\n",
       "      <td>NaN</td>\n",
       "      <td>NaN</td>\n",
       "    </tr>\n",
       "    <tr>\n",
       "      <th>2</th>\n",
       "      <td>7221797935</td>\n",
       "      <td>https://keys.craigslist.org/cto/d/summerland-k...</td>\n",
       "      <td>florida keys</td>\n",
       "      <td>https://keys.craigslist.org</td>\n",
       "      <td>21000</td>\n",
       "      <td>NaN</td>\n",
       "      <td>NaN</td>\n",
       "      <td>NaN</td>\n",
       "      <td>NaN</td>\n",
       "      <td>NaN</td>\n",
       "      <td>...</td>\n",
       "      <td>NaN</td>\n",
       "      <td>NaN</td>\n",
       "      <td>NaN</td>\n",
       "      <td>NaN</td>\n",
       "      <td>NaN</td>\n",
       "      <td>NaN</td>\n",
       "      <td>fl</td>\n",
       "      <td>NaN</td>\n",
       "      <td>NaN</td>\n",
       "      <td>NaN</td>\n",
       "    </tr>\n",
       "    <tr>\n",
       "      <th>3</th>\n",
       "      <td>7222270760</td>\n",
       "      <td>https://worcester.craigslist.org/cto/d/west-br...</td>\n",
       "      <td>worcester / central MA</td>\n",
       "      <td>https://worcester.craigslist.org</td>\n",
       "      <td>1500</td>\n",
       "      <td>NaN</td>\n",
       "      <td>NaN</td>\n",
       "      <td>NaN</td>\n",
       "      <td>NaN</td>\n",
       "      <td>NaN</td>\n",
       "      <td>...</td>\n",
       "      <td>NaN</td>\n",
       "      <td>NaN</td>\n",
       "      <td>NaN</td>\n",
       "      <td>NaN</td>\n",
       "      <td>NaN</td>\n",
       "      <td>NaN</td>\n",
       "      <td>ma</td>\n",
       "      <td>NaN</td>\n",
       "      <td>NaN</td>\n",
       "      <td>NaN</td>\n",
       "    </tr>\n",
       "    <tr>\n",
       "      <th>4</th>\n",
       "      <td>7210384030</td>\n",
       "      <td>https://greensboro.craigslist.org/cto/d/trinit...</td>\n",
       "      <td>greensboro</td>\n",
       "      <td>https://greensboro.craigslist.org</td>\n",
       "      <td>4900</td>\n",
       "      <td>NaN</td>\n",
       "      <td>NaN</td>\n",
       "      <td>NaN</td>\n",
       "      <td>NaN</td>\n",
       "      <td>NaN</td>\n",
       "      <td>...</td>\n",
       "      <td>NaN</td>\n",
       "      <td>NaN</td>\n",
       "      <td>NaN</td>\n",
       "      <td>NaN</td>\n",
       "      <td>NaN</td>\n",
       "      <td>NaN</td>\n",
       "      <td>nc</td>\n",
       "      <td>NaN</td>\n",
       "      <td>NaN</td>\n",
       "      <td>NaN</td>\n",
       "    </tr>\n",
       "  </tbody>\n",
       "</table>\n",
       "<p>5 rows × 26 columns</p>\n",
       "</div>"
      ],
      "text/plain": [
       "           id                                                url  \\\n",
       "0  7222695916  https://prescott.craigslist.org/cto/d/prescott...   \n",
       "1  7218891961  https://fayar.craigslist.org/ctd/d/bentonville...   \n",
       "2  7221797935  https://keys.craigslist.org/cto/d/summerland-k...   \n",
       "3  7222270760  https://worcester.craigslist.org/cto/d/west-br...   \n",
       "4  7210384030  https://greensboro.craigslist.org/cto/d/trinit...   \n",
       "\n",
       "                   region                         region_url  price  year  \\\n",
       "0                prescott    https://prescott.craigslist.org   6000   NaN   \n",
       "1            fayetteville       https://fayar.craigslist.org  11900   NaN   \n",
       "2            florida keys        https://keys.craigslist.org  21000   NaN   \n",
       "3  worcester / central MA   https://worcester.craigslist.org   1500   NaN   \n",
       "4              greensboro  https://greensboro.craigslist.org   4900   NaN   \n",
       "\n",
       "  manufacturer model condition cylinders  ... size  type paint_color  \\\n",
       "0          NaN   NaN       NaN       NaN  ...  NaN   NaN         NaN   \n",
       "1          NaN   NaN       NaN       NaN  ...  NaN   NaN         NaN   \n",
       "2          NaN   NaN       NaN       NaN  ...  NaN   NaN         NaN   \n",
       "3          NaN   NaN       NaN       NaN  ...  NaN   NaN         NaN   \n",
       "4          NaN   NaN       NaN       NaN  ...  NaN   NaN         NaN   \n",
       "\n",
       "  image_url description county state lat long posting_date  \n",
       "0       NaN         NaN    NaN    az NaN  NaN          NaN  \n",
       "1       NaN         NaN    NaN    ar NaN  NaN          NaN  \n",
       "2       NaN         NaN    NaN    fl NaN  NaN          NaN  \n",
       "3       NaN         NaN    NaN    ma NaN  NaN          NaN  \n",
       "4       NaN         NaN    NaN    nc NaN  NaN          NaN  \n",
       "\n",
       "[5 rows x 26 columns]"
      ]
     },
     "execution_count": 2,
     "metadata": {},
     "output_type": "execute_result"
    }
   ],
   "source": [
    "# Loading the dataset\n",
    "Cars_df=pd.read_csv(\"D:/Studies/My Projects/Data Science/Car Prediction/Data/vehicles.csv\")\n",
    "Cars_df.head()"
   ]
  },
  {
   "cell_type": "code",
   "execution_count": 3,
   "id": "0dc9f6f5",
   "metadata": {},
   "outputs": [
    {
     "name": "stdout",
     "output_type": "stream",
     "text": [
      "This Dataset 426880 Rows and 26 columns\n"
     ]
    }
   ],
   "source": [
    "# checking for no rows, columns\n",
    "print(\"This Dataset {} Rows and {} columns\".format(Cars_df.shape[0],Cars_df.shape[1]))"
   ]
  },
  {
   "cell_type": "code",
   "execution_count": 4,
   "id": "8b0c3842",
   "metadata": {},
   "outputs": [
    {
     "name": "stdout",
     "output_type": "stream",
     "text": [
      "<class 'pandas.core.frame.DataFrame'>\n",
      "RangeIndex: 426880 entries, 0 to 426879\n",
      "Data columns (total 26 columns):\n",
      " #   Column        Non-Null Count   Dtype  \n",
      "---  ------        --------------   -----  \n",
      " 0   id            426880 non-null  int64  \n",
      " 1   url           426880 non-null  object \n",
      " 2   region        426880 non-null  object \n",
      " 3   region_url    426880 non-null  object \n",
      " 4   price         426880 non-null  int64  \n",
      " 5   year          425675 non-null  float64\n",
      " 6   manufacturer  409234 non-null  object \n",
      " 7   model         421603 non-null  object \n",
      " 8   condition     252776 non-null  object \n",
      " 9   cylinders     249202 non-null  object \n",
      " 10  fuel          423867 non-null  object \n",
      " 11  odometer      422480 non-null  float64\n",
      " 12  title_status  418638 non-null  object \n",
      " 13  transmission  424324 non-null  object \n",
      " 14  VIN           265838 non-null  object \n",
      " 15  drive         296313 non-null  object \n",
      " 16  size          120519 non-null  object \n",
      " 17  type          334022 non-null  object \n",
      " 18  paint_color   296677 non-null  object \n",
      " 19  image_url     426812 non-null  object \n",
      " 20  description   426810 non-null  object \n",
      " 21  county        0 non-null       float64\n",
      " 22  state         426880 non-null  object \n",
      " 23  lat           420331 non-null  float64\n",
      " 24  long          420331 non-null  float64\n",
      " 25  posting_date  426812 non-null  object \n",
      "dtypes: float64(5), int64(2), object(19)\n",
      "memory usage: 84.7+ MB\n"
     ]
    }
   ],
   "source": [
    "# printing the full summary of dataset\n",
    "Cars_df.info()"
   ]
  },
  {
   "cell_type": "code",
   "execution_count": 5,
   "id": "78d70072",
   "metadata": {
    "scrolled": true
   },
   "outputs": [
    {
     "data": {
      "text/plain": [
       "array([nan, 'gmc', 'chevrolet', 'toyota', 'ford', 'jeep', 'nissan', 'ram',\n",
       "       'mazda', 'cadillac', 'honda', 'dodge', 'lexus', 'jaguar', 'buick',\n",
       "       'chrysler', 'volvo', 'audi', 'infiniti', 'lincoln', 'alfa-romeo',\n",
       "       'subaru', 'acura', 'hyundai', 'mercedes-benz', 'bmw', 'mitsubishi',\n",
       "       'volkswagen', 'porsche', 'kia', 'rover', 'ferrari', 'mini',\n",
       "       'pontiac', 'fiat', 'tesla', 'saturn', 'mercury', 'harley-davidson',\n",
       "       'datsun', 'aston-martin', 'land rover', 'morgan'], dtype=object)"
      ]
     },
     "execution_count": 5,
     "metadata": {},
     "output_type": "execute_result"
    }
   ],
   "source": [
    "# checking the no of unique values for manufacturer\n",
    "Cars_df['manufacturer'].unique()"
   ]
  },
  {
   "cell_type": "code",
   "execution_count": 6,
   "id": "ed34fa54",
   "metadata": {
    "scrolled": true
   },
   "outputs": [
    {
     "data": {
      "text/plain": [
       "array([nan, 'sierra 1500 crew cab slt', 'silverado 1500', ...,\n",
       "       'gand wagoneer', '96 Suburban', 'Paige Glenbrook Touring'],\n",
       "      dtype=object)"
      ]
     },
     "execution_count": 6,
     "metadata": {},
     "output_type": "execute_result"
    }
   ],
   "source": [
    "# Checking for Unique Values\n",
    "Cars_df[\"model\"].unique()"
   ]
  },
  {
   "cell_type": "code",
   "execution_count": 7,
   "id": "1ca930cb",
   "metadata": {},
   "outputs": [
    {
     "data": {
      "text/plain": [
       "29667"
      ]
     },
     "execution_count": 7,
     "metadata": {},
     "output_type": "execute_result"
    }
   ],
   "source": [
    "# Checking for count of Unique Values\n",
    "Cars_df[\"model\"].nunique()"
   ]
  },
  {
   "cell_type": "code",
   "execution_count": 8,
   "id": "740108f2",
   "metadata": {},
   "outputs": [
    {
     "data": {
      "text/plain": [
       "array([nan, 'good', 'excellent', 'fair', 'like new', 'new', 'salvage'],\n",
       "      dtype=object)"
      ]
     },
     "execution_count": 8,
     "metadata": {},
     "output_type": "execute_result"
    }
   ],
   "source": [
    "# Checking for Unique Values for conditions\n",
    "Cars_df[\"condition\"].unique()"
   ]
  },
  {
   "cell_type": "code",
   "execution_count": 9,
   "id": "431357a0",
   "metadata": {},
   "outputs": [
    {
     "data": {
      "text/plain": [
       "array([nan, '8 cylinders', '6 cylinders', '4 cylinders', '5 cylinders',\n",
       "       'other', '3 cylinders', '10 cylinders', '12 cylinders'],\n",
       "      dtype=object)"
      ]
     },
     "execution_count": 9,
     "metadata": {},
     "output_type": "execute_result"
    }
   ],
   "source": [
    "# Checking for Unique Values for cylinders\n",
    "Cars_df[\"cylinders\"].unique()"
   ]
  },
  {
   "cell_type": "code",
   "execution_count": 10,
   "id": "a455debd",
   "metadata": {},
   "outputs": [
    {
     "data": {
      "text/plain": [
       "array([nan, 'gas', 'other', 'diesel', 'hybrid', 'electric'], dtype=object)"
      ]
     },
     "execution_count": 10,
     "metadata": {},
     "output_type": "execute_result"
    }
   ],
   "source": [
    "# checking for Unique values for fuel\n",
    "Cars_df[\"fuel\"].unique()"
   ]
  },
  {
   "cell_type": "code",
   "execution_count": 11,
   "id": "8d96e53a",
   "metadata": {},
   "outputs": [
    {
     "data": {
      "text/plain": [
       "array([    nan,  57923.,  71229., ..., 172511.,  94964.,  26892.])"
      ]
     },
     "execution_count": 11,
     "metadata": {},
     "output_type": "execute_result"
    }
   ],
   "source": [
    "# checking for unique values for odometer\n",
    "Cars_df[\"odometer\"].unique()"
   ]
  },
  {
   "cell_type": "code",
   "execution_count": 12,
   "id": "b2f9047a",
   "metadata": {},
   "outputs": [
    {
     "data": {
      "text/plain": [
       "array([nan, 'clean', 'rebuilt', 'lien', 'salvage', 'missing',\n",
       "       'parts only'], dtype=object)"
      ]
     },
     "execution_count": 12,
     "metadata": {},
     "output_type": "execute_result"
    }
   ],
   "source": [
    "# checking for unique values for title_status  \n",
    "Cars_df[\"title_status\"].unique()"
   ]
  },
  {
   "cell_type": "code",
   "execution_count": 13,
   "id": "e4204b64",
   "metadata": {},
   "outputs": [
    {
     "data": {
      "text/plain": [
       "array([nan, '3GTP1VEC4EG551563', '1GCSCSE06AZ123805', ...,\n",
       "       '2HGES15535H620534', '1FDWF37P64EA24868', 'SAJGX2749VCOO8376'],\n",
       "      dtype=object)"
      ]
     },
     "execution_count": 13,
     "metadata": {},
     "output_type": "execute_result"
    }
   ],
   "source": [
    "# checking for unique values for drive\n",
    "Cars_df[\"VIN\"].unique()"
   ]
  },
  {
   "cell_type": "code",
   "execution_count": 14,
   "id": "32dd83b9",
   "metadata": {},
   "outputs": [
    {
     "data": {
      "text/plain": [
       "array([nan, 'rwd', '4wd', 'fwd'], dtype=object)"
      ]
     },
     "execution_count": 14,
     "metadata": {},
     "output_type": "execute_result"
    }
   ],
   "source": [
    "# checking for unique values for drive\n",
    "Cars_df[\"drive\"].unique()"
   ]
  },
  {
   "cell_type": "code",
   "execution_count": 15,
   "id": "e3d45d3e",
   "metadata": {},
   "outputs": [
    {
     "data": {
      "text/plain": [
       "array([nan, 'full-size', 'mid-size', 'compact', 'sub-compact'],\n",
       "      dtype=object)"
      ]
     },
     "execution_count": 15,
     "metadata": {},
     "output_type": "execute_result"
    }
   ],
   "source": [
    "# checking for unique values for size.\n",
    "Cars_df[\"size\"].unique()"
   ]
  },
  {
   "cell_type": "code",
   "execution_count": 16,
   "id": "1a93c2ba",
   "metadata": {},
   "outputs": [
    {
     "data": {
      "text/plain": [
       "array([nan, 'pickup', 'truck', 'other', 'coupe', 'SUV', 'hatchback',\n",
       "       'mini-van', 'sedan', 'offroad', 'bus', 'van', 'convertible',\n",
       "       'wagon'], dtype=object)"
      ]
     },
     "execution_count": 16,
     "metadata": {},
     "output_type": "execute_result"
    }
   ],
   "source": [
    "# checking for unique values for type.\n",
    "Cars_df[\"type\"].unique()\n",
    "#Cars_df[\"type\"].isnull().sum()"
   ]
  },
  {
   "cell_type": "code",
   "execution_count": 17,
   "id": "4110cac5",
   "metadata": {},
   "outputs": [
    {
     "data": {
      "text/plain": [
       "array([nan, 'white', 'blue', 'red', 'black', 'silver', 'grey', 'brown',\n",
       "       'yellow', 'orange', 'green', 'custom', 'purple'], dtype=object)"
      ]
     },
     "execution_count": 17,
     "metadata": {},
     "output_type": "execute_result"
    }
   ],
   "source": [
    "# checking for unique values for paint_color   .\n",
    "Cars_df[\"paint_color\"].unique()"
   ]
  },
  {
   "cell_type": "markdown",
   "id": "eb17b4af",
   "metadata": {},
   "source": [
    "## Cleaning Dataset based on features\n",
    "\n",
    "Here are the notes for cleaning which shoule be considered when cleaning.\n",
    "- on the Manufacturer column we can see NAN Values. (Dropping those Values since there is no ways getting those values)\n",
    "- on the  value for price drop if it is 0 (first replace with NP.nan and remove those values)\n",
    "- on the Model Column we can see NAN Values Dropping those Values since there is no ways getting those values)\n",
    "- There are almost 30000 unique values,so we have to find a way reduce those no of unique values as first stage we will trt split the Model into core model by considering first two words.\n",
    "- Np.Nan can be adjusted based on number of years if the car is 0-2 \"excellent\" 3-6 to \"fair\", 7-12 to \"Good\" & more than 12 \"salvage\"\n",
    "- remove the np.nan values in cylinder, other.\n",
    "- remove the \"np.nan\" values in fuel remove other.\n",
    "- remove the \"np.nan\" in odometer\n",
    "- remove the \"np.nan\" in Title status\n",
    "- Drop the VIN number form dataframe (Reason for droping will not help for prediction since all the VIN Values are unique for each cars \"17-digit code of letters and numbers that identifies a car uniquely and is assigned at the time a vehicle is manufactured\")\n",
    "- Remove the \"np.nan\" values for drive.\n",
    "- Drop the size column.\n",
    "- Remove the \"np.nan\" values for type.\n",
    "- replace the \"np.nan\" values with maximum.\n",
    "- drop image url drop description columns from dataframe.\n",
    "- drop county column since there is no value on that.\n",
    "- for state Column replace the short name with full name.\n",
    "- drop lat long columns (we can use to create map with folium based on position)\n",
    "- Posting date should can be used for creating line chart for understanding when they are selling more cars. drop them after that"
   ]
  },
  {
   "cell_type": "markdown",
   "id": "75b8e304",
   "metadata": {},
   "source": [
    "After cleaning we can expect arround 200 to 250k of cleaned data points for EDA."
   ]
  },
  {
   "cell_type": "code",
   "execution_count": 18,
   "id": "5461cfa9",
   "metadata": {},
   "outputs": [],
   "source": [
    "# Getting a backup of dataframe before data manipulation\n",
    "Backup=Cars_df.copy()"
   ]
  },
  {
   "cell_type": "code",
   "execution_count": 19,
   "id": "5ab54b5f",
   "metadata": {},
   "outputs": [
    {
     "data": {
      "text/plain": [
       "id                   0\n",
       "url                  0\n",
       "region               0\n",
       "region_url           0\n",
       "price                0\n",
       "year              1205\n",
       "manufacturer     17646\n",
       "model             5277\n",
       "condition       174104\n",
       "cylinders       177678\n",
       "fuel              3013\n",
       "odometer          4400\n",
       "title_status      8242\n",
       "transmission      2556\n",
       "VIN             161042\n",
       "drive           130567\n",
       "size            306361\n",
       "type             92858\n",
       "paint_color     130203\n",
       "image_url           68\n",
       "description         70\n",
       "county          426880\n",
       "state                0\n",
       "lat               6549\n",
       "long              6549\n",
       "posting_date        68\n",
       "dtype: int64"
      ]
     },
     "execution_count": 19,
     "metadata": {},
     "output_type": "execute_result"
    }
   ],
   "source": [
    "# Checking for total no of null values in full dataset\n",
    "Cars_df.isnull().sum()"
   ]
  },
  {
   "cell_type": "markdown",
   "id": "49679ec9",
   "metadata": {},
   "source": [
    "### Dropping columns from DataFrame\n",
    "\n",
    "We are dropping following features from the dataframe & Reasons\n",
    "\n",
    " - For First Round we are going to cleanout following columns\n",
    "     - id \n",
    "     - VIN Column - VIN is a unique key number given for each car by manufacturer, so it cannot be used as a feature for prediction.\n",
    "     - url for link ad \n",
    "     - Region_url\n",
    "     - Droping model\n",
    "     - County column - This column is fully empty so we should remove those\n",
    "     - size column - This column has 75% of values null.\n",
    "     - Description - Not required\n",
    "     - lat - not Required\n",
    "     - Long - not Required\n",
    "     - Image Url - Not required\n",
    "     - state -not required\n",
    "     - title status - ignored\n",
    "    \n",
    "     "
   ]
  },
  {
   "cell_type": "code",
   "execution_count": 20,
   "id": "4335d354",
   "metadata": {},
   "outputs": [
    {
     "name": "stdout",
     "output_type": "stream",
     "text": [
      "<class 'pandas.core.frame.DataFrame'>\n",
      "RangeIndex: 426880 entries, 0 to 426879\n",
      "Data columns (total 11 columns):\n",
      " #   Column        Non-Null Count   Dtype  \n",
      "---  ------        --------------   -----  \n",
      " 0   price         426880 non-null  int64  \n",
      " 1   year          425675 non-null  float64\n",
      " 2   manufacturer  409234 non-null  object \n",
      " 3   model         421603 non-null  object \n",
      " 4   condition     252776 non-null  object \n",
      " 5   cylinders     249202 non-null  object \n",
      " 6   fuel          423867 non-null  object \n",
      " 7   odometer      422480 non-null  float64\n",
      " 8   transmission  424324 non-null  object \n",
      " 9   drive         296313 non-null  object \n",
      " 10  type          334022 non-null  object \n",
      "dtypes: float64(2), int64(1), object(8)\n",
      "memory usage: 35.8+ MB\n"
     ]
    }
   ],
   "source": [
    "# to remove columns df.drop([\"XXX\"],axis=1)\n",
    "Cars_df=Cars_df.drop([\"id\", \"url\", \"region_url\",\"VIN\", \"county\", \"size\", \"description\",\"lat\", \"long\", \n",
    "                      \"image_url\", \"paint_color\",\"posting_date\", \"region\", \"state\", \"title_status\"], axis=1)\n",
    "\n",
    "\n",
    "Cars_df.info()"
   ]
  },
  {
   "cell_type": "code",
   "execution_count": 21,
   "id": "26a84af6",
   "metadata": {},
   "outputs": [
    {
     "data": {
      "text/plain": [
       "297451"
      ]
     },
     "execution_count": 21,
     "metadata": {},
     "output_type": "execute_result"
    }
   ],
   "source": [
    "#checking for possible dropout values \n",
    "Cars_df.isnull().any(axis=1).sum()"
   ]
  },
  {
   "cell_type": "markdown",
   "id": "7087b16f",
   "metadata": {},
   "source": [
    "### Removing np.nan values from dataframe."
   ]
  },
  {
   "cell_type": "code",
   "execution_count": 22,
   "id": "2413729f",
   "metadata": {},
   "outputs": [
    {
     "data": {
      "text/plain": [
       "32895"
      ]
     },
     "execution_count": 22,
     "metadata": {},
     "output_type": "execute_result"
    }
   ],
   "source": [
    "# Price\n",
    "# replacing the zero value to Np.nan, because the if the price is zero it means it is free for sales.\n",
    "Cars_df[\"price\"].replace(0,np.nan, inplace=True)\n",
    "Cars_df[\"price\"].isnull().sum()"
   ]
  },
  {
   "cell_type": "code",
   "execution_count": 23,
   "id": "a9f273dc",
   "metadata": {},
   "outputs": [],
   "source": [
    "# Dropping the null value from prices\n",
    "Cars_df.dropna(subset=[\"price\"], inplace=True)"
   ]
  },
  {
   "cell_type": "code",
   "execution_count": 24,
   "id": "34b62979",
   "metadata": {},
   "outputs": [
    {
     "data": {
      "text/plain": [
       "0"
      ]
     },
     "execution_count": 24,
     "metadata": {},
     "output_type": "execute_result"
    }
   ],
   "source": [
    "Cars_df[\"price\"].isnull().sum()"
   ]
  },
  {
   "cell_type": "code",
   "execution_count": 25,
   "id": "43232562",
   "metadata": {},
   "outputs": [
    {
     "name": "stdout",
     "output_type": "stream",
     "text": [
      "<class 'pandas.core.frame.DataFrame'>\n",
      "Int64Index: 393985 entries, 0 to 426879\n",
      "Data columns (total 11 columns):\n",
      " #   Column        Non-Null Count   Dtype  \n",
      "---  ------        --------------   -----  \n",
      " 0   price         393985 non-null  float64\n",
      " 1   year          392812 non-null  float64\n",
      " 2   manufacturer  377800 non-null  object \n",
      " 3   model         389284 non-null  object \n",
      " 4   condition     242596 non-null  object \n",
      " 5   cylinders     233575 non-null  object \n",
      " 6   fuel          391391 non-null  object \n",
      " 7   odometer      391695 non-null  float64\n",
      " 8   transmission  392162 non-null  object \n",
      " 9   drive         273731 non-null  object \n",
      " 10  type          308053 non-null  object \n",
      "dtypes: float64(3), object(8)\n",
      "memory usage: 36.1+ MB\n"
     ]
    }
   ],
   "source": [
    "Cars_df.info()"
   ]
  },
  {
   "cell_type": "code",
   "execution_count": 26,
   "id": "8286e0f6",
   "metadata": {},
   "outputs": [],
   "source": [
    "# dropping null values form Year\n",
    "Cars_df.dropna(subset=[\"year\"], inplace=True)"
   ]
  },
  {
   "cell_type": "code",
   "execution_count": 27,
   "id": "e625ffa6",
   "metadata": {},
   "outputs": [
    {
     "name": "stdout",
     "output_type": "stream",
     "text": [
      "<class 'pandas.core.frame.DataFrame'>\n",
      "Int64Index: 377796 entries, 27 to 426879\n",
      "Data columns (total 11 columns):\n",
      " #   Column        Non-Null Count   Dtype  \n",
      "---  ------        --------------   -----  \n",
      " 0   price         377796 non-null  float64\n",
      " 1   year          377796 non-null  float64\n",
      " 2   manufacturer  377796 non-null  object \n",
      " 3   model         373157 non-null  object \n",
      " 4   condition     232120 non-null  object \n",
      " 5   cylinders     224296 non-null  object \n",
      " 6   fuel          375629 non-null  object \n",
      " 7   odometer      375619 non-null  float64\n",
      " 8   transmission  376093 non-null  object \n",
      " 9   drive         263870 non-null  object \n",
      " 10  type          297464 non-null  object \n",
      "dtypes: float64(3), object(8)\n",
      "memory usage: 34.6+ MB\n"
     ]
    }
   ],
   "source": [
    "# dropping null values form manufacturer\n",
    "Cars_df.dropna(subset=[\"manufacturer\"], inplace=True)\n",
    "\n",
    "Cars_df.info()"
   ]
  },
  {
   "cell_type": "code",
   "execution_count": 28,
   "id": "c404f5f2",
   "metadata": {},
   "outputs": [
    {
     "data": {
      "text/plain": [
       "27         8\n",
       "28        12\n",
       "29         2\n",
       "30         5\n",
       "31         9\n",
       "          ..\n",
       "426875     3\n",
       "426876     2\n",
       "426877     2\n",
       "426878     4\n",
       "426879     3\n",
       "Name: years_used, Length: 377796, dtype: int32"
      ]
     },
     "execution_count": 28,
     "metadata": {},
     "output_type": "execute_result"
    }
   ],
   "source": [
    "# Replacing conditions null value with following Criteria\n",
    "# Np.Nan can be adjusted based on number of years if the car is \n",
    "#0-2 \"excellent\" 3-6 to \"Good\", 7-12 to \"fair\" & more than 12 \"salvage\"\n",
    "\n",
    "Cars_df[\"years_used\"]=2022-Cars_df[\"year\"]\n",
    "Cars_df[\"years_used\"].head()\n",
    "Cars_df[\"years_used\"].astype(int)"
   ]
  },
  {
   "cell_type": "code",
   "execution_count": 29,
   "id": "9a406f75",
   "metadata": {},
   "outputs": [],
   "source": [
    "# changing null value in condition to years used.\n",
    "\n",
    "m1 = (Cars_df[\"condition\"].isnull()) & (Cars_df[\"years_used\"]<=2)\n",
    "m2 = (Cars_df[\"condition\"].isnull()) & (Cars_df[\"years_used\"]>=3) & (Cars_df[\"years_used\"]<=6)\n",
    "m3 = (Cars_df[\"condition\"].isnull()) & (Cars_df[\"years_used\"]>=7) & (Cars_df[\"years_used\"]<=12)\n",
    "m4 = (Cars_df[\"condition\"].isnull()) & (Cars_df[\"years_used\"]>12)\n",
    "\n",
    "\n",
    "Cars_df.loc[m1, \"condition\"]=\"excellent\"\n",
    "Cars_df.loc[m2, \"condition\"]=\"good\"\n",
    "Cars_df.loc[m3, \"condition\"]=\"fair\"\n",
    "Cars_df.loc[m4, \"condition\"]=\"salvage\""
   ]
  },
  {
   "cell_type": "code",
   "execution_count": 30,
   "id": "3fc4b3b9",
   "metadata": {},
   "outputs": [
    {
     "data": {
      "text/plain": [
       "array(['good', 'excellent', 'fair', 'salvage', 'like new', 'new'],\n",
       "      dtype=object)"
      ]
     },
     "execution_count": 30,
     "metadata": {},
     "output_type": "execute_result"
    }
   ],
   "source": [
    "Cars_df[\"condition\"].unique()"
   ]
  },
  {
   "cell_type": "code",
   "execution_count": 31,
   "id": "4260efbc",
   "metadata": {},
   "outputs": [
    {
     "name": "stdout",
     "output_type": "stream",
     "text": [
      "<class 'pandas.core.frame.DataFrame'>\n",
      "Int64Index: 377796 entries, 27 to 426879\n",
      "Data columns (total 12 columns):\n",
      " #   Column        Non-Null Count   Dtype  \n",
      "---  ------        --------------   -----  \n",
      " 0   price         377796 non-null  float64\n",
      " 1   year          377796 non-null  float64\n",
      " 2   manufacturer  377796 non-null  object \n",
      " 3   model         373157 non-null  object \n",
      " 4   condition     377796 non-null  object \n",
      " 5   cylinders     224296 non-null  object \n",
      " 6   fuel          375629 non-null  object \n",
      " 7   odometer      375619 non-null  float64\n",
      " 8   transmission  376093 non-null  object \n",
      " 9   drive         263870 non-null  object \n",
      " 10  type          297464 non-null  object \n",
      " 11  years_used    377796 non-null  float64\n",
      "dtypes: float64(4), object(8)\n",
      "memory usage: 37.5+ MB\n"
     ]
    }
   ],
   "source": [
    "Cars_df.info()"
   ]
  },
  {
   "cell_type": "code",
   "execution_count": 32,
   "id": "fe59165c",
   "metadata": {},
   "outputs": [],
   "source": [
    "# Droping the null values in models\n",
    "Cars_df.dropna(subset=[\"model\"], inplace=True)"
   ]
  },
  {
   "cell_type": "code",
   "execution_count": 33,
   "id": "fc9fbb90",
   "metadata": {},
   "outputs": [
    {
     "data": {
      "text/plain": [
       "27    sierra 1500 crew cab slt\n",
       "28              silverado 1500\n",
       "29         silverado 1500 crew\n",
       "30        tundra double cab sr\n",
       "31                   f-150 xlt\n",
       "Name: model, dtype: object"
      ]
     },
     "execution_count": 33,
     "metadata": {},
     "output_type": "execute_result"
    }
   ],
   "source": [
    "Cars_df[\"model\"].head()"
   ]
  },
  {
   "cell_type": "code",
   "execution_count": 34,
   "id": "fd583f5d",
   "metadata": {},
   "outputs": [
    {
     "data": {
      "text/plain": [
       "27       sierra 1500\n",
       "28    silverado 1500\n",
       "29    silverado 1500\n",
       "30     tundra double\n",
       "31         f-150 xlt\n",
       "Name: model_updated, dtype: object"
      ]
     },
     "execution_count": 34,
     "metadata": {},
     "output_type": "execute_result"
    }
   ],
   "source": [
    "# split the model name and get the first two out of those.\n",
    "Cars_df[\"model_updated\"]=Cars_df[\"model\"].str.split(\" \").str.slice(0,2).str.join(\" \")\n",
    "Cars_df[\"model_updated\"].head()"
   ]
  },
  {
   "cell_type": "code",
   "execution_count": 35,
   "id": "3e0d6b1c",
   "metadata": {},
   "outputs": [
    {
     "data": {
      "text/html": [
       "<div>\n",
       "<style scoped>\n",
       "    .dataframe tbody tr th:only-of-type {\n",
       "        vertical-align: middle;\n",
       "    }\n",
       "\n",
       "    .dataframe tbody tr th {\n",
       "        vertical-align: top;\n",
       "    }\n",
       "\n",
       "    .dataframe thead th {\n",
       "        text-align: right;\n",
       "    }\n",
       "</style>\n",
       "<table border=\"1\" class=\"dataframe\">\n",
       "  <thead>\n",
       "    <tr style=\"text-align: right;\">\n",
       "      <th></th>\n",
       "      <th>price</th>\n",
       "      <th>year</th>\n",
       "      <th>manufacturer</th>\n",
       "      <th>model</th>\n",
       "      <th>condition</th>\n",
       "      <th>cylinders</th>\n",
       "      <th>fuel</th>\n",
       "      <th>odometer</th>\n",
       "      <th>transmission</th>\n",
       "      <th>drive</th>\n",
       "      <th>type</th>\n",
       "      <th>years_used</th>\n",
       "      <th>model_updated</th>\n",
       "    </tr>\n",
       "  </thead>\n",
       "  <tbody>\n",
       "    <tr>\n",
       "      <th>27</th>\n",
       "      <td>33590.0</td>\n",
       "      <td>2014.0</td>\n",
       "      <td>gmc</td>\n",
       "      <td>sierra 1500 crew cab slt</td>\n",
       "      <td>good</td>\n",
       "      <td>8 cylinders</td>\n",
       "      <td>gas</td>\n",
       "      <td>57923.0</td>\n",
       "      <td>other</td>\n",
       "      <td>NaN</td>\n",
       "      <td>pickup</td>\n",
       "      <td>8.0</td>\n",
       "      <td>sierra 1500</td>\n",
       "    </tr>\n",
       "    <tr>\n",
       "      <th>28</th>\n",
       "      <td>22590.0</td>\n",
       "      <td>2010.0</td>\n",
       "      <td>chevrolet</td>\n",
       "      <td>silverado 1500</td>\n",
       "      <td>good</td>\n",
       "      <td>8 cylinders</td>\n",
       "      <td>gas</td>\n",
       "      <td>71229.0</td>\n",
       "      <td>other</td>\n",
       "      <td>NaN</td>\n",
       "      <td>pickup</td>\n",
       "      <td>12.0</td>\n",
       "      <td>silverado 1500</td>\n",
       "    </tr>\n",
       "    <tr>\n",
       "      <th>29</th>\n",
       "      <td>39590.0</td>\n",
       "      <td>2020.0</td>\n",
       "      <td>chevrolet</td>\n",
       "      <td>silverado 1500 crew</td>\n",
       "      <td>good</td>\n",
       "      <td>8 cylinders</td>\n",
       "      <td>gas</td>\n",
       "      <td>19160.0</td>\n",
       "      <td>other</td>\n",
       "      <td>NaN</td>\n",
       "      <td>pickup</td>\n",
       "      <td>2.0</td>\n",
       "      <td>silverado 1500</td>\n",
       "    </tr>\n",
       "    <tr>\n",
       "      <th>30</th>\n",
       "      <td>30990.0</td>\n",
       "      <td>2017.0</td>\n",
       "      <td>toyota</td>\n",
       "      <td>tundra double cab sr</td>\n",
       "      <td>good</td>\n",
       "      <td>8 cylinders</td>\n",
       "      <td>gas</td>\n",
       "      <td>41124.0</td>\n",
       "      <td>other</td>\n",
       "      <td>NaN</td>\n",
       "      <td>pickup</td>\n",
       "      <td>5.0</td>\n",
       "      <td>tundra double</td>\n",
       "    </tr>\n",
       "    <tr>\n",
       "      <th>31</th>\n",
       "      <td>15000.0</td>\n",
       "      <td>2013.0</td>\n",
       "      <td>ford</td>\n",
       "      <td>f-150 xlt</td>\n",
       "      <td>excellent</td>\n",
       "      <td>6 cylinders</td>\n",
       "      <td>gas</td>\n",
       "      <td>128000.0</td>\n",
       "      <td>automatic</td>\n",
       "      <td>rwd</td>\n",
       "      <td>truck</td>\n",
       "      <td>9.0</td>\n",
       "      <td>f-150 xlt</td>\n",
       "    </tr>\n",
       "  </tbody>\n",
       "</table>\n",
       "</div>"
      ],
      "text/plain": [
       "      price    year manufacturer                     model  condition  \\\n",
       "27  33590.0  2014.0          gmc  sierra 1500 crew cab slt       good   \n",
       "28  22590.0  2010.0    chevrolet            silverado 1500       good   \n",
       "29  39590.0  2020.0    chevrolet       silverado 1500 crew       good   \n",
       "30  30990.0  2017.0       toyota      tundra double cab sr       good   \n",
       "31  15000.0  2013.0         ford                 f-150 xlt  excellent   \n",
       "\n",
       "      cylinders fuel  odometer transmission drive    type  years_used  \\\n",
       "27  8 cylinders  gas   57923.0        other   NaN  pickup         8.0   \n",
       "28  8 cylinders  gas   71229.0        other   NaN  pickup        12.0   \n",
       "29  8 cylinders  gas   19160.0        other   NaN  pickup         2.0   \n",
       "30  8 cylinders  gas   41124.0        other   NaN  pickup         5.0   \n",
       "31  6 cylinders  gas  128000.0    automatic   rwd   truck         9.0   \n",
       "\n",
       "     model_updated  \n",
       "27     sierra 1500  \n",
       "28  silverado 1500  \n",
       "29  silverado 1500  \n",
       "30   tundra double  \n",
       "31       f-150 xlt  "
      ]
     },
     "execution_count": 35,
     "metadata": {},
     "output_type": "execute_result"
    }
   ],
   "source": [
    "Cars_df.head()"
   ]
  },
  {
   "cell_type": "code",
   "execution_count": 36,
   "id": "efcb12ba",
   "metadata": {},
   "outputs": [
    {
     "data": {
      "text/html": [
       "<div>\n",
       "<style scoped>\n",
       "    .dataframe tbody tr th:only-of-type {\n",
       "        vertical-align: middle;\n",
       "    }\n",
       "\n",
       "    .dataframe tbody tr th {\n",
       "        vertical-align: top;\n",
       "    }\n",
       "\n",
       "    .dataframe thead th {\n",
       "        text-align: right;\n",
       "    }\n",
       "</style>\n",
       "<table border=\"1\" class=\"dataframe\">\n",
       "  <thead>\n",
       "    <tr style=\"text-align: right;\">\n",
       "      <th></th>\n",
       "      <th>price</th>\n",
       "      <th>year</th>\n",
       "      <th>manufacturer</th>\n",
       "      <th>model</th>\n",
       "      <th>condition</th>\n",
       "      <th>cylinders</th>\n",
       "      <th>fuel</th>\n",
       "      <th>odometer</th>\n",
       "      <th>transmission</th>\n",
       "      <th>drive</th>\n",
       "      <th>type</th>\n",
       "      <th>years_used</th>\n",
       "      <th>model_updated</th>\n",
       "    </tr>\n",
       "  </thead>\n",
       "  <tbody>\n",
       "    <tr>\n",
       "      <th>27</th>\n",
       "      <td>33590.0</td>\n",
       "      <td>2014.0</td>\n",
       "      <td>Gmc</td>\n",
       "      <td>Sierra 1500 Crew Cab Slt</td>\n",
       "      <td>Good</td>\n",
       "      <td>8 cylinders</td>\n",
       "      <td>Gas</td>\n",
       "      <td>57923.0</td>\n",
       "      <td>Other</td>\n",
       "      <td>NaN</td>\n",
       "      <td>Pickup</td>\n",
       "      <td>8.0</td>\n",
       "      <td>Sierra 1500</td>\n",
       "    </tr>\n",
       "    <tr>\n",
       "      <th>28</th>\n",
       "      <td>22590.0</td>\n",
       "      <td>2010.0</td>\n",
       "      <td>Chevrolet</td>\n",
       "      <td>Silverado 1500</td>\n",
       "      <td>Good</td>\n",
       "      <td>8 cylinders</td>\n",
       "      <td>Gas</td>\n",
       "      <td>71229.0</td>\n",
       "      <td>Other</td>\n",
       "      <td>NaN</td>\n",
       "      <td>Pickup</td>\n",
       "      <td>12.0</td>\n",
       "      <td>Silverado 1500</td>\n",
       "    </tr>\n",
       "    <tr>\n",
       "      <th>29</th>\n",
       "      <td>39590.0</td>\n",
       "      <td>2020.0</td>\n",
       "      <td>Chevrolet</td>\n",
       "      <td>Silverado 1500 Crew</td>\n",
       "      <td>Good</td>\n",
       "      <td>8 cylinders</td>\n",
       "      <td>Gas</td>\n",
       "      <td>19160.0</td>\n",
       "      <td>Other</td>\n",
       "      <td>NaN</td>\n",
       "      <td>Pickup</td>\n",
       "      <td>2.0</td>\n",
       "      <td>Silverado 1500</td>\n",
       "    </tr>\n",
       "    <tr>\n",
       "      <th>30</th>\n",
       "      <td>30990.0</td>\n",
       "      <td>2017.0</td>\n",
       "      <td>Toyota</td>\n",
       "      <td>Tundra Double Cab Sr</td>\n",
       "      <td>Good</td>\n",
       "      <td>8 cylinders</td>\n",
       "      <td>Gas</td>\n",
       "      <td>41124.0</td>\n",
       "      <td>Other</td>\n",
       "      <td>NaN</td>\n",
       "      <td>Pickup</td>\n",
       "      <td>5.0</td>\n",
       "      <td>Tundra Double</td>\n",
       "    </tr>\n",
       "    <tr>\n",
       "      <th>31</th>\n",
       "      <td>15000.0</td>\n",
       "      <td>2013.0</td>\n",
       "      <td>Ford</td>\n",
       "      <td>F-150 Xlt</td>\n",
       "      <td>Excellent</td>\n",
       "      <td>6 cylinders</td>\n",
       "      <td>Gas</td>\n",
       "      <td>128000.0</td>\n",
       "      <td>Automatic</td>\n",
       "      <td>Rwd</td>\n",
       "      <td>Truck</td>\n",
       "      <td>9.0</td>\n",
       "      <td>F-150 Xlt</td>\n",
       "    </tr>\n",
       "  </tbody>\n",
       "</table>\n",
       "</div>"
      ],
      "text/plain": [
       "      price    year manufacturer                     model  condition  \\\n",
       "27  33590.0  2014.0          Gmc  Sierra 1500 Crew Cab Slt       Good   \n",
       "28  22590.0  2010.0    Chevrolet            Silverado 1500       Good   \n",
       "29  39590.0  2020.0    Chevrolet       Silverado 1500 Crew       Good   \n",
       "30  30990.0  2017.0       Toyota      Tundra Double Cab Sr       Good   \n",
       "31  15000.0  2013.0         Ford                 F-150 Xlt  Excellent   \n",
       "\n",
       "      cylinders fuel  odometer transmission drive    type  years_used  \\\n",
       "27  8 cylinders  Gas   57923.0        Other   NaN  Pickup         8.0   \n",
       "28  8 cylinders  Gas   71229.0        Other   NaN  Pickup        12.0   \n",
       "29  8 cylinders  Gas   19160.0        Other   NaN  Pickup         2.0   \n",
       "30  8 cylinders  Gas   41124.0        Other   NaN  Pickup         5.0   \n",
       "31  6 cylinders  Gas  128000.0    Automatic   Rwd   Truck         9.0   \n",
       "\n",
       "     model_updated  \n",
       "27     Sierra 1500  \n",
       "28  Silverado 1500  \n",
       "29  Silverado 1500  \n",
       "30   Tundra Double  \n",
       "31       F-150 Xlt  "
      ]
     },
     "execution_count": 36,
     "metadata": {},
     "output_type": "execute_result"
    }
   ],
   "source": [
    "Cars_df[\"manufacturer\"]=Cars_df[\"manufacturer\"].str.title()\n",
    "Cars_df[\"model\"]=Cars_df[\"model\"].str.title()\n",
    "Cars_df[\"model_updated\"]=Cars_df[\"model_updated\"].str.title()\n",
    "Cars_df[\"condition\"]=Cars_df[\"condition\"].str.title()\n",
    "Cars_df[\"drive\"]=Cars_df[\"drive\"].str.title()\n",
    "Cars_df[\"transmission\"]=Cars_df[\"transmission\"].str.title()\n",
    "Cars_df[\"fuel\"]=Cars_df[\"fuel\"].str.title()\n",
    "Cars_df[\"type\"]=Cars_df[\"type\"].str.title()\n",
    "Cars_df.head()"
   ]
  },
  {
   "cell_type": "code",
   "execution_count": 37,
   "id": "21d0289a",
   "metadata": {},
   "outputs": [
    {
     "name": "stdout",
     "output_type": "stream",
     "text": [
      "<class 'pandas.core.frame.DataFrame'>\n",
      "Int64Index: 373157 entries, 27 to 426879\n",
      "Data columns (total 13 columns):\n",
      " #   Column         Non-Null Count   Dtype  \n",
      "---  ------         --------------   -----  \n",
      " 0   price          373157 non-null  float64\n",
      " 1   year           373157 non-null  float64\n",
      " 2   manufacturer   373157 non-null  object \n",
      " 3   model          373157 non-null  object \n",
      " 4   condition      373157 non-null  object \n",
      " 5   cylinders      221992 non-null  object \n",
      " 6   fuel           370990 non-null  object \n",
      " 7   odometer       370986 non-null  float64\n",
      " 8   transmission   371470 non-null  object \n",
      " 9   drive          261229 non-null  object \n",
      " 10  type           294964 non-null  object \n",
      " 11  years_used     373157 non-null  float64\n",
      " 12  model_updated  373157 non-null  object \n",
      "dtypes: float64(4), object(9)\n",
      "memory usage: 39.9+ MB\n"
     ]
    }
   ],
   "source": [
    "Values=[\"Cc\",\n",
    "\"3 I\",\n",
    "\"Deisel Cummins\",\n",
    "\"Dealer* Luxury\",\n",
    "\"Cayenne 1-Owner*\",\n",
    "\"6\",\n",
    "\"Diesel Cummins\",\n",
    "\"7000\",\n",
    "\"912\",\n",
    "\"2\",\n",
    "\"3500 Diesel\",\n",
    "\"940\",\n",
    "\"3100\",\n",
    "\"530\",\n",
    "\"4400\",\n",
    "\"245\",\n",
    "\"914\",\n",
    "\"740\",\n",
    "\"300 'L'\",\n",
    "\"68\",\n",
    "\"C -\",\n",
    "\"850\",\n",
    "\"86\",\n",
    "\"350\",\n",
    "\"240\",\n",
    "\"370\",\n",
    "\"3200\",\n",
    "\"300 K\",\n",
    "\"528\",\n",
    "\"745\",\n",
    "\"720\",\n",
    "\"C/K 3500\",\n",
    "\"550\",\n",
    "\"328\",\n",
    "\"Death Proof\",\n",
    "\"750\",\n",
    "\"P/U\",\n",
    "\"944\",\n",
    "\"(Cng) 2500\",\n",
    "\"2500 Gas\",\n",
    "\"C/K 1500\",\n",
    "\"/Mercury Comet\",\n",
    "\"924\",\n",
    "\"2016\",\n",
    "\"C/K 10\",\n",
    "\"2013\",\n",
    "\"Outlander +\",\n",
    "\"544\",\n",
    "\"325\",\n",
    "\"428\",\n",
    "\"Diesels Cummins\",\n",
    "\"Camry Se(Sports\",\n",
    "\"750I /\",\n",
    "\"250\",\n",
    "\"Cb\",\n",
    "\"4Runner Limited,\",\n",
    "\"525\",\n",
    "\"C/V\",\n",
    "\"/ Vmi\",\n",
    "\"* Vmi\",\n",
    "\"600\",\n",
    "\"// Vmi\",\n",
    "\"135\",\n",
    "\"626\",\n",
    "\"350Z -\",\n",
    "\"2500 4\",\n",
    "\"122\",\n",
    "\"6500\",\n",
    "\"997\",\n",
    "\"1600\",\n",
    "\"8500\",\n",
    "\"128\",\n",
    "\"968\",\n",
    "\"3 6\",\n",
    "\"928\",\n",
    "\"7\",\n",
    "\"228\",\n",
    "\"/Vmi Conversion\",\n",
    "\"Monza 2+2\",\n",
    "\"3/4 Ton\",\n",
    "\"1.5\",\n",
    "\"460\",\n",
    "\"2005\",\n",
    "\"1954\",\n",
    "\"7500\",\n",
    "\"323\",\n",
    "\"4S3Bmbg60A3217471\",\n",
    "\"220S /\",\n",
    "\"C/10\",\n",
    "\"430\",\n",
    "\"420\",\n",
    "\"670\",\n",
    "\"15\",\n",
    "\"6000\",\n",
    "\"4Runner Sr5/Sr5\",\n",
    "\"760\",\n",
    "\"C\",\n",
    "\"30 Flatbed\",\n",
    "\"3500 &\",\n",
    "\"Marineer,Premier\",\n",
    "\"3/4T 4Wd\",\n",
    "\"M4 -\",\n",
    "\"2500 Slt*\",\n",
    "\"330\",\n",
    "\"Tiguan *Awd\",\n",
    "'\"T\"',\n",
    "\"350 4Ã—4\",\n",
    "\"280\",\n",
    "\" -@Benz E350\",\n",
    "\"Trailblazer Lssuvw/\",\n",
    "\"(S)Port (S)Edan\",\n",
    "\"3500 Deisel\",\n",
    "\"Accord -\",\n",
    "\"Spark -\",\n",
    "\"Malibu -\",\n",
    "\"520\",\n",
    "\"/ Accord\",\n",
    "\"300-Hemi V8!!\",\n",
    "\"510\",\n",
    "'T-150 130\"',\n",
    "\"A4 **\",\n",
    "\"A4 **Awd,\",\n",
    "\"C/K 20\",\n",
    "\"C/30\",\n",
    "\"911/996 Carrera\",\n",
    "\"-150 Xlt\",\n",
    "\"29\",\n",
    "\"500 Pop,\",\n",
    "\"1500 $374\",\n",
    "\"$362.47, $1000\",\n",
    "\"F-150 Stx,Only\",\n",
    "\"1500 $398.43,\",\n",
    "\"1500 $381.17,\",\n",
    "\"Xt5 $391\",\n",
    "\"3500 Slt/Laramie\",\n",
    "\"/ Durango\",\n",
    "\"& Altima\",\n",
    "\"/ Braun\",\n",
    "\"86 **\",\n",
    "\"C10/K10 K10\",\n",
    "\"530Xi -\",\n",
    "\"4.6\",\n",
    "\"C/K 2500\",\n",
    "\"960\",\n",
    "\"C/T Hicube\",\n",
    "\"540\",\n",
    "\"50\",\n",
    "\" -@ \",\n",
    "\"3 Select\",\n",
    "\"- 328I\",\"Remeo\",\"Romeo\", \"Martin\", \"A\" , \"A4 **\", \"A4 ** Awd,\",\n",
    "\"A3 2.0L\",\"A6 2,7T\", \"4 Door\", \"Gsx &\", \"(210)\", \"(Cng) 2500\", \"1 1/2\",\n",
    "\"1 Ton\", \"1-Ton\", \"4 wd\" \"(300)\", \"3\", \"1500 $374\",\n",
    "\"2500 $488\",\n",
    "\"Titan Sv,$392\",\n",
    "\"$362.47, $1000\",\n",
    "\"Titan Sv,$392\",\n",
    "\"1500 $398.43,\",\n",
    "\"Pacifica $293.25\",\n",
    "\"Journey $299\",\n",
    "\"Equinox $188.77Month,\",\n",
    "\"1500 $398.43,\",\n",
    "\"1500 $381.17,\",\n",
    "\"Edge $270\",\n",
    "\"Pacifica $293.25\",\n",
    "\"Equinox $188.77Month,\",\n",
    "\"Xt5 $391\",\"One Ton\",\n",
    "\"1/2 Ton\",\n",
    "\"1 Ton\",\n",
    "\"1.5 Ton\",\n",
    "\"1-Ton Deluxe\",\n",
    "\"3/4 Ton\",\n",
    "\"1.5 Ton\",\n",
    "\"1 Ton\",\n",
    "\"1 Ton\",\n",
    "\"1 Ton\",\n",
    "\"1-Ton\",\n",
    "\"3/4 Ton\",\n",
    "\"1 Ton\",\n",
    "\"Daytona Turbo\",\n",
    "\"1/2 Ton\",\n",
    "\"1 Ton\",\n",
    "\"1 Ton\",\n",
    "\"One Ton\",\n",
    "\"One Ton\",\n",
    "\"3/4 Ton\",\n",
    "\"1/2 Ton\",\n",
    "\"1/2 Ton\",\n",
    "\"1 Ton\",\n",
    "\"3/4 Ton\",\n",
    "\"3/4 Ton\",\n",
    "\"3/4 Ton\",\n",
    "\"1/2 Ton\",\n",
    "\"Kc 1/2Ton\",\n",
    "\"3/4 Ton\",\n",
    "\"Half Ton\",\n",
    "\"/ Bertone\",\n",
    "\"1/2 Ton\",\n",
    "\"1 Ton\"\n",
    "]\n",
    "def Bogus(x,y):\n",
    "    for i in x:\n",
    "        y = y[y.model_updated!=i]\n",
    "        \n",
    "Bogus(Values,Cars_df)\n",
    "Cars_df.info()"
   ]
  },
  {
   "cell_type": "code",
   "execution_count": 38,
   "id": "4fa3f699",
   "metadata": {},
   "outputs": [
    {
     "data": {
      "text/plain": [
       "10950"
      ]
     },
     "execution_count": 38,
     "metadata": {},
     "output_type": "execute_result"
    }
   ],
   "source": [
    "Cars_df[\"model_updated\"].nunique()"
   ]
  },
  {
   "cell_type": "code",
   "execution_count": 39,
   "id": "ad6d1871",
   "metadata": {},
   "outputs": [
    {
     "data": {
      "text/plain": [
       "27       Sierra 1500\n",
       "28    Silverado 1500\n",
       "29    Silverado 1500\n",
       "30     Tundra Double\n",
       "31         F-150 Xlt\n",
       "Name: model_updated, dtype: object"
      ]
     },
     "execution_count": 39,
     "metadata": {},
     "output_type": "execute_result"
    }
   ],
   "source": [
    "Cars_df[\"model_updated\"].head()"
   ]
  },
  {
   "cell_type": "code",
   "execution_count": 40,
   "id": "7168ccf8",
   "metadata": {},
   "outputs": [
    {
     "data": {
      "text/plain": [
       "10950"
      ]
     },
     "execution_count": 40,
     "metadata": {},
     "output_type": "execute_result"
    }
   ],
   "source": [
    "Cars_df[\"model_updated\"].nunique()"
   ]
  },
  {
   "cell_type": "code",
   "execution_count": 41,
   "id": "9b9df580",
   "metadata": {},
   "outputs": [
    {
     "data": {
      "text/plain": [
       "10026"
      ]
     },
     "execution_count": 41,
     "metadata": {},
     "output_type": "execute_result"
    }
   ],
   "source": [
    "# checking how many models are there with null value\n",
    "Cars_df[\"model\"].loc[Cars_df[\"cylinders\"].isnull()].nunique()"
   ]
  },
  {
   "cell_type": "code",
   "execution_count": 42,
   "id": "0f16cd51",
   "metadata": {},
   "outputs": [
    {
     "name": "stdout",
     "output_type": "stream",
     "text": [
      "<class 'pandas.core.frame.DataFrame'>\n",
      "Int64Index: 221992 entries, 27 to 426878\n",
      "Data columns (total 13 columns):\n",
      " #   Column         Non-Null Count   Dtype  \n",
      "---  ------         --------------   -----  \n",
      " 0   price          221992 non-null  float64\n",
      " 1   year           221992 non-null  float64\n",
      " 2   manufacturer   221992 non-null  object \n",
      " 3   model          221992 non-null  object \n",
      " 4   condition      221992 non-null  object \n",
      " 5   cylinders      221992 non-null  object \n",
      " 6   fuel           220876 non-null  object \n",
      " 7   odometer       220947 non-null  float64\n",
      " 8   transmission   221818 non-null  object \n",
      " 9   drive          189302 non-null  object \n",
      " 10  type           198006 non-null  object \n",
      " 11  years_used     221992 non-null  float64\n",
      " 12  model_updated  221992 non-null  object \n",
      "dtypes: float64(4), object(9)\n",
      "memory usage: 23.7+ MB\n"
     ]
    }
   ],
   "source": [
    "# it is better to drop these null values instead of having them on the dataframe\n",
    "Cars_df.dropna(subset=[\"cylinders\"], inplace=True)\n",
    "Cars_df.info()"
   ]
  },
  {
   "cell_type": "code",
   "execution_count": 43,
   "id": "e974685e",
   "metadata": {},
   "outputs": [
    {
     "name": "stdout",
     "output_type": "stream",
     "text": [
      "<class 'pandas.core.frame.DataFrame'>\n",
      "Int64Index: 171618 entries, 31 to 426878\n",
      "Data columns (total 13 columns):\n",
      " #   Column         Non-Null Count   Dtype  \n",
      "---  ------         --------------   -----  \n",
      " 0   price          171618 non-null  float64\n",
      " 1   year           171618 non-null  float64\n",
      " 2   manufacturer   171618 non-null  object \n",
      " 3   model          171618 non-null  object \n",
      " 4   condition      171618 non-null  object \n",
      " 5   cylinders      171618 non-null  object \n",
      " 6   fuel           170789 non-null  object \n",
      " 7   odometer       170715 non-null  float64\n",
      " 8   transmission   171605 non-null  object \n",
      " 9   drive          171618 non-null  object \n",
      " 10  type           171618 non-null  object \n",
      " 11  years_used     171618 non-null  float64\n",
      " 12  model_updated  171618 non-null  object \n",
      "dtypes: float64(4), object(9)\n",
      "memory usage: 18.3+ MB\n"
     ]
    }
   ],
   "source": [
    "#drop the null values in drive, type\n",
    "\n",
    "Cars_df.dropna(subset=[\"drive\", \"type\"], inplace=True)\n",
    "Cars_df.info()"
   ]
  },
  {
   "cell_type": "code",
   "execution_count": 44,
   "id": "f7d38f94",
   "metadata": {},
   "outputs": [
    {
     "name": "stdout",
     "output_type": "stream",
     "text": [
      "<class 'pandas.core.frame.DataFrame'>\n",
      "Int64Index: 169889 entries, 31 to 426878\n",
      "Data columns (total 12 columns):\n",
      " #   Column         Non-Null Count   Dtype  \n",
      "---  ------         --------------   -----  \n",
      " 0   price          169889 non-null  float64\n",
      " 1   year           169889 non-null  float64\n",
      " 2   manufacturer   169889 non-null  object \n",
      " 3   model          169889 non-null  object \n",
      " 4   condition      169889 non-null  object \n",
      " 5   cylinders      169889 non-null  object \n",
      " 6   fuel           169889 non-null  object \n",
      " 7   odometer       169889 non-null  float64\n",
      " 8   transmission   169877 non-null  object \n",
      " 9   drive          169889 non-null  object \n",
      " 10  type           169889 non-null  object \n",
      " 11  model_updated  169889 non-null  object \n",
      "dtypes: float64(3), object(9)\n",
      "memory usage: 16.8+ MB\n"
     ]
    }
   ],
   "source": [
    "#drop the null values in fuel, odometer, title statue, transmission\n",
    "\n",
    "Cars_df.dropna(subset=[\"fuel\", \"odometer\"], inplace=True)\n",
    "\n",
    "Cars_df=Cars_df.drop([\"years_used\"], axis=1)\n",
    "Cars_df.info()"
   ]
  },
  {
   "cell_type": "code",
   "execution_count": 45,
   "id": "853f5bd2",
   "metadata": {},
   "outputs": [
    {
     "data": {
      "text/html": [
       "<div>\n",
       "<style scoped>\n",
       "    .dataframe tbody tr th:only-of-type {\n",
       "        vertical-align: middle;\n",
       "    }\n",
       "\n",
       "    .dataframe tbody tr th {\n",
       "        vertical-align: top;\n",
       "    }\n",
       "\n",
       "    .dataframe thead th {\n",
       "        text-align: right;\n",
       "    }\n",
       "</style>\n",
       "<table border=\"1\" class=\"dataframe\">\n",
       "  <thead>\n",
       "    <tr style=\"text-align: right;\">\n",
       "      <th></th>\n",
       "      <th>price</th>\n",
       "      <th>year</th>\n",
       "      <th>odometer</th>\n",
       "    </tr>\n",
       "  </thead>\n",
       "  <tbody>\n",
       "    <tr>\n",
       "      <th>count</th>\n",
       "      <td>1.698890e+05</td>\n",
       "      <td>169889.000000</td>\n",
       "      <td>1.698890e+05</td>\n",
       "    </tr>\n",
       "    <tr>\n",
       "      <th>mean</th>\n",
       "      <td>4.831827e+04</td>\n",
       "      <td>2010.619487</td>\n",
       "      <td>1.038042e+05</td>\n",
       "    </tr>\n",
       "    <tr>\n",
       "      <th>std</th>\n",
       "      <td>9.473803e+06</td>\n",
       "      <td>8.877157</td>\n",
       "      <td>1.641917e+05</td>\n",
       "    </tr>\n",
       "    <tr>\n",
       "      <th>min</th>\n",
       "      <td>1.000000e+00</td>\n",
       "      <td>1900.000000</td>\n",
       "      <td>0.000000e+00</td>\n",
       "    </tr>\n",
       "    <tr>\n",
       "      <th>25%</th>\n",
       "      <td>6.755000e+03</td>\n",
       "      <td>2007.000000</td>\n",
       "      <td>4.932900e+04</td>\n",
       "    </tr>\n",
       "    <tr>\n",
       "      <th>50%</th>\n",
       "      <td>1.300000e+04</td>\n",
       "      <td>2013.000000</td>\n",
       "      <td>9.673800e+04</td>\n",
       "    </tr>\n",
       "    <tr>\n",
       "      <th>75%</th>\n",
       "      <td>2.548600e+04</td>\n",
       "      <td>2016.000000</td>\n",
       "      <td>1.412000e+05</td>\n",
       "    </tr>\n",
       "    <tr>\n",
       "      <th>max</th>\n",
       "      <td>3.736929e+09</td>\n",
       "      <td>2022.000000</td>\n",
       "      <td>1.000000e+07</td>\n",
       "    </tr>\n",
       "  </tbody>\n",
       "</table>\n",
       "</div>"
      ],
      "text/plain": [
       "              price           year      odometer\n",
       "count  1.698890e+05  169889.000000  1.698890e+05\n",
       "mean   4.831827e+04    2010.619487  1.038042e+05\n",
       "std    9.473803e+06       8.877157  1.641917e+05\n",
       "min    1.000000e+00    1900.000000  0.000000e+00\n",
       "25%    6.755000e+03    2007.000000  4.932900e+04\n",
       "50%    1.300000e+04    2013.000000  9.673800e+04\n",
       "75%    2.548600e+04    2016.000000  1.412000e+05\n",
       "max    3.736929e+09    2022.000000  1.000000e+07"
      ]
     },
     "execution_count": 45,
     "metadata": {},
     "output_type": "execute_result"
    }
   ],
   "source": [
    "Cars_df.describe()"
   ]
  },
  {
   "cell_type": "code",
   "execution_count": 46,
   "id": "48563591",
   "metadata": {},
   "outputs": [],
   "source": [
    "# checking the Min values in prices and replacing them with Avearage\n",
    "\n",
    "\n",
    "# we are filtering all the outliers between min and max value\n",
    "q_low= Cars_df[\"price\"].quantile(0.01)\n",
    "q_hi= Cars_df[\"price\"].quantile(0.99)\n",
    "\n",
    "Cars_df = Cars_df[(Cars_df[\"price\"]<q_hi) & (Cars_df[\"price\"]>q_low)]"
   ]
  },
  {
   "cell_type": "code",
   "execution_count": 47,
   "id": "5aed0eb4",
   "metadata": {
    "scrolled": true
   },
   "outputs": [
    {
     "data": {
      "text/html": [
       "<div>\n",
       "<style scoped>\n",
       "    .dataframe tbody tr th:only-of-type {\n",
       "        vertical-align: middle;\n",
       "    }\n",
       "\n",
       "    .dataframe tbody tr th {\n",
       "        vertical-align: top;\n",
       "    }\n",
       "\n",
       "    .dataframe thead th {\n",
       "        text-align: right;\n",
       "    }\n",
       "</style>\n",
       "<table border=\"1\" class=\"dataframe\">\n",
       "  <thead>\n",
       "    <tr style=\"text-align: right;\">\n",
       "      <th></th>\n",
       "      <th>price</th>\n",
       "      <th>year</th>\n",
       "      <th>odometer</th>\n",
       "    </tr>\n",
       "  </thead>\n",
       "  <tbody>\n",
       "    <tr>\n",
       "      <th>count</th>\n",
       "      <td>166476.000000</td>\n",
       "      <td>166476.000000</td>\n",
       "      <td>1.664760e+05</td>\n",
       "    </tr>\n",
       "    <tr>\n",
       "      <th>mean</th>\n",
       "      <td>16912.539315</td>\n",
       "      <td>2010.573806</td>\n",
       "      <td>1.045745e+05</td>\n",
       "    </tr>\n",
       "    <tr>\n",
       "      <th>std</th>\n",
       "      <td>12717.817295</td>\n",
       "      <td>8.803599</td>\n",
       "      <td>1.619695e+05</td>\n",
       "    </tr>\n",
       "    <tr>\n",
       "      <th>min</th>\n",
       "      <td>175.000000</td>\n",
       "      <td>1900.000000</td>\n",
       "      <td>0.000000e+00</td>\n",
       "    </tr>\n",
       "    <tr>\n",
       "      <th>25%</th>\n",
       "      <td>6900.000000</td>\n",
       "      <td>2007.000000</td>\n",
       "      <td>5.042750e+04</td>\n",
       "    </tr>\n",
       "    <tr>\n",
       "      <th>50%</th>\n",
       "      <td>13000.000000</td>\n",
       "      <td>2013.000000</td>\n",
       "      <td>9.769350e+04</td>\n",
       "    </tr>\n",
       "    <tr>\n",
       "      <th>75%</th>\n",
       "      <td>24995.000000</td>\n",
       "      <td>2016.000000</td>\n",
       "      <td>1.420000e+05</td>\n",
       "    </tr>\n",
       "    <tr>\n",
       "      <th>max</th>\n",
       "      <td>63990.000000</td>\n",
       "      <td>2022.000000</td>\n",
       "      <td>1.000000e+07</td>\n",
       "    </tr>\n",
       "  </tbody>\n",
       "</table>\n",
       "</div>"
      ],
      "text/plain": [
       "               price           year      odometer\n",
       "count  166476.000000  166476.000000  1.664760e+05\n",
       "mean    16912.539315    2010.573806  1.045745e+05\n",
       "std     12717.817295       8.803599  1.619695e+05\n",
       "min       175.000000    1900.000000  0.000000e+00\n",
       "25%      6900.000000    2007.000000  5.042750e+04\n",
       "50%     13000.000000    2013.000000  9.769350e+04\n",
       "75%     24995.000000    2016.000000  1.420000e+05\n",
       "max     63990.000000    2022.000000  1.000000e+07"
      ]
     },
     "execution_count": 47,
     "metadata": {},
     "output_type": "execute_result"
    }
   ],
   "source": [
    "Cars_df.describe()"
   ]
  },
  {
   "cell_type": "code",
   "execution_count": 48,
   "id": "73119188",
   "metadata": {
    "scrolled": false
   },
   "outputs": [
    {
     "name": "stdout",
     "output_type": "stream",
     "text": [
      "<class 'pandas.core.frame.DataFrame'>\n",
      "Int64Index: 166476 entries, 31 to 426878\n",
      "Data columns (total 12 columns):\n",
      " #   Column         Non-Null Count   Dtype  \n",
      "---  ------         --------------   -----  \n",
      " 0   price          166476 non-null  float64\n",
      " 1   year           166476 non-null  float64\n",
      " 2   manufacturer   166476 non-null  object \n",
      " 3   model          166476 non-null  object \n",
      " 4   condition      166476 non-null  object \n",
      " 5   cylinders      166476 non-null  object \n",
      " 6   fuel           166476 non-null  object \n",
      " 7   odometer       166476 non-null  float64\n",
      " 8   transmission   166464 non-null  object \n",
      " 9   drive          166476 non-null  object \n",
      " 10  type           166476 non-null  object \n",
      " 11  model_updated  166476 non-null  object \n",
      "dtypes: float64(3), object(9)\n",
      "memory usage: 16.5+ MB\n"
     ]
    }
   ],
   "source": [
    "Cars_df.info()"
   ]
  },
  {
   "cell_type": "code",
   "execution_count": 49,
   "id": "2aba4f80",
   "metadata": {},
   "outputs": [],
   "source": [
    "Cars_df[\"year\"]=Cars_df[\"year\"].astype(int)\n",
    "Cars_df.rename(columns = {'odometer':'Distance_Traveled'}, inplace = True)"
   ]
  },
  {
   "cell_type": "code",
   "execution_count": null,
   "id": "4c8de590",
   "metadata": {},
   "outputs": [],
   "source": []
  },
  {
   "cell_type": "code",
   "execution_count": 50,
   "id": "9a13d86f",
   "metadata": {},
   "outputs": [
    {
     "name": "stdout",
     "output_type": "stream",
     "text": [
      "<class 'pandas.core.frame.DataFrame'>\n",
      "Int64Index: 166476 entries, 31 to 426878\n",
      "Data columns (total 12 columns):\n",
      " #   Column             Non-Null Count   Dtype  \n",
      "---  ------             --------------   -----  \n",
      " 0   price              166476 non-null  float64\n",
      " 1   year               166476 non-null  int32  \n",
      " 2   manufacturer       166476 non-null  object \n",
      " 3   model              166476 non-null  object \n",
      " 4   condition          166476 non-null  object \n",
      " 5   cylinders          166476 non-null  object \n",
      " 6   fuel               166476 non-null  object \n",
      " 7   Distance_Traveled  166476 non-null  float64\n",
      " 8   transmission       166464 non-null  object \n",
      " 9   drive              166476 non-null  object \n",
      " 10  type               166476 non-null  object \n",
      " 11  model_updated      166476 non-null  object \n",
      "dtypes: float64(2), int32(1), object(9)\n",
      "memory usage: 15.9+ MB\n"
     ]
    }
   ],
   "source": [
    "Cars_df.info()"
   ]
  },
  {
   "cell_type": "code",
   "execution_count": 51,
   "id": "4d028671",
   "metadata": {},
   "outputs": [],
   "source": [
    "csv_data = Cars_df.to_csv(\"Model.csv\",columns=[\"manufacturer\",'model_updated', 'model'])"
   ]
  },
  {
   "cell_type": "code",
   "execution_count": 52,
   "id": "883e7a8f",
   "metadata": {},
   "outputs": [],
   "source": [
    "# droping model\n",
    "Cars_df=Cars_df.drop('model', axis=1)"
   ]
  },
  {
   "cell_type": "code",
   "execution_count": 53,
   "id": "61b8840b",
   "metadata": {},
   "outputs": [],
   "source": [
    "Cars_df[\"model_updated\"] = Cars_df[\"manufacturer\"] + \" \" + Cars_df[\"model_updated\"]"
   ]
  },
  {
   "cell_type": "code",
   "execution_count": 54,
   "id": "8ead9146",
   "metadata": {},
   "outputs": [
    {
     "data": {
      "text/plain": [
       "31                 Ford F-150 Xlt\n",
       "32                Gmc Sierra 2500\n",
       "33       Chevrolet Silverado 1500\n",
       "34                  Toyota Tacoma\n",
       "35    Chevrolet Colorado Extended\n",
       "Name: model_updated, dtype: object"
      ]
     },
     "execution_count": 54,
     "metadata": {},
     "output_type": "execute_result"
    }
   ],
   "source": [
    "Cars_df[\"model_updated\"].head()"
   ]
  },
  {
   "cell_type": "code",
   "execution_count": 55,
   "id": "eb49d063",
   "metadata": {},
   "outputs": [],
   "source": [
    "Cars_df.dropna(subset=[\"transmission\"], inplace=True)"
   ]
  },
  {
   "cell_type": "code",
   "execution_count": 56,
   "id": "ee30cdf7",
   "metadata": {},
   "outputs": [],
   "source": [
    "# Backup Cleaned Copy\n",
    "Backup_Cleaned=Cars_df.copy()\n"
   ]
  },
  {
   "cell_type": "code",
   "execution_count": 57,
   "id": "4fcef686",
   "metadata": {},
   "outputs": [
    {
     "name": "stdout",
     "output_type": "stream",
     "text": [
      "<class 'pandas.core.frame.DataFrame'>\n",
      "Int64Index: 166464 entries, 31 to 426878\n",
      "Data columns (total 11 columns):\n",
      " #   Column             Non-Null Count   Dtype  \n",
      "---  ------             --------------   -----  \n",
      " 0   price              166464 non-null  float64\n",
      " 1   year               166464 non-null  int32  \n",
      " 2   manufacturer       166464 non-null  object \n",
      " 3   condition          166464 non-null  object \n",
      " 4   cylinders          166464 non-null  object \n",
      " 5   fuel               166464 non-null  object \n",
      " 6   Distance_Traveled  166464 non-null  float64\n",
      " 7   transmission       166464 non-null  object \n",
      " 8   drive              166464 non-null  object \n",
      " 9   type               166464 non-null  object \n",
      " 10  model_updated      166464 non-null  object \n",
      "dtypes: float64(2), int32(1), object(8)\n",
      "memory usage: 14.6+ MB\n"
     ]
    }
   ],
   "source": [
    "Cars_df.info()"
   ]
  },
  {
   "cell_type": "code",
   "execution_count": 58,
   "id": "89934a31",
   "metadata": {},
   "outputs": [],
   "source": [
    "Cars_df=Cars_df[[\"price\",\"year\", \"manufacturer\", \"model_updated\", \"condition\", \n",
    "        \"cylinders\", \"fuel\", \"transmission\", \"drive\", \"type\"]]"
   ]
  },
  {
   "cell_type": "code",
   "execution_count": 59,
   "id": "b33bf803",
   "metadata": {},
   "outputs": [],
   "source": [
    "Cars_df.to_csv(\"cleaned_Car.csv\")"
   ]
  },
  {
   "cell_type": "code",
   "execution_count": 60,
   "id": "d2afaf34",
   "metadata": {},
   "outputs": [],
   "source": [
    "Cars_df.to_csv(\"D:/Studies/My Projects/Data Science/Car Prediction/WebDeployment/cleaned_Car.csv\")"
   ]
  },
  {
   "cell_type": "code",
   "execution_count": 61,
   "id": "0c24a7f4",
   "metadata": {},
   "outputs": [
    {
     "data": {
      "text/plain": [
       "8045"
      ]
     },
     "execution_count": 61,
     "metadata": {},
     "output_type": "execute_result"
    }
   ],
   "source": [
    "Cars_df[\"model_updated\"].nunique()"
   ]
  },
  {
   "cell_type": "markdown",
   "id": "ff4b0637",
   "metadata": {},
   "source": [
    "### Creating a linear Regression Model"
   ]
  },
  {
   "cell_type": "code",
   "execution_count": 62,
   "id": "5ed29085",
   "metadata": {},
   "outputs": [],
   "source": [
    "# breaking the Dependent variable & Independent Variable\n",
    "x = Cars_df.drop(columns=\"price\")\n",
    "y = Cars_df[\"price\"]"
   ]
  },
  {
   "cell_type": "code",
   "execution_count": 63,
   "id": "625c23e9",
   "metadata": {},
   "outputs": [
    {
     "data": {
      "text/html": [
       "<div>\n",
       "<style scoped>\n",
       "    .dataframe tbody tr th:only-of-type {\n",
       "        vertical-align: middle;\n",
       "    }\n",
       "\n",
       "    .dataframe tbody tr th {\n",
       "        vertical-align: top;\n",
       "    }\n",
       "\n",
       "    .dataframe thead th {\n",
       "        text-align: right;\n",
       "    }\n",
       "</style>\n",
       "<table border=\"1\" class=\"dataframe\">\n",
       "  <thead>\n",
       "    <tr style=\"text-align: right;\">\n",
       "      <th></th>\n",
       "      <th>year</th>\n",
       "      <th>manufacturer</th>\n",
       "      <th>model_updated</th>\n",
       "      <th>condition</th>\n",
       "      <th>cylinders</th>\n",
       "      <th>fuel</th>\n",
       "      <th>transmission</th>\n",
       "      <th>drive</th>\n",
       "      <th>type</th>\n",
       "    </tr>\n",
       "  </thead>\n",
       "  <tbody>\n",
       "    <tr>\n",
       "      <th>31</th>\n",
       "      <td>2013</td>\n",
       "      <td>Ford</td>\n",
       "      <td>Ford F-150 Xlt</td>\n",
       "      <td>Excellent</td>\n",
       "      <td>6 cylinders</td>\n",
       "      <td>Gas</td>\n",
       "      <td>Automatic</td>\n",
       "      <td>Rwd</td>\n",
       "      <td>Truck</td>\n",
       "    </tr>\n",
       "    <tr>\n",
       "      <th>32</th>\n",
       "      <td>2012</td>\n",
       "      <td>Gmc</td>\n",
       "      <td>Gmc Sierra 2500</td>\n",
       "      <td>Good</td>\n",
       "      <td>8 cylinders</td>\n",
       "      <td>Gas</td>\n",
       "      <td>Other</td>\n",
       "      <td>4Wd</td>\n",
       "      <td>Pickup</td>\n",
       "    </tr>\n",
       "    <tr>\n",
       "      <th>33</th>\n",
       "      <td>2016</td>\n",
       "      <td>Chevrolet</td>\n",
       "      <td>Chevrolet Silverado 1500</td>\n",
       "      <td>Good</td>\n",
       "      <td>6 cylinders</td>\n",
       "      <td>Gas</td>\n",
       "      <td>Other</td>\n",
       "      <td>4Wd</td>\n",
       "      <td>Pickup</td>\n",
       "    </tr>\n",
       "    <tr>\n",
       "      <th>34</th>\n",
       "      <td>2019</td>\n",
       "      <td>Toyota</td>\n",
       "      <td>Toyota Tacoma</td>\n",
       "      <td>Excellent</td>\n",
       "      <td>6 cylinders</td>\n",
       "      <td>Gas</td>\n",
       "      <td>Automatic</td>\n",
       "      <td>4Wd</td>\n",
       "      <td>Truck</td>\n",
       "    </tr>\n",
       "    <tr>\n",
       "      <th>35</th>\n",
       "      <td>2016</td>\n",
       "      <td>Chevrolet</td>\n",
       "      <td>Chevrolet Colorado Extended</td>\n",
       "      <td>Good</td>\n",
       "      <td>6 cylinders</td>\n",
       "      <td>Gas</td>\n",
       "      <td>Other</td>\n",
       "      <td>4Wd</td>\n",
       "      <td>Pickup</td>\n",
       "    </tr>\n",
       "  </tbody>\n",
       "</table>\n",
       "</div>"
      ],
      "text/plain": [
       "    year manufacturer                model_updated  condition    cylinders  \\\n",
       "31  2013         Ford               Ford F-150 Xlt  Excellent  6 cylinders   \n",
       "32  2012          Gmc              Gmc Sierra 2500       Good  8 cylinders   \n",
       "33  2016    Chevrolet     Chevrolet Silverado 1500       Good  6 cylinders   \n",
       "34  2019       Toyota                Toyota Tacoma  Excellent  6 cylinders   \n",
       "35  2016    Chevrolet  Chevrolet Colorado Extended       Good  6 cylinders   \n",
       "\n",
       "   fuel transmission drive    type  \n",
       "31  Gas    Automatic   Rwd   Truck  \n",
       "32  Gas        Other   4Wd  Pickup  \n",
       "33  Gas        Other   4Wd  Pickup  \n",
       "34  Gas    Automatic   4Wd   Truck  \n",
       "35  Gas        Other   4Wd  Pickup  "
      ]
     },
     "execution_count": 63,
     "metadata": {},
     "output_type": "execute_result"
    }
   ],
   "source": [
    "x.head()"
   ]
  },
  {
   "cell_type": "code",
   "execution_count": 64,
   "id": "aeee3377",
   "metadata": {},
   "outputs": [],
   "source": [
    "from sklearn.model_selection import train_test_split\n",
    "x_train, x_test, y_train, y_test = train_test_split(x,y, test_size=0.2)"
   ]
  },
  {
   "cell_type": "code",
   "execution_count": 65,
   "id": "ac88ea08",
   "metadata": {},
   "outputs": [],
   "source": [
    "# importing modules for linear regression\n",
    "from sklearn.linear_model import LinearRegression\n",
    "from sklearn.metrics import r2_score\n",
    "from sklearn.preprocessing import OneHotEncoder\n",
    "from sklearn.compose import make_column_transformer\n",
    "from sklearn.pipeline import make_pipeline"
   ]
  },
  {
   "cell_type": "code",
   "execution_count": 66,
   "id": "acf4edbc",
   "metadata": {},
   "outputs": [
    {
     "name": "stdout",
     "output_type": "stream",
     "text": [
      "sklearn: 1.1.1\n"
     ]
    }
   ],
   "source": [
    "import sklearn\n",
    "print('sklearn: {}'. format(sklearn. __version__)) "
   ]
  },
  {
   "cell_type": "code",
   "execution_count": 67,
   "id": "f797be02",
   "metadata": {},
   "outputs": [
    {
     "data": {
      "text/html": [
       "<style>#sk-container-id-1 {color: black;background-color: white;}#sk-container-id-1 pre{padding: 0;}#sk-container-id-1 div.sk-toggleable {background-color: white;}#sk-container-id-1 label.sk-toggleable__label {cursor: pointer;display: block;width: 100%;margin-bottom: 0;padding: 0.3em;box-sizing: border-box;text-align: center;}#sk-container-id-1 label.sk-toggleable__label-arrow:before {content: \"▸\";float: left;margin-right: 0.25em;color: #696969;}#sk-container-id-1 label.sk-toggleable__label-arrow:hover:before {color: black;}#sk-container-id-1 div.sk-estimator:hover label.sk-toggleable__label-arrow:before {color: black;}#sk-container-id-1 div.sk-toggleable__content {max-height: 0;max-width: 0;overflow: hidden;text-align: left;background-color: #f0f8ff;}#sk-container-id-1 div.sk-toggleable__content pre {margin: 0.2em;color: black;border-radius: 0.25em;background-color: #f0f8ff;}#sk-container-id-1 input.sk-toggleable__control:checked~div.sk-toggleable__content {max-height: 200px;max-width: 100%;overflow: auto;}#sk-container-id-1 input.sk-toggleable__control:checked~label.sk-toggleable__label-arrow:before {content: \"▾\";}#sk-container-id-1 div.sk-estimator input.sk-toggleable__control:checked~label.sk-toggleable__label {background-color: #d4ebff;}#sk-container-id-1 div.sk-label input.sk-toggleable__control:checked~label.sk-toggleable__label {background-color: #d4ebff;}#sk-container-id-1 input.sk-hidden--visually {border: 0;clip: rect(1px 1px 1px 1px);clip: rect(1px, 1px, 1px, 1px);height: 1px;margin: -1px;overflow: hidden;padding: 0;position: absolute;width: 1px;}#sk-container-id-1 div.sk-estimator {font-family: monospace;background-color: #f0f8ff;border: 1px dotted black;border-radius: 0.25em;box-sizing: border-box;margin-bottom: 0.5em;}#sk-container-id-1 div.sk-estimator:hover {background-color: #d4ebff;}#sk-container-id-1 div.sk-parallel-item::after {content: \"\";width: 100%;border-bottom: 1px solid gray;flex-grow: 1;}#sk-container-id-1 div.sk-label:hover label.sk-toggleable__label {background-color: #d4ebff;}#sk-container-id-1 div.sk-serial::before {content: \"\";position: absolute;border-left: 1px solid gray;box-sizing: border-box;top: 0;bottom: 0;left: 50%;z-index: 0;}#sk-container-id-1 div.sk-serial {display: flex;flex-direction: column;align-items: center;background-color: white;padding-right: 0.2em;padding-left: 0.2em;position: relative;}#sk-container-id-1 div.sk-item {position: relative;z-index: 1;}#sk-container-id-1 div.sk-parallel {display: flex;align-items: stretch;justify-content: center;background-color: white;position: relative;}#sk-container-id-1 div.sk-item::before, #sk-container-id-1 div.sk-parallel-item::before {content: \"\";position: absolute;border-left: 1px solid gray;box-sizing: border-box;top: 0;bottom: 0;left: 50%;z-index: -1;}#sk-container-id-1 div.sk-parallel-item {display: flex;flex-direction: column;z-index: 1;position: relative;background-color: white;}#sk-container-id-1 div.sk-parallel-item:first-child::after {align-self: flex-end;width: 50%;}#sk-container-id-1 div.sk-parallel-item:last-child::after {align-self: flex-start;width: 50%;}#sk-container-id-1 div.sk-parallel-item:only-child::after {width: 0;}#sk-container-id-1 div.sk-dashed-wrapped {border: 1px dashed gray;margin: 0 0.4em 0.5em 0.4em;box-sizing: border-box;padding-bottom: 0.4em;background-color: white;}#sk-container-id-1 div.sk-label label {font-family: monospace;font-weight: bold;display: inline-block;line-height: 1.2em;}#sk-container-id-1 div.sk-label-container {text-align: center;}#sk-container-id-1 div.sk-container {/* jupyter's `normalize.less` sets `[hidden] { display: none; }` but bootstrap.min.css set `[hidden] { display: none !important; }` so we also need the `!important` here to be able to override the default hidden behavior on the sphinx rendered scikit-learn.org. See: https://github.com/scikit-learn/scikit-learn/issues/21755 */display: inline-block !important;position: relative;}#sk-container-id-1 div.sk-text-repr-fallback {display: none;}</style><div id=\"sk-container-id-1\" class=\"sk-top-container\"><div class=\"sk-text-repr-fallback\"><pre>OneHotEncoder()</pre><b>In a Jupyter environment, please rerun this cell to show the HTML representation or trust the notebook. <br />On GitHub, the HTML representation is unable to render, please try loading this page with nbviewer.org.</b></div><div class=\"sk-container\" hidden><div class=\"sk-item\"><div class=\"sk-estimator sk-toggleable\"><input class=\"sk-toggleable__control sk-hidden--visually\" id=\"sk-estimator-id-1\" type=\"checkbox\" checked><label for=\"sk-estimator-id-1\" class=\"sk-toggleable__label sk-toggleable__label-arrow\">OneHotEncoder</label><div class=\"sk-toggleable__content\"><pre>OneHotEncoder()</pre></div></div></div></div></div>"
      ],
      "text/plain": [
       "OneHotEncoder()"
      ]
     },
     "execution_count": 67,
     "metadata": {},
     "output_type": "execute_result"
    }
   ],
   "source": [
    "ohe = OneHotEncoder()\n",
    "ohe.fit(x[[\"manufacturer\", \"condition\", \"cylinders\", \"fuel\", \n",
    "           \"transmission\", \"drive\" , \"type\",\"model_updated\"]])"
   ]
  },
  {
   "cell_type": "code",
   "execution_count": 68,
   "id": "5fa5ba00",
   "metadata": {},
   "outputs": [
    {
     "data": {
      "text/plain": [
       "price            float64\n",
       "year               int32\n",
       "manufacturer      object\n",
       "model_updated     object\n",
       "condition         object\n",
       "cylinders         object\n",
       "fuel              object\n",
       "transmission      object\n",
       "drive             object\n",
       "type              object\n",
       "dtype: object"
      ]
     },
     "execution_count": 68,
     "metadata": {},
     "output_type": "execute_result"
    }
   ],
   "source": [
    "Cars_df.dtypes"
   ]
  },
  {
   "cell_type": "code",
   "execution_count": 69,
   "id": "2f5f4367",
   "metadata": {},
   "outputs": [
    {
     "data": {
      "text/plain": [
       "[array(['Acura', 'Alfa-Romeo', 'Aston-Martin', 'Audi', 'Bmw', 'Buick',\n",
       "        'Cadillac', 'Chevrolet', 'Chrysler', 'Datsun', 'Dodge', 'Ferrari',\n",
       "        'Fiat', 'Ford', 'Gmc', 'Harley-Davidson', 'Honda', 'Hyundai',\n",
       "        'Infiniti', 'Jaguar', 'Jeep', 'Kia', 'Land Rover', 'Lexus',\n",
       "        'Lincoln', 'Mazda', 'Mercedes-Benz', 'Mercury', 'Mini',\n",
       "        'Mitsubishi', 'Nissan', 'Pontiac', 'Porsche', 'Ram', 'Rover',\n",
       "        'Saturn', 'Subaru', 'Tesla', 'Toyota', 'Volkswagen', 'Volvo'],\n",
       "       dtype=object),\n",
       " array(['Excellent', 'Fair', 'Good', 'Like New', 'New', 'Salvage'],\n",
       "       dtype=object),\n",
       " array(['10 cylinders', '12 cylinders', '3 cylinders', '4 cylinders',\n",
       "        '5 cylinders', '6 cylinders', '8 cylinders', 'other'], dtype=object),\n",
       " array(['Diesel', 'Electric', 'Gas', 'Hybrid', 'Other'], dtype=object),\n",
       " array(['Automatic', 'Manual', 'Other'], dtype=object),\n",
       " array(['4Wd', 'Fwd', 'Rwd'], dtype=object),\n",
       " array(['Bus', 'Convertible', 'Coupe', 'Hatchback', 'Mini-Van', 'Offroad',\n",
       "        'Other', 'Pickup', 'Sedan', 'Suv', 'Truck', 'Van', 'Wagon'],\n",
       "       dtype=object),\n",
       " array(['Acura 2002 Rsx', 'Acura 3.0Cl', 'Acura 3.2 Cl', ...,\n",
       "        'Volvo Xc90 T6', 'Volvo Xc90 T8', 'Volvo Xc90 V8'], dtype=object)]"
      ]
     },
     "execution_count": 69,
     "metadata": {},
     "output_type": "execute_result"
    }
   ],
   "source": [
    "ohe.categories_"
   ]
  },
  {
   "cell_type": "code",
   "execution_count": 70,
   "id": "1238c45a",
   "metadata": {},
   "outputs": [],
   "source": [
    "column_trans = make_column_transformer((OneHotEncoder(categories=ohe.categories_),\n",
    "                                       [\"manufacturer\", \"condition\", \"cylinders\", \"fuel\", \n",
    "           \"transmission\", \"drive\" , \"type\",\"model_updated\"]), remainder=\"passthrough\")"
   ]
  },
  {
   "cell_type": "code",
   "execution_count": 71,
   "id": "9cf43afc",
   "metadata": {},
   "outputs": [],
   "source": [
    "lr=LinearRegression()"
   ]
  },
  {
   "cell_type": "code",
   "execution_count": 72,
   "id": "d46fd4ae",
   "metadata": {},
   "outputs": [],
   "source": [
    "pipe=make_pipeline(column_trans,lr)"
   ]
  },
  {
   "cell_type": "code",
   "execution_count": 73,
   "id": "25428198",
   "metadata": {},
   "outputs": [
    {
     "data": {
      "text/html": [
       "<style>#sk-container-id-2 {color: black;background-color: white;}#sk-container-id-2 pre{padding: 0;}#sk-container-id-2 div.sk-toggleable {background-color: white;}#sk-container-id-2 label.sk-toggleable__label {cursor: pointer;display: block;width: 100%;margin-bottom: 0;padding: 0.3em;box-sizing: border-box;text-align: center;}#sk-container-id-2 label.sk-toggleable__label-arrow:before {content: \"▸\";float: left;margin-right: 0.25em;color: #696969;}#sk-container-id-2 label.sk-toggleable__label-arrow:hover:before {color: black;}#sk-container-id-2 div.sk-estimator:hover label.sk-toggleable__label-arrow:before {color: black;}#sk-container-id-2 div.sk-toggleable__content {max-height: 0;max-width: 0;overflow: hidden;text-align: left;background-color: #f0f8ff;}#sk-container-id-2 div.sk-toggleable__content pre {margin: 0.2em;color: black;border-radius: 0.25em;background-color: #f0f8ff;}#sk-container-id-2 input.sk-toggleable__control:checked~div.sk-toggleable__content {max-height: 200px;max-width: 100%;overflow: auto;}#sk-container-id-2 input.sk-toggleable__control:checked~label.sk-toggleable__label-arrow:before {content: \"▾\";}#sk-container-id-2 div.sk-estimator input.sk-toggleable__control:checked~label.sk-toggleable__label {background-color: #d4ebff;}#sk-container-id-2 div.sk-label input.sk-toggleable__control:checked~label.sk-toggleable__label {background-color: #d4ebff;}#sk-container-id-2 input.sk-hidden--visually {border: 0;clip: rect(1px 1px 1px 1px);clip: rect(1px, 1px, 1px, 1px);height: 1px;margin: -1px;overflow: hidden;padding: 0;position: absolute;width: 1px;}#sk-container-id-2 div.sk-estimator {font-family: monospace;background-color: #f0f8ff;border: 1px dotted black;border-radius: 0.25em;box-sizing: border-box;margin-bottom: 0.5em;}#sk-container-id-2 div.sk-estimator:hover {background-color: #d4ebff;}#sk-container-id-2 div.sk-parallel-item::after {content: \"\";width: 100%;border-bottom: 1px solid gray;flex-grow: 1;}#sk-container-id-2 div.sk-label:hover label.sk-toggleable__label {background-color: #d4ebff;}#sk-container-id-2 div.sk-serial::before {content: \"\";position: absolute;border-left: 1px solid gray;box-sizing: border-box;top: 0;bottom: 0;left: 50%;z-index: 0;}#sk-container-id-2 div.sk-serial {display: flex;flex-direction: column;align-items: center;background-color: white;padding-right: 0.2em;padding-left: 0.2em;position: relative;}#sk-container-id-2 div.sk-item {position: relative;z-index: 1;}#sk-container-id-2 div.sk-parallel {display: flex;align-items: stretch;justify-content: center;background-color: white;position: relative;}#sk-container-id-2 div.sk-item::before, #sk-container-id-2 div.sk-parallel-item::before {content: \"\";position: absolute;border-left: 1px solid gray;box-sizing: border-box;top: 0;bottom: 0;left: 50%;z-index: -1;}#sk-container-id-2 div.sk-parallel-item {display: flex;flex-direction: column;z-index: 1;position: relative;background-color: white;}#sk-container-id-2 div.sk-parallel-item:first-child::after {align-self: flex-end;width: 50%;}#sk-container-id-2 div.sk-parallel-item:last-child::after {align-self: flex-start;width: 50%;}#sk-container-id-2 div.sk-parallel-item:only-child::after {width: 0;}#sk-container-id-2 div.sk-dashed-wrapped {border: 1px dashed gray;margin: 0 0.4em 0.5em 0.4em;box-sizing: border-box;padding-bottom: 0.4em;background-color: white;}#sk-container-id-2 div.sk-label label {font-family: monospace;font-weight: bold;display: inline-block;line-height: 1.2em;}#sk-container-id-2 div.sk-label-container {text-align: center;}#sk-container-id-2 div.sk-container {/* jupyter's `normalize.less` sets `[hidden] { display: none; }` but bootstrap.min.css set `[hidden] { display: none !important; }` so we also need the `!important` here to be able to override the default hidden behavior on the sphinx rendered scikit-learn.org. See: https://github.com/scikit-learn/scikit-learn/issues/21755 */display: inline-block !important;position: relative;}#sk-container-id-2 div.sk-text-repr-fallback {display: none;}</style><div id=\"sk-container-id-2\" class=\"sk-top-container\"><div class=\"sk-text-repr-fallback\"><pre>Pipeline(steps=[(&#x27;columntransformer&#x27;,\n",
       "                 ColumnTransformer(remainder=&#x27;passthrough&#x27;,\n",
       "                                   transformers=[(&#x27;onehotencoder&#x27;,\n",
       "                                                  OneHotEncoder(categories=[array([&#x27;Acura&#x27;, &#x27;Alfa-Romeo&#x27;, &#x27;Aston-Martin&#x27;, &#x27;Audi&#x27;, &#x27;Bmw&#x27;, &#x27;Buick&#x27;,\n",
       "       &#x27;Cadillac&#x27;, &#x27;Chevrolet&#x27;, &#x27;Chrysler&#x27;, &#x27;Datsun&#x27;, &#x27;Dodge&#x27;, &#x27;Ferrari&#x27;,\n",
       "       &#x27;Fiat&#x27;, &#x27;Ford&#x27;, &#x27;Gmc&#x27;, &#x27;Harley-Davidson&#x27;, &#x27;Honda&#x27;, &#x27;Hyundai&#x27;,\n",
       "       &#x27;Infiniti&#x27;, &#x27;Jaguar&#x27;, &#x27;Jeep&#x27;, &#x27;Kia&#x27;,...\n",
       "                                                                            array([&#x27;Bus&#x27;, &#x27;Convertible&#x27;, &#x27;Coupe&#x27;, &#x27;Hatchback&#x27;, &#x27;Mini-Van&#x27;, &#x27;Offroad&#x27;,\n",
       "       &#x27;Other&#x27;, &#x27;Pickup&#x27;, &#x27;Sedan&#x27;, &#x27;Suv&#x27;, &#x27;Truck&#x27;, &#x27;Van&#x27;, &#x27;Wagon&#x27;],\n",
       "      dtype=object),\n",
       "                                                                            array([&#x27;Acura 2002 Rsx&#x27;, &#x27;Acura 3.0Cl&#x27;, &#x27;Acura 3.2 Cl&#x27;, ...,\n",
       "       &#x27;Volvo Xc90 T6&#x27;, &#x27;Volvo Xc90 T8&#x27;, &#x27;Volvo Xc90 V8&#x27;], dtype=object)]),\n",
       "                                                  [&#x27;manufacturer&#x27;, &#x27;condition&#x27;,\n",
       "                                                   &#x27;cylinders&#x27;, &#x27;fuel&#x27;,\n",
       "                                                   &#x27;transmission&#x27;, &#x27;drive&#x27;,\n",
       "                                                   &#x27;type&#x27;,\n",
       "                                                   &#x27;model_updated&#x27;])])),\n",
       "                (&#x27;linearregression&#x27;, LinearRegression())])</pre><b>In a Jupyter environment, please rerun this cell to show the HTML representation or trust the notebook. <br />On GitHub, the HTML representation is unable to render, please try loading this page with nbviewer.org.</b></div><div class=\"sk-container\" hidden><div class=\"sk-item sk-dashed-wrapped\"><div class=\"sk-label-container\"><div class=\"sk-label sk-toggleable\"><input class=\"sk-toggleable__control sk-hidden--visually\" id=\"sk-estimator-id-2\" type=\"checkbox\" ><label for=\"sk-estimator-id-2\" class=\"sk-toggleable__label sk-toggleable__label-arrow\">Pipeline</label><div class=\"sk-toggleable__content\"><pre>Pipeline(steps=[(&#x27;columntransformer&#x27;,\n",
       "                 ColumnTransformer(remainder=&#x27;passthrough&#x27;,\n",
       "                                   transformers=[(&#x27;onehotencoder&#x27;,\n",
       "                                                  OneHotEncoder(categories=[array([&#x27;Acura&#x27;, &#x27;Alfa-Romeo&#x27;, &#x27;Aston-Martin&#x27;, &#x27;Audi&#x27;, &#x27;Bmw&#x27;, &#x27;Buick&#x27;,\n",
       "       &#x27;Cadillac&#x27;, &#x27;Chevrolet&#x27;, &#x27;Chrysler&#x27;, &#x27;Datsun&#x27;, &#x27;Dodge&#x27;, &#x27;Ferrari&#x27;,\n",
       "       &#x27;Fiat&#x27;, &#x27;Ford&#x27;, &#x27;Gmc&#x27;, &#x27;Harley-Davidson&#x27;, &#x27;Honda&#x27;, &#x27;Hyundai&#x27;,\n",
       "       &#x27;Infiniti&#x27;, &#x27;Jaguar&#x27;, &#x27;Jeep&#x27;, &#x27;Kia&#x27;,...\n",
       "                                                                            array([&#x27;Bus&#x27;, &#x27;Convertible&#x27;, &#x27;Coupe&#x27;, &#x27;Hatchback&#x27;, &#x27;Mini-Van&#x27;, &#x27;Offroad&#x27;,\n",
       "       &#x27;Other&#x27;, &#x27;Pickup&#x27;, &#x27;Sedan&#x27;, &#x27;Suv&#x27;, &#x27;Truck&#x27;, &#x27;Van&#x27;, &#x27;Wagon&#x27;],\n",
       "      dtype=object),\n",
       "                                                                            array([&#x27;Acura 2002 Rsx&#x27;, &#x27;Acura 3.0Cl&#x27;, &#x27;Acura 3.2 Cl&#x27;, ...,\n",
       "       &#x27;Volvo Xc90 T6&#x27;, &#x27;Volvo Xc90 T8&#x27;, &#x27;Volvo Xc90 V8&#x27;], dtype=object)]),\n",
       "                                                  [&#x27;manufacturer&#x27;, &#x27;condition&#x27;,\n",
       "                                                   &#x27;cylinders&#x27;, &#x27;fuel&#x27;,\n",
       "                                                   &#x27;transmission&#x27;, &#x27;drive&#x27;,\n",
       "                                                   &#x27;type&#x27;,\n",
       "                                                   &#x27;model_updated&#x27;])])),\n",
       "                (&#x27;linearregression&#x27;, LinearRegression())])</pre></div></div></div><div class=\"sk-serial\"><div class=\"sk-item sk-dashed-wrapped\"><div class=\"sk-label-container\"><div class=\"sk-label sk-toggleable\"><input class=\"sk-toggleable__control sk-hidden--visually\" id=\"sk-estimator-id-3\" type=\"checkbox\" ><label for=\"sk-estimator-id-3\" class=\"sk-toggleable__label sk-toggleable__label-arrow\">columntransformer: ColumnTransformer</label><div class=\"sk-toggleable__content\"><pre>ColumnTransformer(remainder=&#x27;passthrough&#x27;,\n",
       "                  transformers=[(&#x27;onehotencoder&#x27;,\n",
       "                                 OneHotEncoder(categories=[array([&#x27;Acura&#x27;, &#x27;Alfa-Romeo&#x27;, &#x27;Aston-Martin&#x27;, &#x27;Audi&#x27;, &#x27;Bmw&#x27;, &#x27;Buick&#x27;,\n",
       "       &#x27;Cadillac&#x27;, &#x27;Chevrolet&#x27;, &#x27;Chrysler&#x27;, &#x27;Datsun&#x27;, &#x27;Dodge&#x27;, &#x27;Ferrari&#x27;,\n",
       "       &#x27;Fiat&#x27;, &#x27;Ford&#x27;, &#x27;Gmc&#x27;, &#x27;Harley-Davidson&#x27;, &#x27;Honda&#x27;, &#x27;Hyundai&#x27;,\n",
       "       &#x27;Infiniti&#x27;, &#x27;Jaguar&#x27;, &#x27;Jeep&#x27;, &#x27;Kia&#x27;, &#x27;Land Rover&#x27;, &#x27;Lexus&#x27;,\n",
       "       &#x27;Lincoln&#x27;, &#x27;Mazda&#x27;...\n",
       "                                                           array([&#x27;4Wd&#x27;, &#x27;Fwd&#x27;, &#x27;Rwd&#x27;], dtype=object),\n",
       "                                                           array([&#x27;Bus&#x27;, &#x27;Convertible&#x27;, &#x27;Coupe&#x27;, &#x27;Hatchback&#x27;, &#x27;Mini-Van&#x27;, &#x27;Offroad&#x27;,\n",
       "       &#x27;Other&#x27;, &#x27;Pickup&#x27;, &#x27;Sedan&#x27;, &#x27;Suv&#x27;, &#x27;Truck&#x27;, &#x27;Van&#x27;, &#x27;Wagon&#x27;],\n",
       "      dtype=object),\n",
       "                                                           array([&#x27;Acura 2002 Rsx&#x27;, &#x27;Acura 3.0Cl&#x27;, &#x27;Acura 3.2 Cl&#x27;, ...,\n",
       "       &#x27;Volvo Xc90 T6&#x27;, &#x27;Volvo Xc90 T8&#x27;, &#x27;Volvo Xc90 V8&#x27;], dtype=object)]),\n",
       "                                 [&#x27;manufacturer&#x27;, &#x27;condition&#x27;, &#x27;cylinders&#x27;,\n",
       "                                  &#x27;fuel&#x27;, &#x27;transmission&#x27;, &#x27;drive&#x27;, &#x27;type&#x27;,\n",
       "                                  &#x27;model_updated&#x27;])])</pre></div></div></div><div class=\"sk-parallel\"><div class=\"sk-parallel-item\"><div class=\"sk-item\"><div class=\"sk-label-container\"><div class=\"sk-label sk-toggleable\"><input class=\"sk-toggleable__control sk-hidden--visually\" id=\"sk-estimator-id-4\" type=\"checkbox\" ><label for=\"sk-estimator-id-4\" class=\"sk-toggleable__label sk-toggleable__label-arrow\">onehotencoder</label><div class=\"sk-toggleable__content\"><pre>[&#x27;manufacturer&#x27;, &#x27;condition&#x27;, &#x27;cylinders&#x27;, &#x27;fuel&#x27;, &#x27;transmission&#x27;, &#x27;drive&#x27;, &#x27;type&#x27;, &#x27;model_updated&#x27;]</pre></div></div></div><div class=\"sk-serial\"><div class=\"sk-item\"><div class=\"sk-estimator sk-toggleable\"><input class=\"sk-toggleable__control sk-hidden--visually\" id=\"sk-estimator-id-5\" type=\"checkbox\" ><label for=\"sk-estimator-id-5\" class=\"sk-toggleable__label sk-toggleable__label-arrow\">OneHotEncoder</label><div class=\"sk-toggleable__content\"><pre>OneHotEncoder(categories=[array([&#x27;Acura&#x27;, &#x27;Alfa-Romeo&#x27;, &#x27;Aston-Martin&#x27;, &#x27;Audi&#x27;, &#x27;Bmw&#x27;, &#x27;Buick&#x27;,\n",
       "       &#x27;Cadillac&#x27;, &#x27;Chevrolet&#x27;, &#x27;Chrysler&#x27;, &#x27;Datsun&#x27;, &#x27;Dodge&#x27;, &#x27;Ferrari&#x27;,\n",
       "       &#x27;Fiat&#x27;, &#x27;Ford&#x27;, &#x27;Gmc&#x27;, &#x27;Harley-Davidson&#x27;, &#x27;Honda&#x27;, &#x27;Hyundai&#x27;,\n",
       "       &#x27;Infiniti&#x27;, &#x27;Jaguar&#x27;, &#x27;Jeep&#x27;, &#x27;Kia&#x27;, &#x27;Land Rover&#x27;, &#x27;Lexus&#x27;,\n",
       "       &#x27;Lincoln&#x27;, &#x27;Mazda&#x27;, &#x27;Mercedes-Benz&#x27;, &#x27;Mercury&#x27;, &#x27;Mini&#x27;,\n",
       "       &#x27;Mitsubishi&#x27;, &#x27;Nissan&#x27;, &#x27;Pontiac&#x27;, &#x27;Porsch...\n",
       "                          array([&#x27;Diesel&#x27;, &#x27;Electric&#x27;, &#x27;Gas&#x27;, &#x27;Hybrid&#x27;, &#x27;Other&#x27;], dtype=object),\n",
       "                          array([&#x27;Automatic&#x27;, &#x27;Manual&#x27;, &#x27;Other&#x27;], dtype=object),\n",
       "                          array([&#x27;4Wd&#x27;, &#x27;Fwd&#x27;, &#x27;Rwd&#x27;], dtype=object),\n",
       "                          array([&#x27;Bus&#x27;, &#x27;Convertible&#x27;, &#x27;Coupe&#x27;, &#x27;Hatchback&#x27;, &#x27;Mini-Van&#x27;, &#x27;Offroad&#x27;,\n",
       "       &#x27;Other&#x27;, &#x27;Pickup&#x27;, &#x27;Sedan&#x27;, &#x27;Suv&#x27;, &#x27;Truck&#x27;, &#x27;Van&#x27;, &#x27;Wagon&#x27;],\n",
       "      dtype=object),\n",
       "                          array([&#x27;Acura 2002 Rsx&#x27;, &#x27;Acura 3.0Cl&#x27;, &#x27;Acura 3.2 Cl&#x27;, ...,\n",
       "       &#x27;Volvo Xc90 T6&#x27;, &#x27;Volvo Xc90 T8&#x27;, &#x27;Volvo Xc90 V8&#x27;], dtype=object)])</pre></div></div></div></div></div></div><div class=\"sk-parallel-item\"><div class=\"sk-item\"><div class=\"sk-label-container\"><div class=\"sk-label sk-toggleable\"><input class=\"sk-toggleable__control sk-hidden--visually\" id=\"sk-estimator-id-6\" type=\"checkbox\" ><label for=\"sk-estimator-id-6\" class=\"sk-toggleable__label sk-toggleable__label-arrow\">remainder</label><div class=\"sk-toggleable__content\"><pre>[&#x27;year&#x27;]</pre></div></div></div><div class=\"sk-serial\"><div class=\"sk-item\"><div class=\"sk-estimator sk-toggleable\"><input class=\"sk-toggleable__control sk-hidden--visually\" id=\"sk-estimator-id-7\" type=\"checkbox\" ><label for=\"sk-estimator-id-7\" class=\"sk-toggleable__label sk-toggleable__label-arrow\">passthrough</label><div class=\"sk-toggleable__content\"><pre>passthrough</pre></div></div></div></div></div></div></div></div><div class=\"sk-item\"><div class=\"sk-estimator sk-toggleable\"><input class=\"sk-toggleable__control sk-hidden--visually\" id=\"sk-estimator-id-8\" type=\"checkbox\" ><label for=\"sk-estimator-id-8\" class=\"sk-toggleable__label sk-toggleable__label-arrow\">LinearRegression</label><div class=\"sk-toggleable__content\"><pre>LinearRegression()</pre></div></div></div></div></div></div></div>"
      ],
      "text/plain": [
       "Pipeline(steps=[('columntransformer',\n",
       "                 ColumnTransformer(remainder='passthrough',\n",
       "                                   transformers=[('onehotencoder',\n",
       "                                                  OneHotEncoder(categories=[array(['Acura', 'Alfa-Romeo', 'Aston-Martin', 'Audi', 'Bmw', 'Buick',\n",
       "       'Cadillac', 'Chevrolet', 'Chrysler', 'Datsun', 'Dodge', 'Ferrari',\n",
       "       'Fiat', 'Ford', 'Gmc', 'Harley-Davidson', 'Honda', 'Hyundai',\n",
       "       'Infiniti', 'Jaguar', 'Jeep', 'Kia',...\n",
       "                                                                            array(['Bus', 'Convertible', 'Coupe', 'Hatchback', 'Mini-Van', 'Offroad',\n",
       "       'Other', 'Pickup', 'Sedan', 'Suv', 'Truck', 'Van', 'Wagon'],\n",
       "      dtype=object),\n",
       "                                                                            array(['Acura 2002 Rsx', 'Acura 3.0Cl', 'Acura 3.2 Cl', ...,\n",
       "       'Volvo Xc90 T6', 'Volvo Xc90 T8', 'Volvo Xc90 V8'], dtype=object)]),\n",
       "                                                  ['manufacturer', 'condition',\n",
       "                                                   'cylinders', 'fuel',\n",
       "                                                   'transmission', 'drive',\n",
       "                                                   'type',\n",
       "                                                   'model_updated'])])),\n",
       "                ('linearregression', LinearRegression())])"
      ]
     },
     "execution_count": 73,
     "metadata": {},
     "output_type": "execute_result"
    }
   ],
   "source": [
    "pipe.fit(x_train, y_train)"
   ]
  },
  {
   "cell_type": "code",
   "execution_count": 74,
   "id": "e8d020cd",
   "metadata": {},
   "outputs": [],
   "source": [
    "y_pred=pipe.predict(x_test)"
   ]
  },
  {
   "cell_type": "code",
   "execution_count": 75,
   "id": "657125bd",
   "metadata": {},
   "outputs": [
    {
     "data": {
      "text/plain": [
       "array([ 1929.47844757, 40016.23105435, 35566.68107264, ...,\n",
       "       26874.67734781,  5655.35947479, 33086.35843735])"
      ]
     },
     "execution_count": 75,
     "metadata": {},
     "output_type": "execute_result"
    }
   ],
   "source": [
    "y_pred"
   ]
  },
  {
   "cell_type": "code",
   "execution_count": 76,
   "id": "2879dd1e",
   "metadata": {},
   "outputs": [
    {
     "data": {
      "text/plain": [
       "0.6099570296583919"
      ]
     },
     "execution_count": 76,
     "metadata": {},
     "output_type": "execute_result"
    }
   ],
   "source": [
    "# checking for r2 socre\n",
    "r2_score(y_test, y_pred)"
   ]
  },
  {
   "cell_type": "code",
   "execution_count": 77,
   "id": "3fc0acb4",
   "metadata": {},
   "outputs": [
    {
     "name": "stdout",
     "output_type": "stream",
     "text": [
      "0 0.616331455975915\n",
      "1 0.6339102676445632\n",
      "2 0.6247209508353293\n",
      "3 0.6396498858370699\n",
      "4 0.6288588486740689\n",
      "5 0.6233024771306473\n",
      "6 0.6297006230116027\n",
      "7 0.6387761705431845\n",
      "8 0.6296276961696071\n",
      "9 0.6332590294211027\n",
      "10 0.6324840906841125\n",
      "11 0.6284749292849464\n",
      "12 0.6267223484157216\n",
      "13 0.6226054847815774\n",
      "14 0.6300521385513794\n",
      "15 0.6427139518981047\n",
      "16 0.6349361054932946\n",
      "17 0.6311337177093757\n",
      "18 0.6224667805002144\n",
      "19 0.6366521797643651\n",
      "20 0.6401450508614448\n",
      "21 0.6327486001990021\n",
      "22 0.629478219603371\n",
      "23 0.6279094715102485\n",
      "24 0.6217847046703624\n",
      "25 0.6364024157791199\n",
      "26 0.6199849705380842\n",
      "27 0.6304362613932366\n",
      "28 0.6284720847503955\n",
      "29 0.6324296734673267\n",
      "30 0.6124272559043575\n",
      "31 0.6213200713774127\n",
      "32 0.629460986263116\n",
      "33 0.6312917636630735\n",
      "34 0.6263652707360584\n",
      "35 0.6301769047804021\n",
      "36 0.6209475851208581\n",
      "37 0.6216204365670208\n",
      "38 0.6208786240468002\n",
      "39 0.6229446155855077\n",
      "40 0.6344094409229548\n",
      "41 0.6341651143632149\n",
      "42 0.6331708583256301\n",
      "43 0.6217971146945278\n",
      "44 0.6182101669609725\n",
      "45 0.6121096380552833\n",
      "46 0.6332702755747683\n",
      "47 0.6186275707306389\n",
      "48 0.6335033397390992\n",
      "49 0.6249034510428705\n",
      "50 0.6151332786137953\n",
      "51 0.6191316316322715\n",
      "52 0.6307986379321231\n",
      "53 0.6351990436702037\n",
      "54 0.6176374529472692\n",
      "55 0.6227511032410071\n",
      "56 0.626219253852951\n",
      "57 0.6374778089847319\n",
      "58 0.6314324743844073\n",
      "59 0.6257958633421642\n",
      "60 0.6363614163273354\n",
      "61 0.6183603889865461\n",
      "62 0.6265047665694352\n",
      "63 0.6276895616755077\n",
      "64 0.6207156456780034\n",
      "65 0.6374357885182639\n",
      "66 0.6287045728140104\n",
      "67 0.633842468701888\n",
      "68 0.6256063671759695\n",
      "69 0.6254216284381781\n",
      "70 0.6286067023003798\n",
      "71 0.6340367409320675\n",
      "72 0.6176632018926416\n",
      "73 0.6294732136930468\n",
      "74 0.6277503109290179\n",
      "75 0.6307911574578688\n",
      "76 0.6353331714752181\n",
      "77 0.6193824128731138\n",
      "78 0.6288827010128254\n",
      "79 0.6272760545959326\n",
      "80 0.6084156504972065\n",
      "81 0.6324898546367177\n",
      "82 0.6287778505825863\n",
      "83 0.6261624020172747\n",
      "84 0.6284494036336006\n",
      "85 0.6379881415607147\n",
      "86 0.632365422032737\n",
      "87 0.6136184344723068\n",
      "88 0.6158149310850631\n",
      "89 0.6305240102274052\n",
      "90 0.623877002201483\n",
      "91 0.6345672819181399\n",
      "92 0.6362904918826636\n",
      "93 0.6394859146350279\n",
      "94 0.6281474320684096\n",
      "95 0.6226911906739769\n",
      "96 0.6234746223648402\n",
      "97 0.6250959481950211\n",
      "98 0.6292047468816058\n",
      "99 0.6368715573690036\n"
     ]
    }
   ],
   "source": [
    "# checking for maximum possible r2 scores\n",
    "scores = []\n",
    "for i in range(100):\n",
    "    x_train, x_test, y_train, y_test = train_test_split(x,y, test_size=0.2, random_state=i)\n",
    "    lr=LinearRegression()\n",
    "    pipe=make_pipeline(column_trans,lr)\n",
    "    pipe.fit(x_train, y_train)\n",
    "    y_pred=pipe.predict(x_test)\n",
    "    print(i, r2_score(y_test, y_pred))\n",
    "    scores.append(r2_score(y_test, y_pred))"
   ]
  },
  {
   "cell_type": "code",
   "execution_count": 78,
   "id": "40a7d8f5",
   "metadata": {},
   "outputs": [
    {
     "data": {
      "text/plain": [
       "15"
      ]
     },
     "execution_count": 78,
     "metadata": {},
     "output_type": "execute_result"
    }
   ],
   "source": [
    "np.argmax(scores)"
   ]
  },
  {
   "cell_type": "code",
   "execution_count": 79,
   "id": "bcb6b287",
   "metadata": {},
   "outputs": [
    {
     "data": {
      "text/plain": [
       "0.6427139518981047"
      ]
     },
     "execution_count": 79,
     "metadata": {},
     "output_type": "execute_result"
    }
   ],
   "source": [
    "scores[np.argmax(scores)]"
   ]
  },
  {
   "cell_type": "code",
   "execution_count": 80,
   "id": "8a1d9bb1",
   "metadata": {},
   "outputs": [
    {
     "data": {
      "text/plain": [
       "0.6427139518981047"
      ]
     },
     "execution_count": 80,
     "metadata": {},
     "output_type": "execute_result"
    }
   ],
   "source": [
    "x_train, x_test, y_train, y_test = train_test_split(x,y, test_size=0.2, random_state=np.argmax(scores))\n",
    "lr=LinearRegression()\n",
    "pipe=make_pipeline(column_trans,lr)\n",
    "pipe.fit(x_train, y_train)\n",
    "y_pred=pipe.predict(x_test)\n",
    "r2_score(y_test, y_pred)"
   ]
  },
  {
   "cell_type": "code",
   "execution_count": 81,
   "id": "e818e577",
   "metadata": {},
   "outputs": [],
   "source": [
    "import pickle"
   ]
  },
  {
   "cell_type": "code",
   "execution_count": 82,
   "id": "6b45f563",
   "metadata": {},
   "outputs": [],
   "source": [
    "pickle.dump(pipe,open(\"LinearRegressionModel.pkl\", \"wb\"))\n",
    "pickle.dump(pipe,open(\"WebDeployment/LinearRegressionModel.pkl\", \"wb\"))"
   ]
  },
  {
   "cell_type": "code",
   "execution_count": 83,
   "id": "a60b91df",
   "metadata": {},
   "outputs": [
    {
     "data": {
      "text/plain": [
       "array([13331.06614585])"
      ]
     },
     "execution_count": 83,
     "metadata": {},
     "output_type": "execute_result"
    }
   ],
   "source": [
    "pipe.predict(pd.DataFrame([[\"2000\", \"Ford\", \"Good\", \n",
    "                            \"6 cylinders\", \"Diesel\", 90000, \"Automatic\",\n",
    "                            \"Fwd\", \"Suv\", \"Ford F-150\"]], \n",
    "                          columns=[\"year\",\"manufacturer\",\"condition\",\n",
    "                                   \"cylinders\",\"fuel\",\"Distance_Traveled\",\n",
    "                                   \"transmission\",\"drive\", \"type\", \"model_updated\",]))"
   ]
  },
  {
   "cell_type": "code",
   "execution_count": 84,
   "id": "38f9cbb1",
   "metadata": {},
   "outputs": [
    {
     "data": {
      "text/plain": [
       "0.75"
      ]
     },
     "execution_count": 84,
     "metadata": {},
     "output_type": "execute_result"
    }
   ],
   "source": [
    "from sklearn import metrics\n",
    "test_y, linear_predicted_rating = [1,2,3,4], [1,2,3,5]\n",
    "metrics.accuracy_score(test_y, linear_predicted_rating)"
   ]
  },
  {
   "cell_type": "code",
   "execution_count": null,
   "id": "20e6e927",
   "metadata": {},
   "outputs": [],
   "source": []
  }
 ],
 "metadata": {
  "kernelspec": {
   "display_name": "Python 3 (ipykernel)",
   "language": "python",
   "name": "python3"
  },
  "language_info": {
   "codemirror_mode": {
    "name": "ipython",
    "version": 3
   },
   "file_extension": ".py",
   "mimetype": "text/x-python",
   "name": "python",
   "nbconvert_exporter": "python",
   "pygments_lexer": "ipython3",
   "version": "3.9.7"
  }
 },
 "nbformat": 4,
 "nbformat_minor": 5
}
